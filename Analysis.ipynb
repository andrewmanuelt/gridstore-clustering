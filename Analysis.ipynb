{
  "cells": [
    {
      "cell_type": "code",
      "execution_count": 101,
      "metadata": {
        "id": "6gZrWmc_s4aQ"
      },
      "outputs": [],
      "source": [
        "# https://www.kaggle.com/code/hellbuoy/online-retail-k-means-hierarchical-clustering/notebook#Business-Goal\n",
        "\n",
        "import pandas as pd\n",
        "import numpy as np\n",
        "\n",
        "import matplotlib.pyplot as plt\n",
        "import seaborn as sns\n",
        "\n",
        "from sklearn.preprocessing import StandardScaler\n",
        "from sklearn.decomposition import PCA\n",
        "from sklearn.metrics import silhouette_score\n",
        "\n",
        "from sklearn.cluster import KMeans"
      ]
    },
    {
      "cell_type": "code",
      "execution_count": 102,
      "metadata": {
        "colab": {
          "base_uri": "https://localhost:8080/",
          "height": 206
        },
        "id": "nJgsNOcCtEFG",
        "outputId": "516c6db7-4435-44c2-9870-5a68de3425e0"
      },
      "outputs": [
        {
          "data": {
            "text/html": [
              "<div>\n",
              "<style scoped>\n",
              "    .dataframe tbody tr th:only-of-type {\n",
              "        vertical-align: middle;\n",
              "    }\n",
              "\n",
              "    .dataframe tbody tr th {\n",
              "        vertical-align: top;\n",
              "    }\n",
              "\n",
              "    .dataframe thead th {\n",
              "        text-align: right;\n",
              "    }\n",
              "</style>\n",
              "<table border=\"1\" class=\"dataframe\">\n",
              "  <thead>\n",
              "    <tr style=\"text-align: right;\">\n",
              "      <th></th>\n",
              "      <th>Unnamed: 0</th>\n",
              "      <th>trans_date</th>\n",
              "      <th>acc_created_date</th>\n",
              "      <th>trans_id</th>\n",
              "      <th>user_id</th>\n",
              "      <th>brand</th>\n",
              "      <th>product_name</th>\n",
              "      <th>quantity</th>\n",
              "      <th>sub_total</th>\n",
              "    </tr>\n",
              "  </thead>\n",
              "  <tbody>\n",
              "    <tr>\n",
              "      <th>0</th>\n",
              "      <td>0</td>\n",
              "      <td>2021-03-01 09:42:48</td>\n",
              "      <td>2021-03-01 09:39:28</td>\n",
              "      <td>INV-44477208-20195</td>\n",
              "      <td>6ae66dba4a</td>\n",
              "      <td>Geo Magazine</td>\n",
              "      <td>Geo Magazine 12 Month Printed Subscription</td>\n",
              "      <td>1</td>\n",
              "      <td>576000</td>\n",
              "    </tr>\n",
              "    <tr>\n",
              "      <th>1</th>\n",
              "      <td>1</td>\n",
              "      <td>2021-03-01 09:42:48</td>\n",
              "      <td>2021-03-01 09:39:28</td>\n",
              "      <td>INV-84260125-20195</td>\n",
              "      <td>6ae66dba4a</td>\n",
              "      <td>Insight Magazine</td>\n",
              "      <td>Insight Magazine 6 Month Printed Subscription</td>\n",
              "      <td>1</td>\n",
              "      <td>120000</td>\n",
              "    </tr>\n",
              "    <tr>\n",
              "      <th>2</th>\n",
              "      <td>2</td>\n",
              "      <td>2021-03-01 10:05:18</td>\n",
              "      <td>2021-03-01 05:10:49</td>\n",
              "      <td>INV-21702404-20196</td>\n",
              "      <td>fecd37e3fa</td>\n",
              "      <td>Kids Creativity Magazine</td>\n",
              "      <td>Kids Creativity Magazine 6 Month Printed Subsc...</td>\n",
              "      <td>1</td>\n",
              "      <td>145600</td>\n",
              "    </tr>\n",
              "    <tr>\n",
              "      <th>3</th>\n",
              "      <td>3</td>\n",
              "      <td>2021-03-01 15:58:35</td>\n",
              "      <td>2021-02-25 18:38:31</td>\n",
              "      <td>INV-46817248-20197</td>\n",
              "      <td>702981082e</td>\n",
              "      <td>Kids Magazine</td>\n",
              "      <td>Kids Magazine 6 Month Printed Subscription</td>\n",
              "      <td>1</td>\n",
              "      <td>291200</td>\n",
              "    </tr>\n",
              "    <tr>\n",
              "      <th>4</th>\n",
              "      <td>4</td>\n",
              "      <td>2021-03-01 16:19:54</td>\n",
              "      <td>2021-03-01 16:16:50</td>\n",
              "      <td>INV-47598177-20198</td>\n",
              "      <td>d1fbab7576</td>\n",
              "      <td>Kindergarten Magazine</td>\n",
              "      <td>Kindergarten Magazine 6 Month Printed Subscrip...</td>\n",
              "      <td>1</td>\n",
              "      <td>182000</td>\n",
              "    </tr>\n",
              "  </tbody>\n",
              "</table>\n",
              "</div>"
            ],
            "text/plain": [
              "   Unnamed: 0           trans_date     acc_created_date            trans_id  \\\n",
              "0           0  2021-03-01 09:42:48  2021-03-01 09:39:28  INV-44477208-20195   \n",
              "1           1  2021-03-01 09:42:48  2021-03-01 09:39:28  INV-84260125-20195   \n",
              "2           2  2021-03-01 10:05:18  2021-03-01 05:10:49  INV-21702404-20196   \n",
              "3           3  2021-03-01 15:58:35  2021-02-25 18:38:31  INV-46817248-20197   \n",
              "4           4  2021-03-01 16:19:54  2021-03-01 16:16:50  INV-47598177-20198   \n",
              "\n",
              "      user_id                     brand  \\\n",
              "0  6ae66dba4a              Geo Magazine   \n",
              "1  6ae66dba4a          Insight Magazine   \n",
              "2  fecd37e3fa  Kids Creativity Magazine   \n",
              "3  702981082e             Kids Magazine   \n",
              "4  d1fbab7576     Kindergarten Magazine   \n",
              "\n",
              "                                        product_name  quantity  sub_total  \n",
              "0         Geo Magazine 12 Month Printed Subscription         1     576000  \n",
              "1      Insight Magazine 6 Month Printed Subscription         1     120000  \n",
              "2  Kids Creativity Magazine 6 Month Printed Subsc...         1     145600  \n",
              "3         Kids Magazine 6 Month Printed Subscription         1     291200  \n",
              "4  Kindergarten Magazine 6 Month Printed Subscrip...         1     182000  "
            ]
          },
          "execution_count": 102,
          "metadata": {},
          "output_type": "execute_result"
        }
      ],
      "source": [
        "df = pd.read_csv('./store_clean.csv')\n",
        "\n",
        "df.head()"
      ]
    },
    {
      "cell_type": "code",
      "execution_count": 103,
      "metadata": {
        "colab": {
          "base_uri": "https://localhost:8080/"
        },
        "id": "aIhqa3pI98dH",
        "outputId": "23763cd6-4f1d-4fbe-edd8-289962cc4c03"
      },
      "outputs": [
        {
          "data": {
            "text/plain": [
              "(5847, 9)"
            ]
          },
          "execution_count": 103,
          "metadata": {},
          "output_type": "execute_result"
        }
      ],
      "source": [
        "df.shape"
      ]
    },
    {
      "cell_type": "code",
      "execution_count": 104,
      "metadata": {
        "colab": {
          "base_uri": "https://localhost:8080/"
        },
        "id": "sQIO4i4q-Vq9",
        "outputId": "038f3cc8-2390-47c1-9f9e-7d4b267afad8"
      },
      "outputs": [
        {
          "data": {
            "text/plain": [
              "False    5847\n",
              "Name: count, dtype: int64"
            ]
          },
          "execution_count": 104,
          "metadata": {},
          "output_type": "execute_result"
        }
      ],
      "source": [
        "df.duplicated().value_counts()"
      ]
    },
    {
      "cell_type": "code",
      "execution_count": 105,
      "metadata": {
        "colab": {
          "base_uri": "https://localhost:8080/"
        },
        "id": "Zd3WUO_5-aXv",
        "outputId": "c6beeb10-5909-4a92-b140-aac7870a160c"
      },
      "outputs": [
        {
          "data": {
            "text/plain": [
              "Unnamed: 0          0\n",
              "trans_date          0\n",
              "acc_created_date    0\n",
              "trans_id            0\n",
              "user_id             0\n",
              "brand               0\n",
              "product_name        0\n",
              "quantity            0\n",
              "sub_total           0\n",
              "dtype: int64"
            ]
          },
          "execution_count": 105,
          "metadata": {},
          "output_type": "execute_result"
        }
      ],
      "source": [
        "df.isnull().sum()"
      ]
    },
    {
      "cell_type": "code",
      "execution_count": 106,
      "metadata": {
        "colab": {
          "base_uri": "https://localhost:8080/",
          "height": 206
        },
        "id": "9r1hyRZVEgzM",
        "outputId": "d05c9bc8-4726-4167-ac3b-b1711b60dd79"
      },
      "outputs": [
        {
          "data": {
            "text/html": [
              "<div>\n",
              "<style scoped>\n",
              "    .dataframe tbody tr th:only-of-type {\n",
              "        vertical-align: middle;\n",
              "    }\n",
              "\n",
              "    .dataframe tbody tr th {\n",
              "        vertical-align: top;\n",
              "    }\n",
              "\n",
              "    .dataframe thead th {\n",
              "        text-align: right;\n",
              "    }\n",
              "</style>\n",
              "<table border=\"1\" class=\"dataframe\">\n",
              "  <thead>\n",
              "    <tr style=\"text-align: right;\">\n",
              "      <th></th>\n",
              "      <th>trans_date</th>\n",
              "      <th>acc_created_date</th>\n",
              "      <th>trans_id</th>\n",
              "      <th>user_id</th>\n",
              "      <th>brand</th>\n",
              "      <th>product_name</th>\n",
              "      <th>quantity</th>\n",
              "      <th>sub_total</th>\n",
              "    </tr>\n",
              "  </thead>\n",
              "  <tbody>\n",
              "    <tr>\n",
              "      <th>0</th>\n",
              "      <td>2021-03-01 09:42:48</td>\n",
              "      <td>2021-03-01 09:39:28</td>\n",
              "      <td>INV-44477208-20195</td>\n",
              "      <td>6ae66dba4a</td>\n",
              "      <td>Geo Magazine</td>\n",
              "      <td>Geo Magazine 12 Month Printed Subscription</td>\n",
              "      <td>1</td>\n",
              "      <td>576000</td>\n",
              "    </tr>\n",
              "    <tr>\n",
              "      <th>1</th>\n",
              "      <td>2021-03-01 09:42:48</td>\n",
              "      <td>2021-03-01 09:39:28</td>\n",
              "      <td>INV-84260125-20195</td>\n",
              "      <td>6ae66dba4a</td>\n",
              "      <td>Insight Magazine</td>\n",
              "      <td>Insight Magazine 6 Month Printed Subscription</td>\n",
              "      <td>1</td>\n",
              "      <td>120000</td>\n",
              "    </tr>\n",
              "    <tr>\n",
              "      <th>2</th>\n",
              "      <td>2021-03-01 10:05:18</td>\n",
              "      <td>2021-03-01 05:10:49</td>\n",
              "      <td>INV-21702404-20196</td>\n",
              "      <td>fecd37e3fa</td>\n",
              "      <td>Kids Creativity Magazine</td>\n",
              "      <td>Kids Creativity Magazine 6 Month Printed Subsc...</td>\n",
              "      <td>1</td>\n",
              "      <td>145600</td>\n",
              "    </tr>\n",
              "    <tr>\n",
              "      <th>3</th>\n",
              "      <td>2021-03-01 15:58:35</td>\n",
              "      <td>2021-02-25 18:38:31</td>\n",
              "      <td>INV-46817248-20197</td>\n",
              "      <td>702981082e</td>\n",
              "      <td>Kids Magazine</td>\n",
              "      <td>Kids Magazine 6 Month Printed Subscription</td>\n",
              "      <td>1</td>\n",
              "      <td>291200</td>\n",
              "    </tr>\n",
              "    <tr>\n",
              "      <th>4</th>\n",
              "      <td>2021-03-01 16:19:54</td>\n",
              "      <td>2021-03-01 16:16:50</td>\n",
              "      <td>INV-47598177-20198</td>\n",
              "      <td>d1fbab7576</td>\n",
              "      <td>Kindergarten Magazine</td>\n",
              "      <td>Kindergarten Magazine 6 Month Printed Subscrip...</td>\n",
              "      <td>1</td>\n",
              "      <td>182000</td>\n",
              "    </tr>\n",
              "  </tbody>\n",
              "</table>\n",
              "</div>"
            ],
            "text/plain": [
              "            trans_date     acc_created_date            trans_id     user_id  \\\n",
              "0  2021-03-01 09:42:48  2021-03-01 09:39:28  INV-44477208-20195  6ae66dba4a   \n",
              "1  2021-03-01 09:42:48  2021-03-01 09:39:28  INV-84260125-20195  6ae66dba4a   \n",
              "2  2021-03-01 10:05:18  2021-03-01 05:10:49  INV-21702404-20196  fecd37e3fa   \n",
              "3  2021-03-01 15:58:35  2021-02-25 18:38:31  INV-46817248-20197  702981082e   \n",
              "4  2021-03-01 16:19:54  2021-03-01 16:16:50  INV-47598177-20198  d1fbab7576   \n",
              "\n",
              "                      brand  \\\n",
              "0              Geo Magazine   \n",
              "1          Insight Magazine   \n",
              "2  Kids Creativity Magazine   \n",
              "3             Kids Magazine   \n",
              "4     Kindergarten Magazine   \n",
              "\n",
              "                                        product_name  quantity  sub_total  \n",
              "0         Geo Magazine 12 Month Printed Subscription         1     576000  \n",
              "1      Insight Magazine 6 Month Printed Subscription         1     120000  \n",
              "2  Kids Creativity Magazine 6 Month Printed Subsc...         1     145600  \n",
              "3         Kids Magazine 6 Month Printed Subscription         1     291200  \n",
              "4  Kindergarten Magazine 6 Month Printed Subscrip...         1     182000  "
            ]
          },
          "execution_count": 106,
          "metadata": {},
          "output_type": "execute_result"
        }
      ],
      "source": [
        "df_rfm = df.copy()\n",
        "\n",
        "df_rfm.drop(columns=['Unnamed: 0'], inplace=True)\n",
        "\n",
        "df_rfm.head()"
      ]
    },
    {
      "cell_type": "code",
      "execution_count": 107,
      "metadata": {
        "colab": {
          "base_uri": "https://localhost:8080/"
        },
        "id": "o7cgNqR7E6Cy",
        "outputId": "0aab62dc-647e-4cd2-b589-dad41f69d609"
      },
      "outputs": [
        {
          "data": {
            "text/plain": [
              "trans_date          object\n",
              "acc_created_date    object\n",
              "trans_id            object\n",
              "user_id             object\n",
              "brand               object\n",
              "product_name        object\n",
              "quantity             int64\n",
              "sub_total            int64\n",
              "dtype: object"
            ]
          },
          "execution_count": 107,
          "metadata": {},
          "output_type": "execute_result"
        }
      ],
      "source": [
        "df_rfm.dtypes"
      ]
    },
    {
      "cell_type": "code",
      "execution_count": 108,
      "metadata": {
        "colab": {
          "base_uri": "https://localhost:8080/"
        },
        "id": "6V0tIL1gFOrt",
        "outputId": "64bf2487-d3b0-4d4b-b691-91b6dc1d27df"
      },
      "outputs": [
        {
          "data": {
            "text/plain": [
              "trans_date          datetime64[ns]\n",
              "acc_created_date    datetime64[ns]\n",
              "trans_id                    object\n",
              "user_id                     object\n",
              "brand                       object\n",
              "product_name                object\n",
              "quantity                     int64\n",
              "sub_total                    int64\n",
              "dtype: object"
            ]
          },
          "execution_count": 108,
          "metadata": {},
          "output_type": "execute_result"
        }
      ],
      "source": [
        "df_rfm['trans_date'] = pd.to_datetime(df_rfm['trans_date'])\n",
        "df_rfm['acc_created_date'] = pd.to_datetime(df_rfm['acc_created_date'])\n",
        "\n",
        "df_rfm.dtypes"
      ]
    },
    {
      "cell_type": "code",
      "execution_count": 109,
      "metadata": {
        "colab": {
          "base_uri": "https://localhost:8080/",
          "height": 261
        },
        "id": "FR9JoC-D-hry",
        "outputId": "123ffcf0-935b-4c19-fd66-e2d6acd1be33"
      },
      "outputs": [
        {
          "data": {
            "text/plain": [
              "user_id\n",
              "001b5eddf7    591500\n",
              "0023cedbf9      7000\n",
              "0024ae4898    436800\n",
              "002d8b5849    204750\n",
              "003e99a26e    145600\n",
              "Name: sub_total, dtype: int64"
            ]
          },
          "execution_count": 109,
          "metadata": {},
          "output_type": "execute_result"
        }
      ],
      "source": [
        "monetary = df_rfm.groupby('user_id')['sub_total'].sum()\n",
        "\n",
        "monetary.head()"
      ]
    },
    {
      "cell_type": "code",
      "execution_count": 110,
      "metadata": {
        "colab": {
          "base_uri": "https://localhost:8080/",
          "height": 206
        },
        "id": "S6pUNQevDlk4",
        "outputId": "8fc76146-3a66-44a3-aad7-c16c145c5797"
      },
      "outputs": [
        {
          "data": {
            "text/html": [
              "<div>\n",
              "<style scoped>\n",
              "    .dataframe tbody tr th:only-of-type {\n",
              "        vertical-align: middle;\n",
              "    }\n",
              "\n",
              "    .dataframe tbody tr th {\n",
              "        vertical-align: top;\n",
              "    }\n",
              "\n",
              "    .dataframe thead th {\n",
              "        text-align: right;\n",
              "    }\n",
              "</style>\n",
              "<table border=\"1\" class=\"dataframe\">\n",
              "  <thead>\n",
              "    <tr style=\"text-align: right;\">\n",
              "      <th></th>\n",
              "      <th>user_id</th>\n",
              "      <th>trans_id</th>\n",
              "    </tr>\n",
              "  </thead>\n",
              "  <tbody>\n",
              "    <tr>\n",
              "      <th>2418</th>\n",
              "      <td>9efd34ffe5</td>\n",
              "      <td>21</td>\n",
              "    </tr>\n",
              "    <tr>\n",
              "      <th>602</th>\n",
              "      <td>278e551675</td>\n",
              "      <td>15</td>\n",
              "    </tr>\n",
              "    <tr>\n",
              "      <th>1868</th>\n",
              "      <td>7a8310aa9f</td>\n",
              "      <td>14</td>\n",
              "    </tr>\n",
              "    <tr>\n",
              "      <th>2492</th>\n",
              "      <td>a491801c2d</td>\n",
              "      <td>14</td>\n",
              "    </tr>\n",
              "    <tr>\n",
              "      <th>1677</th>\n",
              "      <td>6fce2e62f1</td>\n",
              "      <td>13</td>\n",
              "    </tr>\n",
              "  </tbody>\n",
              "</table>\n",
              "</div>"
            ],
            "text/plain": [
              "         user_id  trans_id\n",
              "2418  9efd34ffe5        21\n",
              "602   278e551675        15\n",
              "1868  7a8310aa9f        14\n",
              "2492  a491801c2d        14\n",
              "1677  6fce2e62f1        13"
            ]
          },
          "execution_count": 110,
          "metadata": {},
          "output_type": "execute_result"
        }
      ],
      "source": [
        "frequency = df_rfm.groupby('user_id')['trans_id'].count().reset_index()\n",
        "\n",
        "frequency.sort_values('trans_id', ascending=False).head()"
      ]
    },
    {
      "cell_type": "code",
      "execution_count": 111,
      "metadata": {
        "colab": {
          "base_uri": "https://localhost:8080/",
          "height": 206
        },
        "id": "VIoDGClfGaD7",
        "outputId": "fef0d409-b3f4-49ed-b57d-9512cef5d4bf"
      },
      "outputs": [
        {
          "data": {
            "text/html": [
              "<div>\n",
              "<style scoped>\n",
              "    .dataframe tbody tr th:only-of-type {\n",
              "        vertical-align: middle;\n",
              "    }\n",
              "\n",
              "    .dataframe tbody tr th {\n",
              "        vertical-align: top;\n",
              "    }\n",
              "\n",
              "    .dataframe thead th {\n",
              "        text-align: right;\n",
              "    }\n",
              "</style>\n",
              "<table border=\"1\" class=\"dataframe\">\n",
              "  <thead>\n",
              "    <tr style=\"text-align: right;\">\n",
              "      <th></th>\n",
              "      <th>user_id</th>\n",
              "      <th>diff_date</th>\n",
              "    </tr>\n",
              "  </thead>\n",
              "  <tbody>\n",
              "    <tr>\n",
              "      <th>0</th>\n",
              "      <td>001b5eddf7</td>\n",
              "      <td>0</td>\n",
              "    </tr>\n",
              "    <tr>\n",
              "      <th>1</th>\n",
              "      <td>0023cedbf9</td>\n",
              "      <td>0</td>\n",
              "    </tr>\n",
              "    <tr>\n",
              "      <th>2</th>\n",
              "      <td>0024ae4898</td>\n",
              "      <td>0</td>\n",
              "    </tr>\n",
              "    <tr>\n",
              "      <th>3</th>\n",
              "      <td>002d8b5849</td>\n",
              "      <td>0</td>\n",
              "    </tr>\n",
              "    <tr>\n",
              "      <th>4</th>\n",
              "      <td>003e99a26e</td>\n",
              "      <td>0</td>\n",
              "    </tr>\n",
              "  </tbody>\n",
              "</table>\n",
              "</div>"
            ],
            "text/plain": [
              "      user_id  diff_date\n",
              "0  001b5eddf7          0\n",
              "1  0023cedbf9          0\n",
              "2  0024ae4898          0\n",
              "3  002d8b5849          0\n",
              "4  003e99a26e          0"
            ]
          },
          "execution_count": 111,
          "metadata": {},
          "output_type": "execute_result"
        }
      ],
      "source": [
        "recency = df_rfm.copy()\n",
        "recency = recency.sort_values(['user_id', 'trans_date'])\n",
        "\n",
        "recency = recency.groupby(['user_id', 'trans_date'])['sub_total'].sum().reset_index()\n",
        "\n",
        "recency['diff_date'] = recency.groupby('user_id')['trans_date'].diff().dt.days\n",
        "recency['diff_date'] = recency['diff_date'].fillna(0)\n",
        "recency['diff_date'] = np.abs(recency['diff_date'])\n",
        "\n",
        "recency = recency.groupby('user_id')['diff_date'].max().reset_index()\n",
        "\n",
        "recency['diff_date'] = recency['diff_date'].astype('int64')\n",
        "\n",
        "recency = recency[['user_id', 'diff_date']]\n",
        "\n",
        "recency.head()"
      ]
    },
    {
      "cell_type": "code",
      "execution_count": 112,
      "metadata": {},
      "outputs": [
        {
          "data": {
            "text/html": [
              "<div>\n",
              "<style scoped>\n",
              "    .dataframe tbody tr th:only-of-type {\n",
              "        vertical-align: middle;\n",
              "    }\n",
              "\n",
              "    .dataframe tbody tr th {\n",
              "        vertical-align: top;\n",
              "    }\n",
              "\n",
              "    .dataframe thead th {\n",
              "        text-align: right;\n",
              "    }\n",
              "</style>\n",
              "<table border=\"1\" class=\"dataframe\">\n",
              "  <thead>\n",
              "    <tr style=\"text-align: right;\">\n",
              "      <th></th>\n",
              "      <th>Unnamed: 0</th>\n",
              "      <th>trans_date</th>\n",
              "      <th>acc_created_date</th>\n",
              "      <th>trans_id</th>\n",
              "      <th>user_id</th>\n",
              "      <th>brand</th>\n",
              "      <th>product_name</th>\n",
              "      <th>quantity</th>\n",
              "      <th>sub_total</th>\n",
              "    </tr>\n",
              "  </thead>\n",
              "  <tbody>\n",
              "    <tr>\n",
              "      <th>3542</th>\n",
              "      <td>3542</td>\n",
              "      <td>2022-03-12 16:41:13</td>\n",
              "      <td>2022-03-17 20:54:38</td>\n",
              "      <td>INV-82520171-28202</td>\n",
              "      <td>05389fd9c2</td>\n",
              "      <td>Kindergarten Creativity Magazine</td>\n",
              "      <td>Kindergarten Creativity Magazine 6 Month Print...</td>\n",
              "      <td>1</td>\n",
              "      <td>84000</td>\n",
              "    </tr>\n",
              "    <tr>\n",
              "      <th>3543</th>\n",
              "      <td>3543</td>\n",
              "      <td>2022-03-12 16:41:13</td>\n",
              "      <td>2022-03-17 20:54:38</td>\n",
              "      <td>INV-45353298-28202</td>\n",
              "      <td>05389fd9c2</td>\n",
              "      <td>Kids Magazine</td>\n",
              "      <td>Kids Magazine 6 Month Printed Subscription</td>\n",
              "      <td>1</td>\n",
              "      <td>291200</td>\n",
              "    </tr>\n",
              "    <tr>\n",
              "      <th>3549</th>\n",
              "      <td>3549</td>\n",
              "      <td>2022-03-13 10:42:04</td>\n",
              "      <td>2022-03-14 17:26:15</td>\n",
              "      <td>INV-21809026-28208</td>\n",
              "      <td>f50ce91bd7</td>\n",
              "      <td>Kids Magazine</td>\n",
              "      <td>Kids Magazine 12 Month Printed Subscription</td>\n",
              "      <td>1</td>\n",
              "      <td>582400</td>\n",
              "    </tr>\n",
              "  </tbody>\n",
              "</table>\n",
              "</div>"
            ],
            "text/plain": [
              "      Unnamed: 0           trans_date     acc_created_date  \\\n",
              "3542        3542  2022-03-12 16:41:13  2022-03-17 20:54:38   \n",
              "3543        3543  2022-03-12 16:41:13  2022-03-17 20:54:38   \n",
              "3549        3549  2022-03-13 10:42:04  2022-03-14 17:26:15   \n",
              "\n",
              "                trans_id     user_id                             brand  \\\n",
              "3542  INV-82520171-28202  05389fd9c2  Kindergarten Creativity Magazine   \n",
              "3543  INV-45353298-28202  05389fd9c2                     Kids Magazine   \n",
              "3549  INV-21809026-28208  f50ce91bd7                     Kids Magazine   \n",
              "\n",
              "                                           product_name  quantity  sub_total  \n",
              "3542  Kindergarten Creativity Magazine 6 Month Print...         1      84000  \n",
              "3543         Kids Magazine 6 Month Printed Subscription         1     291200  \n",
              "3549        Kids Magazine 12 Month Printed Subscription         1     582400  "
            ]
          },
          "execution_count": 112,
          "metadata": {},
          "output_type": "execute_result"
        }
      ],
      "source": [
        "df[df['user_id'].isin(['f50ce91bd7', '05389fd9c2'])]"
      ]
    },
    {
      "cell_type": "code",
      "execution_count": 113,
      "metadata": {
        "colab": {
          "base_uri": "https://localhost:8080/",
          "height": 206
        },
        "id": "Djd9clnrIBQP",
        "outputId": "fea3c9ae-54d3-46c4-a957-88ff3fa5af5e"
      },
      "outputs": [
        {
          "data": {
            "text/html": [
              "<div>\n",
              "<style scoped>\n",
              "    .dataframe tbody tr th:only-of-type {\n",
              "        vertical-align: middle;\n",
              "    }\n",
              "\n",
              "    .dataframe tbody tr th {\n",
              "        vertical-align: top;\n",
              "    }\n",
              "\n",
              "    .dataframe thead th {\n",
              "        text-align: right;\n",
              "    }\n",
              "</style>\n",
              "<table border=\"1\" class=\"dataframe\">\n",
              "  <thead>\n",
              "    <tr style=\"text-align: right;\">\n",
              "      <th></th>\n",
              "      <th>user_id</th>\n",
              "      <th>monetary</th>\n",
              "      <th>frequency</th>\n",
              "      <th>recency</th>\n",
              "    </tr>\n",
              "  </thead>\n",
              "  <tbody>\n",
              "    <tr>\n",
              "      <th>0</th>\n",
              "      <td>001b5eddf7</td>\n",
              "      <td>591500</td>\n",
              "      <td>2</td>\n",
              "      <td>0</td>\n",
              "    </tr>\n",
              "    <tr>\n",
              "      <th>1</th>\n",
              "      <td>0023cedbf9</td>\n",
              "      <td>7000</td>\n",
              "      <td>1</td>\n",
              "      <td>0</td>\n",
              "    </tr>\n",
              "    <tr>\n",
              "      <th>2</th>\n",
              "      <td>0024ae4898</td>\n",
              "      <td>436800</td>\n",
              "      <td>2</td>\n",
              "      <td>0</td>\n",
              "    </tr>\n",
              "    <tr>\n",
              "      <th>3</th>\n",
              "      <td>002d8b5849</td>\n",
              "      <td>204750</td>\n",
              "      <td>1</td>\n",
              "      <td>0</td>\n",
              "    </tr>\n",
              "    <tr>\n",
              "      <th>4</th>\n",
              "      <td>003e99a26e</td>\n",
              "      <td>145600</td>\n",
              "      <td>1</td>\n",
              "      <td>0</td>\n",
              "    </tr>\n",
              "  </tbody>\n",
              "</table>\n",
              "</div>"
            ],
            "text/plain": [
              "      user_id  monetary  frequency  recency\n",
              "0  001b5eddf7    591500          2        0\n",
              "1  0023cedbf9      7000          1        0\n",
              "2  0024ae4898    436800          2        0\n",
              "3  002d8b5849    204750          1        0\n",
              "4  003e99a26e    145600          1        0"
            ]
          },
          "execution_count": 113,
          "metadata": {},
          "output_type": "execute_result"
        }
      ],
      "source": [
        "df_rfm = pd.merge(monetary, frequency, on='user_id', how='inner')\n",
        "df_rfm = pd.merge(df_rfm, recency, on='user_id', how='inner')\n",
        "\n",
        "df_rfm = df_rfm.rename(columns={'sub_total': 'monetary', 'trans_id': 'frequency', 'diff_date': 'recency'})\n",
        "\n",
        "df_rfm.head()"
      ]
    },
    {
      "cell_type": "code",
      "execution_count": 114,
      "metadata": {
        "colab": {
          "base_uri": "https://localhost:8080/"
        },
        "id": "wAiyFMeqIorr",
        "outputId": "7255e882-be6b-4ad5-f42c-d1a86346ff77"
      },
      "outputs": [
        {
          "data": {
            "text/plain": [
              "(3900, 4)"
            ]
          },
          "execution_count": 114,
          "metadata": {},
          "output_type": "execute_result"
        }
      ],
      "source": [
        "df_rfm.shape"
      ]
    },
    {
      "cell_type": "code",
      "execution_count": 115,
      "metadata": {
        "colab": {
          "base_uri": "https://localhost:8080/"
        },
        "id": "6eWnyBVtJw1M",
        "outputId": "1f7a3d9d-895f-4c07-ddac-9aa090a4d5f5"
      },
      "outputs": [
        {
          "data": {
            "text/plain": [
              "array([[ 0.43878721,  0.4416056 , -0.38293538],\n",
              "       [-0.93476993, -0.4402489 , -0.38293538],\n",
              "       [ 0.07524694,  0.4416056 , -0.38293538],\n",
              "       ...,\n",
              "       [ 0.75955804, -0.4402489 , -0.38293538],\n",
              "       [-0.88542057, -0.4402489 , -0.38293538],\n",
              "       [-0.09583084, -0.4402489 , -0.38293538]])"
            ]
          },
          "execution_count": 115,
          "metadata": {},
          "output_type": "execute_result"
        }
      ],
      "source": [
        "scaler = StandardScaler()\n",
        "\n",
        "df_scaled = scaler.fit_transform(df_rfm[['monetary', 'frequency', 'recency']])\n",
        "\n",
        "df_scaled"
      ]
    },
    {
      "cell_type": "code",
      "execution_count": 116,
      "metadata": {},
      "outputs": [
        {
          "data": {
            "text/plain": [
              "(3900, 3)"
            ]
          },
          "execution_count": 116,
          "metadata": {},
          "output_type": "execute_result"
        }
      ],
      "source": [
        "df_scaled.shape"
      ]
    },
    {
      "cell_type": "code",
      "execution_count": 117,
      "metadata": {
        "colab": {
          "base_uri": "https://localhost:8080/",
          "height": 206
        },
        "id": "BjHgJQ02KfoF",
        "outputId": "2fdbe977-93d2-4bc9-a796-8aba1b10534a"
      },
      "outputs": [
        {
          "data": {
            "text/html": [
              "<div>\n",
              "<style scoped>\n",
              "    .dataframe tbody tr th:only-of-type {\n",
              "        vertical-align: middle;\n",
              "    }\n",
              "\n",
              "    .dataframe tbody tr th {\n",
              "        vertical-align: top;\n",
              "    }\n",
              "\n",
              "    .dataframe thead th {\n",
              "        text-align: right;\n",
              "    }\n",
              "</style>\n",
              "<table border=\"1\" class=\"dataframe\">\n",
              "  <thead>\n",
              "    <tr style=\"text-align: right;\">\n",
              "      <th></th>\n",
              "      <th>monetary</th>\n",
              "      <th>frequency</th>\n",
              "      <th>recency</th>\n",
              "    </tr>\n",
              "  </thead>\n",
              "  <tbody>\n",
              "    <tr>\n",
              "      <th>0</th>\n",
              "      <td>0.438787</td>\n",
              "      <td>0.441606</td>\n",
              "      <td>-0.382935</td>\n",
              "    </tr>\n",
              "    <tr>\n",
              "      <th>1</th>\n",
              "      <td>-0.934770</td>\n",
              "      <td>-0.440249</td>\n",
              "      <td>-0.382935</td>\n",
              "    </tr>\n",
              "    <tr>\n",
              "      <th>2</th>\n",
              "      <td>0.075247</td>\n",
              "      <td>0.441606</td>\n",
              "      <td>-0.382935</td>\n",
              "    </tr>\n",
              "    <tr>\n",
              "      <th>3</th>\n",
              "      <td>-0.470063</td>\n",
              "      <td>-0.440249</td>\n",
              "      <td>-0.382935</td>\n",
              "    </tr>\n",
              "    <tr>\n",
              "      <th>4</th>\n",
              "      <td>-0.609064</td>\n",
              "      <td>-0.440249</td>\n",
              "      <td>-0.382935</td>\n",
              "    </tr>\n",
              "  </tbody>\n",
              "</table>\n",
              "</div>"
            ],
            "text/plain": [
              "   monetary  frequency   recency\n",
              "0  0.438787   0.441606 -0.382935\n",
              "1 -0.934770  -0.440249 -0.382935\n",
              "2  0.075247   0.441606 -0.382935\n",
              "3 -0.470063  -0.440249 -0.382935\n",
              "4 -0.609064  -0.440249 -0.382935"
            ]
          },
          "execution_count": 117,
          "metadata": {},
          "output_type": "execute_result"
        }
      ],
      "source": [
        "df_scaled = pd.DataFrame(df_scaled)\n",
        "df_scaled.columns = ['monetary', 'frequency', 'recency']\n",
        "\n",
        "df_scaled.head()"
      ]
    },
    {
      "cell_type": "code",
      "execution_count": 118,
      "metadata": {
        "colab": {
          "base_uri": "https://localhost:8080/",
          "height": 206
        },
        "id": "Xv-1d45yKsWo",
        "outputId": "7e6d9c49-f60e-474d-c687-001e5f0630de"
      },
      "outputs": [
        {
          "data": {
            "text/html": [
              "<div>\n",
              "<style scoped>\n",
              "    .dataframe tbody tr th:only-of-type {\n",
              "        vertical-align: middle;\n",
              "    }\n",
              "\n",
              "    .dataframe tbody tr th {\n",
              "        vertical-align: top;\n",
              "    }\n",
              "\n",
              "    .dataframe thead th {\n",
              "        text-align: right;\n",
              "    }\n",
              "</style>\n",
              "<table border=\"1\" class=\"dataframe\">\n",
              "  <thead>\n",
              "    <tr style=\"text-align: right;\">\n",
              "      <th></th>\n",
              "      <th>monetary</th>\n",
              "      <th>frequency</th>\n",
              "      <th>recency</th>\n",
              "      <th>user_id</th>\n",
              "    </tr>\n",
              "  </thead>\n",
              "  <tbody>\n",
              "    <tr>\n",
              "      <th>0</th>\n",
              "      <td>0.438787</td>\n",
              "      <td>0.441606</td>\n",
              "      <td>-0.382935</td>\n",
              "      <td>001b5eddf7</td>\n",
              "    </tr>\n",
              "    <tr>\n",
              "      <th>1</th>\n",
              "      <td>-0.934770</td>\n",
              "      <td>-0.440249</td>\n",
              "      <td>-0.382935</td>\n",
              "      <td>0023cedbf9</td>\n",
              "    </tr>\n",
              "    <tr>\n",
              "      <th>2</th>\n",
              "      <td>0.075247</td>\n",
              "      <td>0.441606</td>\n",
              "      <td>-0.382935</td>\n",
              "      <td>0024ae4898</td>\n",
              "    </tr>\n",
              "    <tr>\n",
              "      <th>3</th>\n",
              "      <td>-0.470063</td>\n",
              "      <td>-0.440249</td>\n",
              "      <td>-0.382935</td>\n",
              "      <td>002d8b5849</td>\n",
              "    </tr>\n",
              "    <tr>\n",
              "      <th>4</th>\n",
              "      <td>-0.609064</td>\n",
              "      <td>-0.440249</td>\n",
              "      <td>-0.382935</td>\n",
              "      <td>003e99a26e</td>\n",
              "    </tr>\n",
              "  </tbody>\n",
              "</table>\n",
              "</div>"
            ],
            "text/plain": [
              "   monetary  frequency   recency     user_id\n",
              "0  0.438787   0.441606 -0.382935  001b5eddf7\n",
              "1 -0.934770  -0.440249 -0.382935  0023cedbf9\n",
              "2  0.075247   0.441606 -0.382935  0024ae4898\n",
              "3 -0.470063  -0.440249 -0.382935  002d8b5849\n",
              "4 -0.609064  -0.440249 -0.382935  003e99a26e"
            ]
          },
          "execution_count": 118,
          "metadata": {},
          "output_type": "execute_result"
        }
      ],
      "source": [
        "df_scaled['user_id'] = df_rfm['user_id']\n",
        "\n",
        "df_scaled.head()"
      ]
    },
    {
      "cell_type": "code",
      "execution_count": 119,
      "metadata": {},
      "outputs": [
        {
          "data": {
            "text/html": [
              "<div>\n",
              "<style scoped>\n",
              "    .dataframe tbody tr th:only-of-type {\n",
              "        vertical-align: middle;\n",
              "    }\n",
              "\n",
              "    .dataframe tbody tr th {\n",
              "        vertical-align: top;\n",
              "    }\n",
              "\n",
              "    .dataframe thead th {\n",
              "        text-align: right;\n",
              "    }\n",
              "</style>\n",
              "<table border=\"1\" class=\"dataframe\">\n",
              "  <thead>\n",
              "    <tr style=\"text-align: right;\">\n",
              "      <th></th>\n",
              "      <th>monetary</th>\n",
              "      <th>frequency</th>\n",
              "      <th>recency</th>\n",
              "    </tr>\n",
              "  </thead>\n",
              "  <tbody>\n",
              "    <tr>\n",
              "      <th>count</th>\n",
              "      <td>3900.000000</td>\n",
              "      <td>3900.000000</td>\n",
              "      <td>3900.000000</td>\n",
              "    </tr>\n",
              "    <tr>\n",
              "      <th>mean</th>\n",
              "      <td>0.000000</td>\n",
              "      <td>0.000000</td>\n",
              "      <td>-0.000000</td>\n",
              "    </tr>\n",
              "    <tr>\n",
              "      <th>std</th>\n",
              "      <td>1.000128</td>\n",
              "      <td>1.000128</td>\n",
              "      <td>1.000128</td>\n",
              "    </tr>\n",
              "    <tr>\n",
              "      <th>min</th>\n",
              "      <td>-0.945580</td>\n",
              "      <td>-0.440249</td>\n",
              "      <td>-0.382935</td>\n",
              "    </tr>\n",
              "    <tr>\n",
              "      <th>25%</th>\n",
              "      <td>-0.566295</td>\n",
              "      <td>-0.440249</td>\n",
              "      <td>-0.382935</td>\n",
              "    </tr>\n",
              "    <tr>\n",
              "      <th>50%</th>\n",
              "      <td>-0.246229</td>\n",
              "      <td>-0.440249</td>\n",
              "      <td>-0.382935</td>\n",
              "    </tr>\n",
              "    <tr>\n",
              "      <th>75%</th>\n",
              "      <td>0.331864</td>\n",
              "      <td>0.441606</td>\n",
              "      <td>-0.382935</td>\n",
              "    </tr>\n",
              "    <tr>\n",
              "      <th>max</th>\n",
              "      <td>13.606371</td>\n",
              "      <td>17.196841</td>\n",
              "      <td>6.306973</td>\n",
              "    </tr>\n",
              "  </tbody>\n",
              "</table>\n",
              "</div>"
            ],
            "text/plain": [
              "         monetary   frequency     recency\n",
              "count 3900.000000 3900.000000 3900.000000\n",
              "mean     0.000000    0.000000   -0.000000\n",
              "std      1.000128    1.000128    1.000128\n",
              "min     -0.945580   -0.440249   -0.382935\n",
              "25%     -0.566295   -0.440249   -0.382935\n",
              "50%     -0.246229   -0.440249   -0.382935\n",
              "75%      0.331864    0.441606   -0.382935\n",
              "max     13.606371   17.196841    6.306973"
            ]
          },
          "execution_count": 119,
          "metadata": {},
          "output_type": "execute_result"
        }
      ],
      "source": [
        "df_scaled.describe()"
      ]
    },
    {
      "cell_type": "code",
      "execution_count": 120,
      "metadata": {
        "colab": {
          "base_uri": "https://localhost:8080/",
          "height": 206
        },
        "id": "z72_r1u8mpFt",
        "outputId": "eb6b5e67-36f1-406c-8f9b-9f45b0e000c3"
      },
      "outputs": [
        {
          "data": {
            "text/html": [
              "<div>\n",
              "<style scoped>\n",
              "    .dataframe tbody tr th:only-of-type {\n",
              "        vertical-align: middle;\n",
              "    }\n",
              "\n",
              "    .dataframe tbody tr th {\n",
              "        vertical-align: top;\n",
              "    }\n",
              "\n",
              "    .dataframe thead th {\n",
              "        text-align: right;\n",
              "    }\n",
              "</style>\n",
              "<table border=\"1\" class=\"dataframe\">\n",
              "  <thead>\n",
              "    <tr style=\"text-align: right;\">\n",
              "      <th></th>\n",
              "      <th>pca1</th>\n",
              "      <th>pca2</th>\n",
              "    </tr>\n",
              "  </thead>\n",
              "  <tbody>\n",
              "    <tr>\n",
              "      <th>0</th>\n",
              "      <td>0.306533</td>\n",
              "      <td>0.660877</td>\n",
              "    </tr>\n",
              "    <tr>\n",
              "      <th>1</th>\n",
              "      <td>-1.023379</td>\n",
              "      <td>-0.185834</td>\n",
              "    </tr>\n",
              "    <tr>\n",
              "      <th>2</th>\n",
              "      <td>0.091216</td>\n",
              "      <td>0.543282</td>\n",
              "    </tr>\n",
              "    <tr>\n",
              "      <th>3</th>\n",
              "      <td>-0.748143</td>\n",
              "      <td>-0.035513</td>\n",
              "    </tr>\n",
              "    <tr>\n",
              "      <th>4</th>\n",
              "      <td>-0.830470</td>\n",
              "      <td>-0.080477</td>\n",
              "    </tr>\n",
              "  </tbody>\n",
              "</table>\n",
              "</div>"
            ],
            "text/plain": [
              "       pca1      pca2\n",
              "0  0.306533  0.660877\n",
              "1 -1.023379 -0.185834\n",
              "2  0.091216  0.543282\n",
              "3 -0.748143 -0.035513\n",
              "4 -0.830470 -0.080477"
            ]
          },
          "execution_count": 120,
          "metadata": {},
          "output_type": "execute_result"
        }
      ],
      "source": [
        "pca = PCA(n_components=2)\n",
        "\n",
        "result = pca.fit_transform(df_scaled[['monetary', 'frequency', 'recency']])\n",
        "\n",
        "df_pca = pd.DataFrame(result)\n",
        "df_pca.columns = ['pca1', 'pca2']\n",
        "\n",
        "df_pca.head()"
      ]
    },
    {
      "cell_type": "code",
      "execution_count": 121,
      "metadata": {
        "colab": {
          "base_uri": "https://localhost:8080/",
          "height": 206
        },
        "id": "gVEIFQiskNZP",
        "outputId": "ec3ff402-f7c4-46a7-8962-99d702dd4986"
      },
      "outputs": [
        {
          "data": {
            "text/html": [
              "<div>\n",
              "<style scoped>\n",
              "    .dataframe tbody tr th:only-of-type {\n",
              "        vertical-align: middle;\n",
              "    }\n",
              "\n",
              "    .dataframe tbody tr th {\n",
              "        vertical-align: top;\n",
              "    }\n",
              "\n",
              "    .dataframe thead th {\n",
              "        text-align: right;\n",
              "    }\n",
              "</style>\n",
              "<table border=\"1\" class=\"dataframe\">\n",
              "  <thead>\n",
              "    <tr style=\"text-align: right;\">\n",
              "      <th></th>\n",
              "      <th>pca1</th>\n",
              "      <th>pca2</th>\n",
              "    </tr>\n",
              "  </thead>\n",
              "  <tbody>\n",
              "    <tr>\n",
              "      <th>0</th>\n",
              "      <td>0.306533</td>\n",
              "      <td>0.660877</td>\n",
              "    </tr>\n",
              "    <tr>\n",
              "      <th>1</th>\n",
              "      <td>-1.023379</td>\n",
              "      <td>-0.185834</td>\n",
              "    </tr>\n",
              "    <tr>\n",
              "      <th>2</th>\n",
              "      <td>0.091216</td>\n",
              "      <td>0.543282</td>\n",
              "    </tr>\n",
              "    <tr>\n",
              "      <th>3</th>\n",
              "      <td>-0.748143</td>\n",
              "      <td>-0.035513</td>\n",
              "    </tr>\n",
              "    <tr>\n",
              "      <th>4</th>\n",
              "      <td>-0.830470</td>\n",
              "      <td>-0.080477</td>\n",
              "    </tr>\n",
              "  </tbody>\n",
              "</table>\n",
              "</div>"
            ],
            "text/plain": [
              "       pca1      pca2\n",
              "0  0.306533  0.660877\n",
              "1 -1.023379 -0.185834\n",
              "2  0.091216  0.543282\n",
              "3 -0.748143 -0.035513\n",
              "4 -0.830470 -0.080477"
            ]
          },
          "execution_count": 121,
          "metadata": {},
          "output_type": "execute_result"
        }
      ],
      "source": [
        "pca = PCA(n_components=2)\n",
        "\n",
        "result = pca.fit_transform(df_scaled[['monetary', 'frequency', 'recency']])\n",
        "\n",
        "df_pca = pd.DataFrame(result)\n",
        "df_pca.columns = ['pca1', 'pca2']\n",
        "\n",
        "df_pca.head()"
      ]
    },
    {
      "cell_type": "code",
      "execution_count": 122,
      "metadata": {
        "colab": {
          "base_uri": "https://localhost:8080/",
          "height": 475
        },
        "id": "BprXUW4elPZ9",
        "outputId": "b560377f-7c36-41c2-9be3-5fb2c24b3666"
      },
      "outputs": [
        {
          "data": {
            "text/plain": [
              "Text(0, 0.5, '2nd Principal Component')"
            ]
          },
          "execution_count": 122,
          "metadata": {},
          "output_type": "execute_result"
        },
        {
          "data": {
            "image/png": "[encoded data removed]",
            "text/plain": [
              "<Figure size 640x480 with 1 Axes>"
            ]
          },
          "metadata": {},
          "output_type": "display_data"
        }
      ],
      "source": [
        "plt.scatter(x=df_pca['pca1'], y=df_pca['pca2'], alpha=0.5, s=10)\n",
        "\n",
        "plt.title('PCA Visualization')\n",
        "plt.xlabel('1st Principal Component')\n",
        "plt.ylabel('2nd Principal Component')"
      ]
    },
    {
      "cell_type": "code",
      "execution_count": 123,
      "metadata": {
        "colab": {
          "base_uri": "https://localhost:8080/"
        },
        "id": "CI-3H8cBLADt",
        "outputId": "39d454b9-ac9c-4c35-b2f8-ecc929ea9fe3"
      },
      "outputs": [],
      "source": [
        "param = {\n",
        "  'n_init': [2, 3, 4, 5, 6, 7, 8, 9, 10],\n",
        "}\n",
        "\n",
        "result = pd.DataFrame(columns=['K', 'Score', 'SilhouetteScore'])\n",
        "\n",
        "loop = 0\n",
        "\n",
        "inertia = []\n",
        "\n",
        "for n in param['n_init']:\n",
        "  km = KMeans(n_init=n, init='k-means++') \n",
        "  km.fit(df_pca)\n",
        "\n",
        "  ss = silhouette_score(df_pca, km.labels_)\n",
        "\n",
        "  inertia.append(km.inertia_)\n",
        "\n",
        "  result.loc[loop] = [n, km.inertia_, ss]\n",
        "        \n",
        "  loop += 1 "
      ]
    },
    {
      "cell_type": "code",
      "execution_count": 124,
      "metadata": {},
      "outputs": [
        {
          "data": {
            "text/html": [
              "<div>\n",
              "<style scoped>\n",
              "    .dataframe tbody tr th:only-of-type {\n",
              "        vertical-align: middle;\n",
              "    }\n",
              "\n",
              "    .dataframe tbody tr th {\n",
              "        vertical-align: top;\n",
              "    }\n",
              "\n",
              "    .dataframe thead th {\n",
              "        text-align: right;\n",
              "    }\n",
              "</style>\n",
              "<table border=\"1\" class=\"dataframe\">\n",
              "  <thead>\n",
              "    <tr style=\"text-align: right;\">\n",
              "      <th></th>\n",
              "      <th>K</th>\n",
              "      <th>Score</th>\n",
              "      <th>SilhouetteScore</th>\n",
              "    </tr>\n",
              "  </thead>\n",
              "  <tbody>\n",
              "    <tr>\n",
              "      <th>4</th>\n",
              "      <td>6.000000</td>\n",
              "      <td>856.650109</td>\n",
              "      <td>0.644318</td>\n",
              "    </tr>\n",
              "    <tr>\n",
              "      <th>8</th>\n",
              "      <td>10.000000</td>\n",
              "      <td>843.092905</td>\n",
              "      <td>0.638470</td>\n",
              "    </tr>\n",
              "    <tr>\n",
              "      <th>0</th>\n",
              "      <td>2.000000</td>\n",
              "      <td>842.906884</td>\n",
              "      <td>0.638358</td>\n",
              "    </tr>\n",
              "    <tr>\n",
              "      <th>2</th>\n",
              "      <td>4.000000</td>\n",
              "      <td>842.906884</td>\n",
              "      <td>0.638358</td>\n",
              "    </tr>\n",
              "    <tr>\n",
              "      <th>3</th>\n",
              "      <td>5.000000</td>\n",
              "      <td>842.906884</td>\n",
              "      <td>0.638358</td>\n",
              "    </tr>\n",
              "    <tr>\n",
              "      <th>1</th>\n",
              "      <td>3.000000</td>\n",
              "      <td>843.199422</td>\n",
              "      <td>0.638312</td>\n",
              "    </tr>\n",
              "    <tr>\n",
              "      <th>5</th>\n",
              "      <td>7.000000</td>\n",
              "      <td>843.199422</td>\n",
              "      <td>0.638312</td>\n",
              "    </tr>\n",
              "    <tr>\n",
              "      <th>7</th>\n",
              "      <td>9.000000</td>\n",
              "      <td>842.922209</td>\n",
              "      <td>0.638227</td>\n",
              "    </tr>\n",
              "    <tr>\n",
              "      <th>6</th>\n",
              "      <td>8.000000</td>\n",
              "      <td>843.169412</td>\n",
              "      <td>0.638055</td>\n",
              "    </tr>\n",
              "  </tbody>\n",
              "</table>\n",
              "</div>"
            ],
            "text/plain": [
              "          K      Score  SilhouetteScore\n",
              "4  6.000000 856.650109         0.644318\n",
              "8 10.000000 843.092905         0.638470\n",
              "0  2.000000 842.906884         0.638358\n",
              "2  4.000000 842.906884         0.638358\n",
              "3  5.000000 842.906884         0.638358\n",
              "1  3.000000 843.199422         0.638312\n",
              "5  7.000000 843.199422         0.638312\n",
              "7  9.000000 842.922209         0.638227\n",
              "6  8.000000 843.169412         0.638055"
            ]
          },
          "execution_count": 124,
          "metadata": {},
          "output_type": "execute_result"
        }
      ],
      "source": [
        "result = result.sort_values(by='SilhouetteScore', ascending=False)\n",
        "\n",
        "result"
      ]
    },
    {
      "cell_type": "code",
      "execution_count": 125,
      "metadata": {},
      "outputs": [
        {
          "data": {
            "text/plain": [
              "6"
            ]
          },
          "execution_count": 125,
          "metadata": {},
          "output_type": "execute_result"
        }
      ],
      "source": [
        "n_cluster = int(result.iloc[0]['K'])\n",
        "\n",
        "n_cluster"
      ]
    },
    {
      "cell_type": "code",
      "execution_count": 126,
      "metadata": {
        "colab": {
          "base_uri": "https://localhost:8080/",
          "height": 109
        },
        "id": "W1hBp8bClii-",
        "outputId": "7f10c08f-641d-426d-e9a4-fa7c362680f9"
      },
      "outputs": [
        {
          "name": "stderr",
          "output_type": "stream",
          "text": [
            "c:\\Users\\KG\\AppData\\Local\\Programs\\Python\\Python311\\Lib\\site-packages\\sklearn\\cluster\\_kmeans.py:1416: FutureWarning: The default value of `n_init` will change from 10 to 'auto' in 1.4. Set the value of `n_init` explicitly to suppress the warning\n",
            "  super()._check_params_vs_input(X, default_n_init=10)\n"
          ]
        },
        {
          "data": {
            "text/html": [
              "<style>#sk-container-id-3 {color: black;}#sk-container-id-3 pre{padding: 0;}#sk-container-id-3 div.sk-toggleable {background-color: white;}#sk-container-id-3 label.sk-toggleable__label {cursor: pointer;display: block;width: 100%;margin-bottom: 0;padding: 0.3em;box-sizing: border-box;text-align: center;}#sk-container-id-3 label.sk-toggleable__label-arrow:before {content: \"▸\";float: left;margin-right: 0.25em;color: #696969;}#sk-container-id-3 label.sk-toggleable__label-arrow:hover:before {color: black;}#sk-container-id-3 div.sk-estimator:hover label.sk-toggleable__label-arrow:before {color: black;}#sk-container-id-3 div.sk-toggleable__content {max-height: 0;max-width: 0;overflow: hidden;text-align: left;background-color: #f0f8ff;}#sk-container-id-3 div.sk-toggleable__content pre {margin: 0.2em;color: black;border-radius: 0.25em;background-color: #f0f8ff;}#sk-container-id-3 input.sk-toggleable__control:checked~div.sk-toggleable__content {max-height: 200px;max-width: 100%;overflow: auto;}#sk-container-id-3 input.sk-toggleable__control:checked~label.sk-toggleable__label-arrow:before {content: \"▾\";}#sk-container-id-3 div.sk-estimator input.sk-toggleable__control:checked~label.sk-toggleable__label {background-color: #d4ebff;}#sk-container-id-3 div.sk-label input.sk-toggleable__control:checked~label.sk-toggleable__label {background-color: #d4ebff;}#sk-container-id-3 input.sk-hidden--visually {border: 0;clip: rect(1px 1px 1px 1px);clip: rect(1px, 1px, 1px, 1px);height: 1px;margin: -1px;overflow: hidden;padding: 0;position: absolute;width: 1px;}#sk-container-id-3 div.sk-estimator {font-family: monospace;background-color: #f0f8ff;border: 1px dotted black;border-radius: 0.25em;box-sizing: border-box;margin-bottom: 0.5em;}#sk-container-id-3 div.sk-estimator:hover {background-color: #d4ebff;}#sk-container-id-3 div.sk-parallel-item::after {content: \"\";width: 100%;border-bottom: 1px solid gray;flex-grow: 1;}#sk-container-id-3 div.sk-label:hover label.sk-toggleable__label {background-color: #d4ebff;}#sk-container-id-3 div.sk-serial::before {content: \"\";position: absolute;border-left: 1px solid gray;box-sizing: border-box;top: 0;bottom: 0;left: 50%;z-index: 0;}#sk-container-id-3 div.sk-serial {display: flex;flex-direction: column;align-items: center;background-color: white;padding-right: 0.2em;padding-left: 0.2em;position: relative;}#sk-container-id-3 div.sk-item {position: relative;z-index: 1;}#sk-container-id-3 div.sk-parallel {display: flex;align-items: stretch;justify-content: center;background-color: white;position: relative;}#sk-container-id-3 div.sk-item::before, #sk-container-id-3 div.sk-parallel-item::before {content: \"\";position: absolute;border-left: 1px solid gray;box-sizing: border-box;top: 0;bottom: 0;left: 50%;z-index: -1;}#sk-container-id-3 div.sk-parallel-item {display: flex;flex-direction: column;z-index: 1;position: relative;background-color: white;}#sk-container-id-3 div.sk-parallel-item:first-child::after {align-self: flex-end;width: 50%;}#sk-container-id-3 div.sk-parallel-item:last-child::after {align-self: flex-start;width: 50%;}#sk-container-id-3 div.sk-parallel-item:only-child::after {width: 0;}#sk-container-id-3 div.sk-dashed-wrapped {border: 1px dashed gray;margin: 0 0.4em 0.5em 0.4em;box-sizing: border-box;padding-bottom: 0.4em;background-color: white;}#sk-container-id-3 div.sk-label label {font-family: monospace;font-weight: bold;display: inline-block;line-height: 1.2em;}#sk-container-id-3 div.sk-label-container {text-align: center;}#sk-container-id-3 div.sk-container {/* jupyter's `normalize.less` sets `[hidden] { display: none; }` but bootstrap.min.css set `[hidden] { display: none !important; }` so we also need the `!important` here to be able to override the default hidden behavior on the sphinx rendered scikit-learn.org. See: https://github.com/scikit-learn/scikit-learn/issues/21755 */display: inline-block !important;position: relative;}#sk-container-id-3 div.sk-text-repr-fallback {display: none;}</style><div id=\"sk-container-id-3\" class=\"sk-top-container\"><div class=\"sk-text-repr-fallback\"><pre>KMeans(n_clusters=6)</pre><b>In a Jupyter environment, please rerun this cell to show the HTML representation or trust the notebook. <br />On GitHub, the HTML representation is unable to render, please try loading this page with nbviewer.org.</b></div><div class=\"sk-container\" hidden><div class=\"sk-item\"><div class=\"sk-estimator sk-toggleable\"><input class=\"sk-toggleable__control sk-hidden--visually\" id=\"sk-estimator-id-3\" type=\"checkbox\" checked><label for=\"sk-estimator-id-3\" class=\"sk-toggleable__label sk-toggleable__label-arrow\">KMeans</label><div class=\"sk-toggleable__content\"><pre>KMeans(n_clusters=6)</pre></div></div></div></div></div>"
            ],
            "text/plain": [
              "KMeans(n_clusters=6)"
            ]
          },
          "execution_count": 126,
          "metadata": {},
          "output_type": "execute_result"
        }
      ],
      "source": [
        "# km = KMeans(n_clusters=n_cluster, max_iter=max_iter)\n",
        "km = KMeans(n_clusters=n_cluster, init='k-means++')\n",
        "km.fit(df_pca)"
      ]
    },
    {
      "cell_type": "code",
      "execution_count": 127,
      "metadata": {
        "colab": {
          "base_uri": "https://localhost:8080/"
        },
        "id": "-oU_LbGIn-lT",
        "outputId": "d654b2fc-e773-46d9-f4b2-5ca7a157a581"
      },
      "outputs": [
        {
          "data": {
            "text/plain": [
              "array([[-0.71387867, -0.01726934],\n",
              "       [ 1.67728628, -0.71599874],\n",
              "       [ 0.32356216,  0.61402325],\n",
              "       [ 8.52179104,  3.3006133 ],\n",
              "       [ 4.08001586,  0.87913294],\n",
              "       [ 3.12062129, -2.15880962]])"
            ]
          },
          "execution_count": 127,
          "metadata": {},
          "output_type": "execute_result"
        }
      ],
      "source": [
        "centroid = km.cluster_centers_\n",
        "\n",
        "centroid"
      ]
    },
    {
      "cell_type": "code",
      "execution_count": 128,
      "metadata": {
        "colab": {
          "base_uri": "https://localhost:8080/",
          "height": 206
        },
        "id": "XFV9OQepoJ3S",
        "outputId": "6a58ed29-8840-48af-f1f2-6ca9115f4253"
      },
      "outputs": [
        {
          "data": {
            "text/html": [
              "<div>\n",
              "<style scoped>\n",
              "    .dataframe tbody tr th:only-of-type {\n",
              "        vertical-align: middle;\n",
              "    }\n",
              "\n",
              "    .dataframe tbody tr th {\n",
              "        vertical-align: top;\n",
              "    }\n",
              "\n",
              "    .dataframe thead th {\n",
              "        text-align: right;\n",
              "    }\n",
              "</style>\n",
              "<table border=\"1\" class=\"dataframe\">\n",
              "  <thead>\n",
              "    <tr style=\"text-align: right;\">\n",
              "      <th></th>\n",
              "      <th>pca1</th>\n",
              "      <th>pca2</th>\n",
              "    </tr>\n",
              "  </thead>\n",
              "  <tbody>\n",
              "    <tr>\n",
              "      <th>0</th>\n",
              "      <td>0.306533</td>\n",
              "      <td>0.660877</td>\n",
              "    </tr>\n",
              "    <tr>\n",
              "      <th>1</th>\n",
              "      <td>-1.023379</td>\n",
              "      <td>-0.185834</td>\n",
              "    </tr>\n",
              "    <tr>\n",
              "      <th>2</th>\n",
              "      <td>0.091216</td>\n",
              "      <td>0.543282</td>\n",
              "    </tr>\n",
              "    <tr>\n",
              "      <th>3</th>\n",
              "      <td>-0.748143</td>\n",
              "      <td>-0.035513</td>\n",
              "    </tr>\n",
              "    <tr>\n",
              "      <th>4</th>\n",
              "      <td>-0.830470</td>\n",
              "      <td>-0.080477</td>\n",
              "    </tr>\n",
              "  </tbody>\n",
              "</table>\n",
              "</div>"
            ],
            "text/plain": [
              "       pca1      pca2\n",
              "0  0.306533  0.660877\n",
              "1 -1.023379 -0.185834\n",
              "2  0.091216  0.543282\n",
              "3 -0.748143 -0.035513\n",
              "4 -0.830470 -0.080477"
            ]
          },
          "execution_count": 128,
          "metadata": {},
          "output_type": "execute_result"
        }
      ],
      "source": [
        "df_pca.head()"
      ]
    },
    {
      "cell_type": "code",
      "execution_count": 129,
      "metadata": {
        "colab": {
          "base_uri": "https://localhost:8080/",
          "height": 475
        },
        "id": "V2O75F8PojlU",
        "outputId": "61765489-86dd-479c-dcca-acfb39ace32b"
      },
      "outputs": [
        {
          "data": {
            "text/plain": [
              "<matplotlib.legend.Legend at 0x205784d6b90>"
            ]
          },
          "execution_count": 129,
          "metadata": {},
          "output_type": "execute_result"
        },
        {
          "data": {
            "image/png": "[encoded data removed]",
            "text/plain": [
              "<Figure size 640x480 with 1 Axes>"
            ]
          },
          "metadata": {},
          "output_type": "display_data"
        }
      ],
      "source": [
        "# plt.scatter(df_pca['pca1'], df_pca['pca2'], c=km.labels_, s=10, alpha=0.5)\n",
        "\n",
        "sns.scatterplot(df_pca, x='pca1', y='pca2', hue=km.labels_, palette='husl')\n",
        "\n",
        "plt.title('Cluster Visualization Results')\n",
        "plt.xlabel('1st Principal Component')\n",
        "plt.ylabel('2nd Principal Component')\n",
        "\n",
        "plt.legend()"
      ]
    },
    {
      "cell_type": "code",
      "execution_count": 130,
      "metadata": {},
      "outputs": [
        {
          "data": {
            "text/plain": [
              "array([2, 0, 2, ..., 2, 0, 0])"
            ]
          },
          "execution_count": 130,
          "metadata": {},
          "output_type": "execute_result"
        }
      ],
      "source": [
        "km.labels_"
      ]
    },
    {
      "cell_type": "code",
      "execution_count": 131,
      "metadata": {
        "colab": {
          "base_uri": "https://localhost:8080/",
          "height": 206
        },
        "id": "79r79k4ApTMH",
        "outputId": "29e3ff97-17c0-4b18-8e34-db033f8f9dcd"
      },
      "outputs": [
        {
          "data": {
            "text/html": [
              "<div>\n",
              "<style scoped>\n",
              "    .dataframe tbody tr th:only-of-type {\n",
              "        vertical-align: middle;\n",
              "    }\n",
              "\n",
              "    .dataframe tbody tr th {\n",
              "        vertical-align: top;\n",
              "    }\n",
              "\n",
              "    .dataframe thead th {\n",
              "        text-align: right;\n",
              "    }\n",
              "</style>\n",
              "<table border=\"1\" class=\"dataframe\">\n",
              "  <thead>\n",
              "    <tr style=\"text-align: right;\">\n",
              "      <th></th>\n",
              "      <th>user_id</th>\n",
              "      <th>monetary</th>\n",
              "      <th>frequency</th>\n",
              "      <th>recency</th>\n",
              "      <th>label</th>\n",
              "    </tr>\n",
              "  </thead>\n",
              "  <tbody>\n",
              "    <tr>\n",
              "      <th>0</th>\n",
              "      <td>001b5eddf7</td>\n",
              "      <td>591500</td>\n",
              "      <td>2</td>\n",
              "      <td>0</td>\n",
              "      <td>2</td>\n",
              "    </tr>\n",
              "    <tr>\n",
              "      <th>1</th>\n",
              "      <td>0023cedbf9</td>\n",
              "      <td>7000</td>\n",
              "      <td>1</td>\n",
              "      <td>0</td>\n",
              "      <td>0</td>\n",
              "    </tr>\n",
              "    <tr>\n",
              "      <th>2</th>\n",
              "      <td>0024ae4898</td>\n",
              "      <td>436800</td>\n",
              "      <td>2</td>\n",
              "      <td>0</td>\n",
              "      <td>2</td>\n",
              "    </tr>\n",
              "    <tr>\n",
              "      <th>3</th>\n",
              "      <td>002d8b5849</td>\n",
              "      <td>204750</td>\n",
              "      <td>1</td>\n",
              "      <td>0</td>\n",
              "      <td>0</td>\n",
              "    </tr>\n",
              "    <tr>\n",
              "      <th>4</th>\n",
              "      <td>003e99a26e</td>\n",
              "      <td>145600</td>\n",
              "      <td>1</td>\n",
              "      <td>0</td>\n",
              "      <td>0</td>\n",
              "    </tr>\n",
              "  </tbody>\n",
              "</table>\n",
              "</div>"
            ],
            "text/plain": [
              "      user_id  monetary  frequency  recency  label\n",
              "0  001b5eddf7    591500          2        0      2\n",
              "1  0023cedbf9      7000          1        0      0\n",
              "2  0024ae4898    436800          2        0      2\n",
              "3  002d8b5849    204750          1        0      0\n",
              "4  003e99a26e    145600          1        0      0"
            ]
          },
          "execution_count": 131,
          "metadata": {},
          "output_type": "execute_result"
        }
      ],
      "source": [
        "df_rfm['label'] = km.labels_\n",
        "\n",
        "df_rfm.head()"
      ]
    },
    {
      "cell_type": "code",
      "execution_count": 132,
      "metadata": {},
      "outputs": [
        {
          "data": {
            "text/plain": [
              "(3900, 5)"
            ]
          },
          "execution_count": 132,
          "metadata": {},
          "output_type": "execute_result"
        }
      ],
      "source": [
        "df_rfm.shape"
      ]
    },
    {
      "cell_type": "code",
      "execution_count": 133,
      "metadata": {},
      "outputs": [
        {
          "data": {
            "text/html": [
              "<div>\n",
              "<style scoped>\n",
              "    .dataframe tbody tr th:only-of-type {\n",
              "        vertical-align: middle;\n",
              "    }\n",
              "\n",
              "    .dataframe tbody tr th {\n",
              "        vertical-align: top;\n",
              "    }\n",
              "\n",
              "    .dataframe thead th {\n",
              "        text-align: right;\n",
              "    }\n",
              "</style>\n",
              "<table border=\"1\" class=\"dataframe\">\n",
              "  <thead>\n",
              "    <tr style=\"text-align: right;\">\n",
              "      <th></th>\n",
              "      <th>monetary</th>\n",
              "      <th>frequency</th>\n",
              "      <th>recency</th>\n",
              "      <th>user_id</th>\n",
              "      <th>label</th>\n",
              "    </tr>\n",
              "  </thead>\n",
              "  <tbody>\n",
              "    <tr>\n",
              "      <th>0</th>\n",
              "      <td>0.438787</td>\n",
              "      <td>0.441606</td>\n",
              "      <td>-0.382935</td>\n",
              "      <td>001b5eddf7</td>\n",
              "      <td>2</td>\n",
              "    </tr>\n",
              "    <tr>\n",
              "      <th>1</th>\n",
              "      <td>-0.934770</td>\n",
              "      <td>-0.440249</td>\n",
              "      <td>-0.382935</td>\n",
              "      <td>0023cedbf9</td>\n",
              "      <td>0</td>\n",
              "    </tr>\n",
              "    <tr>\n",
              "      <th>2</th>\n",
              "      <td>0.075247</td>\n",
              "      <td>0.441606</td>\n",
              "      <td>-0.382935</td>\n",
              "      <td>0024ae4898</td>\n",
              "      <td>2</td>\n",
              "    </tr>\n",
              "    <tr>\n",
              "      <th>3</th>\n",
              "      <td>-0.470063</td>\n",
              "      <td>-0.440249</td>\n",
              "      <td>-0.382935</td>\n",
              "      <td>002d8b5849</td>\n",
              "      <td>0</td>\n",
              "    </tr>\n",
              "    <tr>\n",
              "      <th>4</th>\n",
              "      <td>-0.609064</td>\n",
              "      <td>-0.440249</td>\n",
              "      <td>-0.382935</td>\n",
              "      <td>003e99a26e</td>\n",
              "      <td>0</td>\n",
              "    </tr>\n",
              "  </tbody>\n",
              "</table>\n",
              "</div>"
            ],
            "text/plain": [
              "   monetary  frequency   recency     user_id  label\n",
              "0  0.438787   0.441606 -0.382935  001b5eddf7      2\n",
              "1 -0.934770  -0.440249 -0.382935  0023cedbf9      0\n",
              "2  0.075247   0.441606 -0.382935  0024ae4898      2\n",
              "3 -0.470063  -0.440249 -0.382935  002d8b5849      0\n",
              "4 -0.609064  -0.440249 -0.382935  003e99a26e      0"
            ]
          },
          "execution_count": 133,
          "metadata": {},
          "output_type": "execute_result"
        }
      ],
      "source": [
        "df_scaled['label'] = km.labels_\n",
        "\n",
        "df_scaled.head()"
      ]
    },
    {
      "cell_type": "code",
      "execution_count": 134,
      "metadata": {},
      "outputs": [
        {
          "name": "stdout",
          "output_type": "stream",
          "text": [
            "    label   variable     value\n",
            "0       0    recency -0.380114\n",
            "1       1    recency  1.547558\n",
            "2       2    recency -0.345118\n",
            "3       3    recency  2.020301\n",
            "4       4    recency  1.546614\n",
            "5       5    recency  3.510382\n",
            "6       0  frequency -0.420307\n",
            "7       1  frequency  0.868609\n",
            "8       2  frequency  0.343622\n",
            "9       3  frequency  6.826232\n",
            "10      4  frequency  2.933059\n",
            "11      5  frequency  0.790123\n",
            "12      0   monetary -0.434565\n",
            "13      1   monetary  0.527025\n",
            "14      2   monetary  0.529074\n",
            "15      3   monetary  5.751400\n",
            "16      4   monetary  2.543615\n",
            "17      5   monetary  1.207355\n"
          ]
        },
        {
          "data": {
            "text/plain": [
              "<Axes: xlabel='variable', ylabel='value'>"
            ]
          },
          "execution_count": 134,
          "metadata": {},
          "output_type": "execute_result"
        },
        {
          "data": {
            "image/png": "[encoded data removed]",
            "text/plain": [
              "<Figure size 640x480 with 1 Axes>"
            ]
          },
          "metadata": {},
          "output_type": "display_data"
        }
      ],
      "source": [
        "df_melt = df_scaled[['monetary', 'recency', 'frequency', 'label']].groupby(by='label').agg(\"mean\").reset_index()\n",
        "\n",
        "df_melt = df_melt.melt(id_vars=['label'], value_vars=['recency', 'frequency', 'monetary', 'label'])\n",
        "\n",
        "print(df_melt)\n",
        "\n",
        "sns.lineplot(df_melt, x='variable', y='value', hue='label', palette='bright', markers='o', style=True)"
      ]
    },
    {
      "cell_type": "code",
      "execution_count": 135,
      "metadata": {},
      "outputs": [
        {
          "data": {
            "text/html": [
              "<div>\n",
              "<style scoped>\n",
              "    .dataframe tbody tr th:only-of-type {\n",
              "        vertical-align: middle;\n",
              "    }\n",
              "\n",
              "    .dataframe tbody tr th {\n",
              "        vertical-align: top;\n",
              "    }\n",
              "\n",
              "    .dataframe thead tr th {\n",
              "        text-align: left;\n",
              "    }\n",
              "</style>\n",
              "<table border=\"1\" class=\"dataframe\">\n",
              "  <thead>\n",
              "    <tr>\n",
              "      <th></th>\n",
              "      <th>label</th>\n",
              "      <th colspan=\"3\" halign=\"left\">monetary</th>\n",
              "      <th colspan=\"3\" halign=\"left\">recency</th>\n",
              "      <th colspan=\"3\" halign=\"left\">frequency</th>\n",
              "    </tr>\n",
              "    <tr>\n",
              "      <th></th>\n",
              "      <th></th>\n",
              "      <th>min</th>\n",
              "      <th>max</th>\n",
              "      <th>mean</th>\n",
              "      <th>min</th>\n",
              "      <th>max</th>\n",
              "      <th>mean</th>\n",
              "      <th>min</th>\n",
              "      <th>max</th>\n",
              "      <th>mean</th>\n",
              "    </tr>\n",
              "  </thead>\n",
              "  <tbody>\n",
              "    <tr>\n",
              "      <th>0</th>\n",
              "      <td>0</td>\n",
              "      <td>-0.945580</td>\n",
              "      <td>0.486962</td>\n",
              "      <td>-0.434565</td>\n",
              "      <td>-0.382935</td>\n",
              "      <td>0.978727</td>\n",
              "      <td>-0.380114</td>\n",
              "      <td>-0.440249</td>\n",
              "      <td>0.441606</td>\n",
              "      <td>-0.420307</td>\n",
              "    </tr>\n",
              "    <tr>\n",
              "      <th>1</th>\n",
              "      <td>1</td>\n",
              "      <td>-0.904220</td>\n",
              "      <td>2.714733</td>\n",
              "      <td>0.527025</td>\n",
              "      <td>0.633378</td>\n",
              "      <td>2.656138</td>\n",
              "      <td>1.547558</td>\n",
              "      <td>0.441606</td>\n",
              "      <td>3.087169</td>\n",
              "      <td>0.868609</td>\n",
              "    </tr>\n",
              "    <tr>\n",
              "      <th>2</th>\n",
              "      <td>2</td>\n",
              "      <td>-0.927532</td>\n",
              "      <td>3.379304</td>\n",
              "      <td>0.529074</td>\n",
              "      <td>-0.382935</td>\n",
              "      <td>0.732049</td>\n",
              "      <td>-0.345118</td>\n",
              "      <td>-0.440249</td>\n",
              "      <td>3.969024</td>\n",
              "      <td>0.343622</td>\n",
              "    </tr>\n",
              "    <tr>\n",
              "      <th>3</th>\n",
              "      <td>3</td>\n",
              "      <td>-0.511587</td>\n",
              "      <td>13.606371</td>\n",
              "      <td>5.751400</td>\n",
              "      <td>-0.382935</td>\n",
              "      <td>4.639429</td>\n",
              "      <td>2.020301</td>\n",
              "      <td>3.087169</td>\n",
              "      <td>17.196841</td>\n",
              "      <td>6.826232</td>\n",
              "    </tr>\n",
              "    <tr>\n",
              "      <th>4</th>\n",
              "      <td>4</td>\n",
              "      <td>-0.820209</td>\n",
              "      <td>6.162608</td>\n",
              "      <td>2.543615</td>\n",
              "      <td>-0.382935</td>\n",
              "      <td>4.264479</td>\n",
              "      <td>1.546614</td>\n",
              "      <td>0.441606</td>\n",
              "      <td>9.260151</td>\n",
              "      <td>2.933059</td>\n",
              "    </tr>\n",
              "    <tr>\n",
              "      <th>5</th>\n",
              "      <td>5</td>\n",
              "      <td>-0.885421</td>\n",
              "      <td>3.809818</td>\n",
              "      <td>1.207355</td>\n",
              "      <td>2.517998</td>\n",
              "      <td>6.306973</td>\n",
              "      <td>3.510382</td>\n",
              "      <td>0.441606</td>\n",
              "      <td>2.205315</td>\n",
              "      <td>0.790123</td>\n",
              "    </tr>\n",
              "  </tbody>\n",
              "</table>\n",
              "</div>"
            ],
            "text/plain": [
              "  label  monetary                       recency                    frequency  \\\n",
              "              min       max      mean       min      max      mean       min   \n",
              "0     0 -0.945580  0.486962 -0.434565 -0.382935 0.978727 -0.380114 -0.440249   \n",
              "1     1 -0.904220  2.714733  0.527025  0.633378 2.656138  1.547558  0.441606   \n",
              "2     2 -0.927532  3.379304  0.529074 -0.382935 0.732049 -0.345118 -0.440249   \n",
              "3     3 -0.511587 13.606371  5.751400 -0.382935 4.639429  2.020301  3.087169   \n",
              "4     4 -0.820209  6.162608  2.543615 -0.382935 4.264479  1.546614  0.441606   \n",
              "5     5 -0.885421  3.809818  1.207355  2.517998 6.306973  3.510382  0.441606   \n",
              "\n",
              "                       \n",
              "        max      mean  \n",
              "0  0.441606 -0.420307  \n",
              "1  3.087169  0.868609  \n",
              "2  3.969024  0.343622  \n",
              "3 17.196841  6.826232  \n",
              "4  9.260151  2.933059  \n",
              "5  2.205315  0.790123  "
            ]
          },
          "execution_count": 135,
          "metadata": {},
          "output_type": "execute_result"
        }
      ],
      "source": [
        "df_melt = df_scaled[['monetary', 'recency', 'frequency', 'label']].groupby(by='label').agg([\"min\", \"max\", \"mean\"]).reset_index()\n",
        "\n",
        "df_melt"
      ]
    },
    {
      "cell_type": "code",
      "execution_count": 136,
      "metadata": {
        "colab": {
          "base_uri": "https://localhost:8080/",
          "height": 475
        },
        "id": "SdO17YWfsu-D",
        "outputId": "2d7f1a07-2f7f-4d46-8b9c-2a676601f9e1"
      },
      "outputs": [
        {
          "data": {
            "text/plain": [
              "Text(0, 0.5, 'Recency')"
            ]
          },
          "execution_count": 136,
          "metadata": {},
          "output_type": "execute_result"
        },
        {
          "data": {
            "image/png": "[encoded data removed]",
            "text/plain": [
              "<Figure size 640x480 with 1 Axes>"
            ]
          },
          "metadata": {},
          "output_type": "display_data"
        }
      ],
      "source": [
        "ax = sns.boxplot(data=df_rfm, x='label', y='recency', hue='label', palette='deep', legend=False)\n",
        "\n",
        "ax.set_xlabel('Label of Cluster')\n",
        "ax.set_ylabel('Recency')"
      ]
    },
    {
      "cell_type": "code",
      "execution_count": 137,
      "metadata": {
        "colab": {
          "base_uri": "https://localhost:8080/",
          "height": 475
        },
        "id": "w7uvGfmKssSA",
        "outputId": "ea82490f-fc33-433b-d433-9f5dd6491caa"
      },
      "outputs": [
        {
          "data": {
            "text/plain": [
              "Text(0, 0.5, 'Frequency')"
            ]
          },
          "execution_count": 137,
          "metadata": {},
          "output_type": "execute_result"
        },
        {
          "data": {
            "image/png": "[encoded data removed]",
            "text/plain": [
              "<Figure size 640x480 with 1 Axes>"
            ]
          },
          "metadata": {},
          "output_type": "display_data"
        }
      ],
      "source": [
        "ax = sns.boxplot(data=df_rfm, x='label', y='frequency', hue='label', palette='deep', legend=False)\n",
        "\n",
        "ax.set_xlabel('Label of Cluster')\n",
        "ax.set_ylabel('Frequency')"
      ]
    },
    {
      "cell_type": "code",
      "execution_count": 138,
      "metadata": {
        "colab": {
          "base_uri": "https://localhost:8080/",
          "height": 491
        },
        "id": "xQb_fQExpeGR",
        "outputId": "9ee892c0-b7c8-43f1-f663-b657d1908fb5"
      },
      "outputs": [
        {
          "data": {
            "text/plain": [
              "Text(0, 0.5, 'Monetary')"
            ]
          },
          "execution_count": 138,
          "metadata": {},
          "output_type": "execute_result"
        },
        {
          "data": {
            "image/png": "[encoded data removed]",
            "text/plain": [
              "<Figure size 640x480 with 1 Axes>"
            ]
          },
          "metadata": {},
          "output_type": "display_data"
        }
      ],
      "source": [
        "ax = sns.boxplot(data=df_rfm, x='label', y='monetary', hue='label', palette='deep', legend=False)\n",
        "\n",
        "ax.set_xlabel('Label of Cluster')\n",
        "ax.set_ylabel('Monetary')"
      ]
    },
    {
      "cell_type": "code",
      "execution_count": 139,
      "metadata": {},
      "outputs": [
        {
          "data": {
            "text/html": [
              "<div>\n",
              "<style scoped>\n",
              "    .dataframe tbody tr th:only-of-type {\n",
              "        vertical-align: middle;\n",
              "    }\n",
              "\n",
              "    .dataframe tbody tr th {\n",
              "        vertical-align: top;\n",
              "    }\n",
              "\n",
              "    .dataframe thead th {\n",
              "        text-align: right;\n",
              "    }\n",
              "</style>\n",
              "<table border=\"1\" class=\"dataframe\">\n",
              "  <thead>\n",
              "    <tr style=\"text-align: right;\">\n",
              "      <th></th>\n",
              "      <th>user_id</th>\n",
              "      <th>monetary</th>\n",
              "      <th>frequency</th>\n",
              "      <th>recency</th>\n",
              "      <th>label</th>\n",
              "    </tr>\n",
              "  </thead>\n",
              "  <tbody>\n",
              "    <tr>\n",
              "      <th>0</th>\n",
              "      <td>001b5eddf7</td>\n",
              "      <td>591500</td>\n",
              "      <td>2</td>\n",
              "      <td>0</td>\n",
              "      <td>2</td>\n",
              "    </tr>\n",
              "    <tr>\n",
              "      <th>1</th>\n",
              "      <td>0023cedbf9</td>\n",
              "      <td>7000</td>\n",
              "      <td>1</td>\n",
              "      <td>0</td>\n",
              "      <td>0</td>\n",
              "    </tr>\n",
              "    <tr>\n",
              "      <th>2</th>\n",
              "      <td>0024ae4898</td>\n",
              "      <td>436800</td>\n",
              "      <td>2</td>\n",
              "      <td>0</td>\n",
              "      <td>2</td>\n",
              "    </tr>\n",
              "    <tr>\n",
              "      <th>3</th>\n",
              "      <td>002d8b5849</td>\n",
              "      <td>204750</td>\n",
              "      <td>1</td>\n",
              "      <td>0</td>\n",
              "      <td>0</td>\n",
              "    </tr>\n",
              "    <tr>\n",
              "      <th>4</th>\n",
              "      <td>003e99a26e</td>\n",
              "      <td>145600</td>\n",
              "      <td>1</td>\n",
              "      <td>0</td>\n",
              "      <td>0</td>\n",
              "    </tr>\n",
              "  </tbody>\n",
              "</table>\n",
              "</div>"
            ],
            "text/plain": [
              "      user_id  monetary  frequency  recency  label\n",
              "0  001b5eddf7    591500          2        0      2\n",
              "1  0023cedbf9      7000          1        0      0\n",
              "2  0024ae4898    436800          2        0      2\n",
              "3  002d8b5849    204750          1        0      0\n",
              "4  003e99a26e    145600          1        0      0"
            ]
          },
          "execution_count": 139,
          "metadata": {},
          "output_type": "execute_result"
        }
      ],
      "source": [
        "df_rfm.head()"
      ]
    },
    {
      "cell_type": "code",
      "execution_count": 153,
      "metadata": {},
      "outputs": [
        {
          "data": {
            "text/plain": [
              "label\n",
              "0    2609\n",
              "2     711\n",
              "1     285\n",
              "5     167\n",
              "4     103\n",
              "3      25\n",
              "Name: count, dtype: int64"
            ]
          },
          "execution_count": 153,
          "metadata": {},
          "output_type": "execute_result"
        }
      ],
      "source": [
        "df_rfm['label'].value_counts()"
      ]
    },
    {
      "cell_type": "code",
      "execution_count": 155,
      "metadata": {},
      "outputs": [
        {
          "data": {
            "text/html": [
              "<div>\n",
              "<style scoped>\n",
              "    .dataframe tbody tr th:only-of-type {\n",
              "        vertical-align: middle;\n",
              "    }\n",
              "\n",
              "    .dataframe tbody tr th {\n",
              "        vertical-align: top;\n",
              "    }\n",
              "\n",
              "    .dataframe thead tr th {\n",
              "        text-align: left;\n",
              "    }\n",
              "</style>\n",
              "<table border=\"1\" class=\"dataframe\">\n",
              "  <thead>\n",
              "    <tr>\n",
              "      <th></th>\n",
              "      <th>label</th>\n",
              "      <th>monetary</th>\n",
              "      <th>recency</th>\n",
              "      <th>frequency</th>\n",
              "    </tr>\n",
              "    <tr>\n",
              "      <th></th>\n",
              "      <th></th>\n",
              "      <th>mean</th>\n",
              "      <th>mean</th>\n",
              "      <th>mean</th>\n",
              "    </tr>\n",
              "  </thead>\n",
              "  <tbody>\n",
              "    <tr>\n",
              "      <th>0</th>\n",
              "      <td>0</td>\n",
              "      <td>219856.096205</td>\n",
              "      <td>0.285933</td>\n",
              "      <td>1.022614</td>\n",
              "    </tr>\n",
              "    <tr>\n",
              "      <th>1</th>\n",
              "      <td>1</td>\n",
              "      <td>629048.315789</td>\n",
              "      <td>195.649123</td>\n",
              "      <td>2.484211</td>\n",
              "    </tr>\n",
              "    <tr>\n",
              "      <th>2</th>\n",
              "      <td>2</td>\n",
              "      <td>629920.309423</td>\n",
              "      <td>3.832630</td>\n",
              "      <td>1.888889</td>\n",
              "    </tr>\n",
              "    <tr>\n",
              "      <th>3</th>\n",
              "      <td>3</td>\n",
              "      <td>2852215.600000</td>\n",
              "      <td>243.560000</td>\n",
              "      <td>9.240000</td>\n",
              "    </tr>\n",
              "    <tr>\n",
              "      <th>4</th>\n",
              "      <td>4</td>\n",
              "      <td>1487182.961165</td>\n",
              "      <td>195.553398</td>\n",
              "      <td>4.825243</td>\n",
              "    </tr>\n",
              "    <tr>\n",
              "      <th>5</th>\n",
              "      <td>5</td>\n",
              "      <td>918554.371257</td>\n",
              "      <td>394.574850</td>\n",
              "      <td>2.395210</td>\n",
              "    </tr>\n",
              "  </tbody>\n",
              "</table>\n",
              "</div>"
            ],
            "text/plain": [
              "  label       monetary    recency frequency\n",
              "                  mean       mean      mean\n",
              "0     0  219856.096205   0.285933  1.022614\n",
              "1     1  629048.315789 195.649123  2.484211\n",
              "2     2  629920.309423   3.832630  1.888889\n",
              "3     3 2852215.600000 243.560000  9.240000\n",
              "4     4 1487182.961165 195.553398  4.825243\n",
              "5     5  918554.371257 394.574850  2.395210"
            ]
          },
          "execution_count": 155,
          "metadata": {},
          "output_type": "execute_result"
        }
      ],
      "source": [
        "df_rfm[['monetary', 'recency', 'frequency', 'label']].groupby(by='label').agg([\"mean\"]).reset_index()"
      ]
    },
    {
      "cell_type": "code",
      "execution_count": 140,
      "metadata": {},
      "outputs": [
        {
          "data": {
            "text/html": [
              "<div>\n",
              "<style scoped>\n",
              "    .dataframe tbody tr th:only-of-type {\n",
              "        vertical-align: middle;\n",
              "    }\n",
              "\n",
              "    .dataframe tbody tr th {\n",
              "        vertical-align: top;\n",
              "    }\n",
              "\n",
              "    .dataframe thead th {\n",
              "        text-align: right;\n",
              "    }\n",
              "</style>\n",
              "<table border=\"1\" class=\"dataframe\">\n",
              "  <thead>\n",
              "    <tr style=\"text-align: right;\">\n",
              "      <th></th>\n",
              "      <th>user_id</th>\n",
              "      <th>monetary</th>\n",
              "      <th>frequency</th>\n",
              "      <th>recency</th>\n",
              "      <th>label_x</th>\n",
              "      <th>label_y</th>\n",
              "    </tr>\n",
              "  </thead>\n",
              "  <tbody>\n",
              "    <tr>\n",
              "      <th>0</th>\n",
              "      <td>001b5eddf7</td>\n",
              "      <td>591500</td>\n",
              "      <td>2</td>\n",
              "      <td>0</td>\n",
              "      <td>2</td>\n",
              "      <td>2</td>\n",
              "    </tr>\n",
              "    <tr>\n",
              "      <th>1</th>\n",
              "      <td>0023cedbf9</td>\n",
              "      <td>7000</td>\n",
              "      <td>1</td>\n",
              "      <td>0</td>\n",
              "      <td>0</td>\n",
              "      <td>0</td>\n",
              "    </tr>\n",
              "    <tr>\n",
              "      <th>2</th>\n",
              "      <td>0024ae4898</td>\n",
              "      <td>436800</td>\n",
              "      <td>2</td>\n",
              "      <td>0</td>\n",
              "      <td>2</td>\n",
              "      <td>2</td>\n",
              "    </tr>\n",
              "    <tr>\n",
              "      <th>3</th>\n",
              "      <td>002d8b5849</td>\n",
              "      <td>204750</td>\n",
              "      <td>1</td>\n",
              "      <td>0</td>\n",
              "      <td>0</td>\n",
              "      <td>0</td>\n",
              "    </tr>\n",
              "    <tr>\n",
              "      <th>4</th>\n",
              "      <td>003e99a26e</td>\n",
              "      <td>145600</td>\n",
              "      <td>1</td>\n",
              "      <td>0</td>\n",
              "      <td>0</td>\n",
              "      <td>0</td>\n",
              "    </tr>\n",
              "  </tbody>\n",
              "</table>\n",
              "</div>"
            ],
            "text/plain": [
              "      user_id  monetary  frequency  recency  label_x  label_y\n",
              "0  001b5eddf7    591500          2        0        2        2\n",
              "1  0023cedbf9      7000          1        0        0        0\n",
              "2  0024ae4898    436800          2        0        2        2\n",
              "3  002d8b5849    204750          1        0        0        0\n",
              "4  003e99a26e    145600          1        0        0        0"
            ]
          },
          "execution_count": 140,
          "metadata": {},
          "output_type": "execute_result"
        }
      ],
      "source": [
        "df_rfm = df_rfm.merge(df_scaled[['user_id', 'label']], on='user_id')\n",
        "\n",
        "df_rfm.head()"
      ]
    },
    {
      "cell_type": "code",
      "execution_count": 141,
      "metadata": {},
      "outputs": [
        {
          "data": {
            "text/html": [
              "<div>\n",
              "<style scoped>\n",
              "    .dataframe tbody tr th:only-of-type {\n",
              "        vertical-align: middle;\n",
              "    }\n",
              "\n",
              "    .dataframe tbody tr th {\n",
              "        vertical-align: top;\n",
              "    }\n",
              "\n",
              "    .dataframe thead th {\n",
              "        text-align: right;\n",
              "    }\n",
              "</style>\n",
              "<table border=\"1\" class=\"dataframe\">\n",
              "  <thead>\n",
              "    <tr style=\"text-align: right;\">\n",
              "      <th></th>\n",
              "      <th>user_id</th>\n",
              "      <th>monetary</th>\n",
              "      <th>frequency</th>\n",
              "      <th>recency</th>\n",
              "      <th>label</th>\n",
              "      <th>label_y</th>\n",
              "    </tr>\n",
              "  </thead>\n",
              "  <tbody>\n",
              "    <tr>\n",
              "      <th>0</th>\n",
              "      <td>001b5eddf7</td>\n",
              "      <td>591500</td>\n",
              "      <td>2</td>\n",
              "      <td>0</td>\n",
              "      <td>2</td>\n",
              "      <td>2</td>\n",
              "    </tr>\n",
              "    <tr>\n",
              "      <th>1</th>\n",
              "      <td>0023cedbf9</td>\n",
              "      <td>7000</td>\n",
              "      <td>1</td>\n",
              "      <td>0</td>\n",
              "      <td>0</td>\n",
              "      <td>0</td>\n",
              "    </tr>\n",
              "    <tr>\n",
              "      <th>2</th>\n",
              "      <td>0024ae4898</td>\n",
              "      <td>436800</td>\n",
              "      <td>2</td>\n",
              "      <td>0</td>\n",
              "      <td>2</td>\n",
              "      <td>2</td>\n",
              "    </tr>\n",
              "    <tr>\n",
              "      <th>3</th>\n",
              "      <td>002d8b5849</td>\n",
              "      <td>204750</td>\n",
              "      <td>1</td>\n",
              "      <td>0</td>\n",
              "      <td>0</td>\n",
              "      <td>0</td>\n",
              "    </tr>\n",
              "    <tr>\n",
              "      <th>4</th>\n",
              "      <td>003e99a26e</td>\n",
              "      <td>145600</td>\n",
              "      <td>1</td>\n",
              "      <td>0</td>\n",
              "      <td>0</td>\n",
              "      <td>0</td>\n",
              "    </tr>\n",
              "  </tbody>\n",
              "</table>\n",
              "</div>"
            ],
            "text/plain": [
              "      user_id  monetary  frequency  recency  label  label_y\n",
              "0  001b5eddf7    591500          2        0      2        2\n",
              "1  0023cedbf9      7000          1        0      0        0\n",
              "2  0024ae4898    436800          2        0      2        2\n",
              "3  002d8b5849    204750          1        0      0        0\n",
              "4  003e99a26e    145600          1        0      0        0"
            ]
          },
          "execution_count": 141,
          "metadata": {},
          "output_type": "execute_result"
        }
      ],
      "source": [
        "df_rfm = df_rfm.rename(columns={'label_x': 'label'})\n",
        "\n",
        "df_rfm.head()"
      ]
    },
    {
      "cell_type": "code",
      "execution_count": 142,
      "metadata": {},
      "outputs": [
        {
          "data": {
            "text/html": [
              "<div>\n",
              "<style scoped>\n",
              "    .dataframe tbody tr th:only-of-type {\n",
              "        vertical-align: middle;\n",
              "    }\n",
              "\n",
              "    .dataframe tbody tr th {\n",
              "        vertical-align: top;\n",
              "    }\n",
              "\n",
              "    .dataframe thead th {\n",
              "        text-align: right;\n",
              "    }\n",
              "</style>\n",
              "<table border=\"1\" class=\"dataframe\">\n",
              "  <thead>\n",
              "    <tr style=\"text-align: right;\">\n",
              "      <th></th>\n",
              "      <th>user_id</th>\n",
              "      <th>monetary</th>\n",
              "      <th>frequency</th>\n",
              "      <th>recency</th>\n",
              "      <th>label</th>\n",
              "    </tr>\n",
              "  </thead>\n",
              "  <tbody>\n",
              "    <tr>\n",
              "      <th>0</th>\n",
              "      <td>001b5eddf7</td>\n",
              "      <td>591500</td>\n",
              "      <td>2</td>\n",
              "      <td>0</td>\n",
              "      <td>2</td>\n",
              "    </tr>\n",
              "    <tr>\n",
              "      <th>1</th>\n",
              "      <td>0023cedbf9</td>\n",
              "      <td>7000</td>\n",
              "      <td>1</td>\n",
              "      <td>0</td>\n",
              "      <td>0</td>\n",
              "    </tr>\n",
              "    <tr>\n",
              "      <th>2</th>\n",
              "      <td>0024ae4898</td>\n",
              "      <td>436800</td>\n",
              "      <td>2</td>\n",
              "      <td>0</td>\n",
              "      <td>2</td>\n",
              "    </tr>\n",
              "    <tr>\n",
              "      <th>3</th>\n",
              "      <td>002d8b5849</td>\n",
              "      <td>204750</td>\n",
              "      <td>1</td>\n",
              "      <td>0</td>\n",
              "      <td>0</td>\n",
              "    </tr>\n",
              "    <tr>\n",
              "      <th>4</th>\n",
              "      <td>003e99a26e</td>\n",
              "      <td>145600</td>\n",
              "      <td>1</td>\n",
              "      <td>0</td>\n",
              "      <td>0</td>\n",
              "    </tr>\n",
              "  </tbody>\n",
              "</table>\n",
              "</div>"
            ],
            "text/plain": [
              "      user_id  monetary  frequency  recency  label\n",
              "0  001b5eddf7    591500          2        0      2\n",
              "1  0023cedbf9      7000          1        0      0\n",
              "2  0024ae4898    436800          2        0      2\n",
              "3  002d8b5849    204750          1        0      0\n",
              "4  003e99a26e    145600          1        0      0"
            ]
          },
          "execution_count": 142,
          "metadata": {},
          "output_type": "execute_result"
        }
      ],
      "source": [
        "df_rfm = df_rfm.drop(columns=['label_y'])\n",
        "\n",
        "df_rfm.head()"
      ]
    },
    {
      "cell_type": "code",
      "execution_count": 143,
      "metadata": {},
      "outputs": [],
      "source": [
        "pd.set_option('float_format', '{:f}'.format)"
      ]
    },
    {
      "cell_type": "code",
      "execution_count": 144,
      "metadata": {},
      "outputs": [
        {
          "data": {
            "text/html": [
              "<div>\n",
              "<style scoped>\n",
              "    .dataframe tbody tr th:only-of-type {\n",
              "        vertical-align: middle;\n",
              "    }\n",
              "\n",
              "    .dataframe tbody tr th {\n",
              "        vertical-align: top;\n",
              "    }\n",
              "\n",
              "    .dataframe thead th {\n",
              "        text-align: right;\n",
              "    }\n",
              "</style>\n",
              "<table border=\"1\" class=\"dataframe\">\n",
              "  <thead>\n",
              "    <tr style=\"text-align: right;\">\n",
              "      <th></th>\n",
              "      <th>monetary</th>\n",
              "      <th>frequency</th>\n",
              "      <th>recency</th>\n",
              "    </tr>\n",
              "  </thead>\n",
              "  <tbody>\n",
              "    <tr>\n",
              "      <th>count</th>\n",
              "      <td>2609.000000</td>\n",
              "      <td>2609.000000</td>\n",
              "      <td>2609.000000</td>\n",
              "    </tr>\n",
              "    <tr>\n",
              "      <th>mean</th>\n",
              "      <td>219856.096205</td>\n",
              "      <td>1.022614</td>\n",
              "      <td>0.285933</td>\n",
              "    </tr>\n",
              "    <tr>\n",
              "      <th>std</th>\n",
              "      <td>148364.016082</td>\n",
              "      <td>0.148698</td>\n",
              "      <td>4.436355</td>\n",
              "    </tr>\n",
              "    <tr>\n",
              "      <th>min</th>\n",
              "      <td>2400.000000</td>\n",
              "      <td>1.000000</td>\n",
              "      <td>0.000000</td>\n",
              "    </tr>\n",
              "    <tr>\n",
              "      <th>25%</th>\n",
              "      <td>94500.000000</td>\n",
              "      <td>1.000000</td>\n",
              "      <td>0.000000</td>\n",
              "    </tr>\n",
              "    <tr>\n",
              "      <th>50%</th>\n",
              "      <td>204750.000000</td>\n",
              "      <td>1.000000</td>\n",
              "      <td>0.000000</td>\n",
              "    </tr>\n",
              "    <tr>\n",
              "      <th>75%</th>\n",
              "      <td>324000.000000</td>\n",
              "      <td>1.000000</td>\n",
              "      <td>0.000000</td>\n",
              "    </tr>\n",
              "    <tr>\n",
              "      <th>max</th>\n",
              "      <td>612000.000000</td>\n",
              "      <td>2.000000</td>\n",
              "      <td>138.000000</td>\n",
              "    </tr>\n",
              "  </tbody>\n",
              "</table>\n",
              "</div>"
            ],
            "text/plain": [
              "           monetary   frequency     recency\n",
              "count   2609.000000 2609.000000 2609.000000\n",
              "mean  219856.096205    1.022614    0.285933\n",
              "std   148364.016082    0.148698    4.436355\n",
              "min     2400.000000    1.000000    0.000000\n",
              "25%    94500.000000    1.000000    0.000000\n",
              "50%   204750.000000    1.000000    0.000000\n",
              "75%   324000.000000    1.000000    0.000000\n",
              "max   612000.000000    2.000000  138.000000"
            ]
          },
          "execution_count": 144,
          "metadata": {},
          "output_type": "execute_result"
        }
      ],
      "source": [
        "df_rfm[df_rfm['label'] == 0].describe()[['monetary', 'frequency', 'recency']]"
      ]
    },
    {
      "cell_type": "code",
      "execution_count": 145,
      "metadata": {},
      "outputs": [
        {
          "data": {
            "text/html": [
              "<div>\n",
              "<style scoped>\n",
              "    .dataframe tbody tr th:only-of-type {\n",
              "        vertical-align: middle;\n",
              "    }\n",
              "\n",
              "    .dataframe tbody tr th {\n",
              "        vertical-align: top;\n",
              "    }\n",
              "\n",
              "    .dataframe thead th {\n",
              "        text-align: right;\n",
              "    }\n",
              "</style>\n",
              "<table border=\"1\" class=\"dataframe\">\n",
              "  <thead>\n",
              "    <tr style=\"text-align: right;\">\n",
              "      <th></th>\n",
              "      <th>monetary</th>\n",
              "      <th>frequency</th>\n",
              "      <th>recency</th>\n",
              "    </tr>\n",
              "  </thead>\n",
              "  <tbody>\n",
              "    <tr>\n",
              "      <th>count</th>\n",
              "      <td>285.000000</td>\n",
              "      <td>285.000000</td>\n",
              "      <td>285.000000</td>\n",
              "    </tr>\n",
              "    <tr>\n",
              "      <th>mean</th>\n",
              "      <td>629048.315789</td>\n",
              "      <td>2.484211</td>\n",
              "      <td>195.649123</td>\n",
              "    </tr>\n",
              "    <tr>\n",
              "      <th>std</th>\n",
              "      <td>287164.877315</td>\n",
              "      <td>0.669188</td>\n",
              "      <td>37.947096</td>\n",
              "    </tr>\n",
              "    <tr>\n",
              "      <th>min</th>\n",
              "      <td>20000.000000</td>\n",
              "      <td>2.000000</td>\n",
              "      <td>103.000000</td>\n",
              "    </tr>\n",
              "    <tr>\n",
              "      <th>25%</th>\n",
              "      <td>420000.000000</td>\n",
              "      <td>2.000000</td>\n",
              "      <td>176.000000</td>\n",
              "    </tr>\n",
              "    <tr>\n",
              "      <th>50%</th>\n",
              "      <td>600600.000000</td>\n",
              "      <td>2.000000</td>\n",
              "      <td>195.000000</td>\n",
              "    </tr>\n",
              "    <tr>\n",
              "      <th>75%</th>\n",
              "      <td>792000.000000</td>\n",
              "      <td>3.000000</td>\n",
              "      <td>210.000000</td>\n",
              "    </tr>\n",
              "    <tr>\n",
              "      <th>max</th>\n",
              "      <td>1560000.000000</td>\n",
              "      <td>5.000000</td>\n",
              "      <td>308.000000</td>\n",
              "    </tr>\n",
              "  </tbody>\n",
              "</table>\n",
              "</div>"
            ],
            "text/plain": [
              "            monetary  frequency    recency\n",
              "count     285.000000 285.000000 285.000000\n",
              "mean   629048.315789   2.484211 195.649123\n",
              "std    287164.877315   0.669188  37.947096\n",
              "min     20000.000000   2.000000 103.000000\n",
              "25%    420000.000000   2.000000 176.000000\n",
              "50%    600600.000000   2.000000 195.000000\n",
              "75%    792000.000000   3.000000 210.000000\n",
              "max   1560000.000000   5.000000 308.000000"
            ]
          },
          "execution_count": 145,
          "metadata": {},
          "output_type": "execute_result"
        }
      ],
      "source": [
        "df_rfm[df_rfm['label'] == 1].describe()[['monetary', 'frequency', 'recency']]"
      ]
    },
    {
      "cell_type": "code",
      "execution_count": 146,
      "metadata": {},
      "outputs": [
        {
          "data": {
            "text/html": [
              "<div>\n",
              "<style scoped>\n",
              "    .dataframe tbody tr th:only-of-type {\n",
              "        vertical-align: middle;\n",
              "    }\n",
              "\n",
              "    .dataframe tbody tr th {\n",
              "        vertical-align: top;\n",
              "    }\n",
              "\n",
              "    .dataframe thead th {\n",
              "        text-align: right;\n",
              "    }\n",
              "</style>\n",
              "<table border=\"1\" class=\"dataframe\">\n",
              "  <thead>\n",
              "    <tr style=\"text-align: right;\">\n",
              "      <th></th>\n",
              "      <th>monetary</th>\n",
              "      <th>frequency</th>\n",
              "      <th>recency</th>\n",
              "    </tr>\n",
              "  </thead>\n",
              "  <tbody>\n",
              "    <tr>\n",
              "      <th>count</th>\n",
              "      <td>711.000000</td>\n",
              "      <td>711.000000</td>\n",
              "      <td>711.000000</td>\n",
              "    </tr>\n",
              "    <tr>\n",
              "      <th>mean</th>\n",
              "      <td>629920.309423</td>\n",
              "      <td>1.888889</td>\n",
              "      <td>3.832630</td>\n",
              "    </tr>\n",
              "    <tr>\n",
              "      <th>std</th>\n",
              "      <td>286291.910757</td>\n",
              "      <td>0.731795</td>\n",
              "      <td>15.684975</td>\n",
              "    </tr>\n",
              "    <tr>\n",
              "      <th>min</th>\n",
              "      <td>10080.000000</td>\n",
              "      <td>1.000000</td>\n",
              "      <td>0.000000</td>\n",
              "    </tr>\n",
              "    <tr>\n",
              "      <th>25%</th>\n",
              "      <td>422100.000000</td>\n",
              "      <td>1.000000</td>\n",
              "      <td>0.000000</td>\n",
              "    </tr>\n",
              "    <tr>\n",
              "      <th>50%</th>\n",
              "      <td>618800.000000</td>\n",
              "      <td>2.000000</td>\n",
              "      <td>0.000000</td>\n",
              "    </tr>\n",
              "    <tr>\n",
              "      <th>75%</th>\n",
              "      <td>728000.000000</td>\n",
              "      <td>2.000000</td>\n",
              "      <td>0.000000</td>\n",
              "    </tr>\n",
              "    <tr>\n",
              "      <th>max</th>\n",
              "      <td>1842800.000000</td>\n",
              "      <td>6.000000</td>\n",
              "      <td>113.000000</td>\n",
              "    </tr>\n",
              "  </tbody>\n",
              "</table>\n",
              "</div>"
            ],
            "text/plain": [
              "            monetary  frequency    recency\n",
              "count     711.000000 711.000000 711.000000\n",
              "mean   629920.309423   1.888889   3.832630\n",
              "std    286291.910757   0.731795  15.684975\n",
              "min     10080.000000   1.000000   0.000000\n",
              "25%    422100.000000   1.000000   0.000000\n",
              "50%    618800.000000   2.000000   0.000000\n",
              "75%    728000.000000   2.000000   0.000000\n",
              "max   1842800.000000   6.000000 113.000000"
            ]
          },
          "execution_count": 146,
          "metadata": {},
          "output_type": "execute_result"
        }
      ],
      "source": [
        "df_rfm[df_rfm['label'] == 2].describe()[['monetary', 'frequency', 'recency']]"
      ]
    },
    {
      "cell_type": "code",
      "execution_count": 147,
      "metadata": {},
      "outputs": [
        {
          "data": {
            "text/html": [
              "<div>\n",
              "<style scoped>\n",
              "    .dataframe tbody tr th:only-of-type {\n",
              "        vertical-align: middle;\n",
              "    }\n",
              "\n",
              "    .dataframe tbody tr th {\n",
              "        vertical-align: top;\n",
              "    }\n",
              "\n",
              "    .dataframe thead th {\n",
              "        text-align: right;\n",
              "    }\n",
              "</style>\n",
              "<table border=\"1\" class=\"dataframe\">\n",
              "  <thead>\n",
              "    <tr style=\"text-align: right;\">\n",
              "      <th></th>\n",
              "      <th>monetary</th>\n",
              "      <th>frequency</th>\n",
              "      <th>recency</th>\n",
              "    </tr>\n",
              "  </thead>\n",
              "  <tbody>\n",
              "    <tr>\n",
              "      <th>count</th>\n",
              "      <td>25.000000</td>\n",
              "      <td>25.000000</td>\n",
              "      <td>25.000000</td>\n",
              "    </tr>\n",
              "    <tr>\n",
              "      <th>mean</th>\n",
              "      <td>2852215.600000</td>\n",
              "      <td>9.240000</td>\n",
              "      <td>243.560000</td>\n",
              "    </tr>\n",
              "    <tr>\n",
              "      <th>std</th>\n",
              "      <td>1458493.345923</td>\n",
              "      <td>3.865230</td>\n",
              "      <td>124.402264</td>\n",
              "    </tr>\n",
              "    <tr>\n",
              "      <th>min</th>\n",
              "      <td>187080.000000</td>\n",
              "      <td>5.000000</td>\n",
              "      <td>0.000000</td>\n",
              "    </tr>\n",
              "    <tr>\n",
              "      <th>25%</th>\n",
              "      <td>2222800.000000</td>\n",
              "      <td>6.000000</td>\n",
              "      <td>195.000000</td>\n",
              "    </tr>\n",
              "    <tr>\n",
              "      <th>50%</th>\n",
              "      <td>2733400.000000</td>\n",
              "      <td>8.000000</td>\n",
              "      <td>245.000000</td>\n",
              "    </tr>\n",
              "    <tr>\n",
              "      <th>75%</th>\n",
              "      <td>3356400.000000</td>\n",
              "      <td>12.000000</td>\n",
              "      <td>335.000000</td>\n",
              "    </tr>\n",
              "    <tr>\n",
              "      <th>max</th>\n",
              "      <td>6194800.000000</td>\n",
              "      <td>21.000000</td>\n",
              "      <td>509.000000</td>\n",
              "    </tr>\n",
              "  </tbody>\n",
              "</table>\n",
              "</div>"
            ],
            "text/plain": [
              "            monetary  frequency    recency\n",
              "count      25.000000  25.000000  25.000000\n",
              "mean  2852215.600000   9.240000 243.560000\n",
              "std   1458493.345923   3.865230 124.402264\n",
              "min    187080.000000   5.000000   0.000000\n",
              "25%   2222800.000000   6.000000 195.000000\n",
              "50%   2733400.000000   8.000000 245.000000\n",
              "75%   3356400.000000  12.000000 335.000000\n",
              "max   6194800.000000  21.000000 509.000000"
            ]
          },
          "execution_count": 147,
          "metadata": {},
          "output_type": "execute_result"
        }
      ],
      "source": [
        "df_rfm[df_rfm['label'] == 3].describe()[['monetary', 'frequency', 'recency']]"
      ]
    },
    {
      "cell_type": "code",
      "execution_count": 148,
      "metadata": {},
      "outputs": [
        {
          "data": {
            "text/html": [
              "<div>\n",
              "<style scoped>\n",
              "    .dataframe tbody tr th:only-of-type {\n",
              "        vertical-align: middle;\n",
              "    }\n",
              "\n",
              "    .dataframe tbody tr th {\n",
              "        vertical-align: top;\n",
              "    }\n",
              "\n",
              "    .dataframe thead th {\n",
              "        text-align: right;\n",
              "    }\n",
              "</style>\n",
              "<table border=\"1\" class=\"dataframe\">\n",
              "  <thead>\n",
              "    <tr style=\"text-align: right;\">\n",
              "      <th></th>\n",
              "      <th>monetary</th>\n",
              "      <th>frequency</th>\n",
              "      <th>recency</th>\n",
              "    </tr>\n",
              "  </thead>\n",
              "  <tbody>\n",
              "    <tr>\n",
              "      <th>count</th>\n",
              "      <td>103.000000</td>\n",
              "      <td>103.000000</td>\n",
              "      <td>103.000000</td>\n",
              "    </tr>\n",
              "    <tr>\n",
              "      <th>mean</th>\n",
              "      <td>1487182.961165</td>\n",
              "      <td>4.825243</td>\n",
              "      <td>195.553398</td>\n",
              "    </tr>\n",
              "    <tr>\n",
              "      <th>std</th>\n",
              "      <td>606736.395124</td>\n",
              "      <td>1.647501</td>\n",
              "      <td>130.062860</td>\n",
              "    </tr>\n",
              "    <tr>\n",
              "      <th>min</th>\n",
              "      <td>55750.000000</td>\n",
              "      <td>2.000000</td>\n",
              "      <td>0.000000</td>\n",
              "    </tr>\n",
              "    <tr>\n",
              "      <th>25%</th>\n",
              "      <td>1166580.000000</td>\n",
              "      <td>4.000000</td>\n",
              "      <td>96.500000</td>\n",
              "    </tr>\n",
              "    <tr>\n",
              "      <th>50%</th>\n",
              "      <td>1534000.000000</td>\n",
              "      <td>4.000000</td>\n",
              "      <td>196.000000</td>\n",
              "    </tr>\n",
              "    <tr>\n",
              "      <th>75%</th>\n",
              "      <td>1903900.000000</td>\n",
              "      <td>6.000000</td>\n",
              "      <td>310.500000</td>\n",
              "    </tr>\n",
              "    <tr>\n",
              "      <th>max</th>\n",
              "      <td>3027200.000000</td>\n",
              "      <td>12.000000</td>\n",
              "      <td>471.000000</td>\n",
              "    </tr>\n",
              "  </tbody>\n",
              "</table>\n",
              "</div>"
            ],
            "text/plain": [
              "            monetary  frequency    recency\n",
              "count     103.000000 103.000000 103.000000\n",
              "mean  1487182.961165   4.825243 195.553398\n",
              "std    606736.395124   1.647501 130.062860\n",
              "min     55750.000000   2.000000   0.000000\n",
              "25%   1166580.000000   4.000000  96.500000\n",
              "50%   1534000.000000   4.000000 196.000000\n",
              "75%   1903900.000000   6.000000 310.500000\n",
              "max   3027200.000000  12.000000 471.000000"
            ]
          },
          "execution_count": 148,
          "metadata": {},
          "output_type": "execute_result"
        }
      ],
      "source": [
        "df_rfm[df_rfm['label'] == 4].describe()[['monetary', 'frequency', 'recency']]"
      ]
    },
    {
      "cell_type": "code",
      "execution_count": 149,
      "metadata": {},
      "outputs": [
        {
          "data": {
            "text/html": [
              "<div>\n",
              "<style scoped>\n",
              "    .dataframe tbody tr th:only-of-type {\n",
              "        vertical-align: middle;\n",
              "    }\n",
              "\n",
              "    .dataframe tbody tr th {\n",
              "        vertical-align: top;\n",
              "    }\n",
              "\n",
              "    .dataframe thead th {\n",
              "        text-align: right;\n",
              "    }\n",
              "</style>\n",
              "<table border=\"1\" class=\"dataframe\">\n",
              "  <thead>\n",
              "    <tr style=\"text-align: right;\">\n",
              "      <th></th>\n",
              "      <th>monetary</th>\n",
              "      <th>frequency</th>\n",
              "      <th>recency</th>\n",
              "    </tr>\n",
              "  </thead>\n",
              "  <tbody>\n",
              "    <tr>\n",
              "      <th>count</th>\n",
              "      <td>167.000000</td>\n",
              "      <td>167.000000</td>\n",
              "      <td>167.000000</td>\n",
              "    </tr>\n",
              "    <tr>\n",
              "      <th>mean</th>\n",
              "      <td>918554.371257</td>\n",
              "      <td>2.395210</td>\n",
              "      <td>394.574850</td>\n",
              "    </tr>\n",
              "    <tr>\n",
              "      <th>std</th>\n",
              "      <td>384171.448920</td>\n",
              "      <td>0.630147</td>\n",
              "      <td>71.877105</td>\n",
              "    </tr>\n",
              "    <tr>\n",
              "      <th>min</th>\n",
              "      <td>28000.000000</td>\n",
              "      <td>2.000000</td>\n",
              "      <td>294.000000</td>\n",
              "    </tr>\n",
              "    <tr>\n",
              "      <th>25%</th>\n",
              "      <td>633500.000000</td>\n",
              "      <td>2.000000</td>\n",
              "      <td>351.500000</td>\n",
              "    </tr>\n",
              "    <tr>\n",
              "      <th>50%</th>\n",
              "      <td>837200.000000</td>\n",
              "      <td>2.000000</td>\n",
              "      <td>374.000000</td>\n",
              "    </tr>\n",
              "    <tr>\n",
              "      <th>75%</th>\n",
              "      <td>1274000.000000</td>\n",
              "      <td>3.000000</td>\n",
              "      <td>406.500000</td>\n",
              "    </tr>\n",
              "    <tr>\n",
              "      <th>max</th>\n",
              "      <td>2026000.000000</td>\n",
              "      <td>4.000000</td>\n",
              "      <td>678.000000</td>\n",
              "    </tr>\n",
              "  </tbody>\n",
              "</table>\n",
              "</div>"
            ],
            "text/plain": [
              "            monetary  frequency    recency\n",
              "count     167.000000 167.000000 167.000000\n",
              "mean   918554.371257   2.395210 394.574850\n",
              "std    384171.448920   0.630147  71.877105\n",
              "min     28000.000000   2.000000 294.000000\n",
              "25%    633500.000000   2.000000 351.500000\n",
              "50%    837200.000000   2.000000 374.000000\n",
              "75%   1274000.000000   3.000000 406.500000\n",
              "max   2026000.000000   4.000000 678.000000"
            ]
          },
          "execution_count": 149,
          "metadata": {},
          "output_type": "execute_result"
        }
      ],
      "source": [
        "df_rfm[df_rfm['label'] == 5].describe()[['monetary', 'frequency', 'recency']]"
      ]
    },
    {
      "cell_type": "code",
      "execution_count": 150,
      "metadata": {},
      "outputs": [
        {
          "data": {
            "text/plain": [
              "<Axes: xlabel='variable', ylabel='value'>"
            ]
          },
          "execution_count": 150,
          "metadata": {},
          "output_type": "execute_result"
        },
        {
          "data": {
            "image/png": "[encoded data removed]",
            "text/plain": [
              "<Figure size 640x480 with 1 Axes>"
            ]
          },
          "metadata": {},
          "output_type": "display_data"
        }
      ],
      "source": [
        "df_melt_new = df_rfm[['monetary', 'recency', 'frequency', 'label']].groupby(by='label').agg(\"mean\").reset_index()\n",
        "\n",
        "df_melt_new = df_melt_new.melt(id_vars=['label'], value_vars=['recency', 'frequency', 'monetary', 'label'])\n",
        "\n",
        "sns.lineplot(df_melt_new, x='variable', y='value', hue='label', palette='bright', markers='o', style=True)"
      ]
    }
  ],
  "metadata": {
    "colab": {
      "provenance": []
    },
    "kernelspec": {
      "display_name": "Python 3",
      "name": "python3"
    },
    "language_info": {
      "codemirror_mode": {
        "name": "ipython",
        "version": 3
      },
      "file_extension": ".py",
      "mimetype": "text/x-python",
      "name": "python",
      "nbconvert_exporter": "python",
      "pygments_lexer": "ipython3",
      "version": "3.11.5"
    }
  },
  "nbformat": 4,
  "nbformat_minor": 0
}
