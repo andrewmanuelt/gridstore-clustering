{
  "cells": [
    {
      "cell_type": "code",
      "execution_count": 1,
      "metadata": {
        "id": "6gZrWmc_s4aQ"
      },
      "outputs": [],
      "source": [
        "# https://www.kaggle.com/code/hellbuoy/online-retail-k-means-hierarchical-clustering/notebook#Business-Goal\n",
        "\n",
        "import pandas as pd\n",
        "import numpy as np\n",
        "\n",
        "import matplotlib.pyplot as plt\n",
        "import seaborn as sns\n",
        "\n",
        "from sklearn.preprocessing import StandardScaler\n",
        "from sklearn.decomposition import PCA\n",
        "from sklearn.metrics import silhouette_score\n",
        "\n",
        "from sklearn.cluster import KMeans"
      ]
    },
    {
      "cell_type": "code",
      "execution_count": 2,
      "metadata": {
        "colab": {
          "base_uri": "https://localhost:8080/",
          "height": 206
        },
        "id": "nJgsNOcCtEFG",
        "outputId": "516c6db7-4435-44c2-9870-5a68de3425e0"
      },
      "outputs": [
        {
          "data": {
            "text/html": [
              "<div>\n",
              "<style scoped>\n",
              "    .dataframe tbody tr th:only-of-type {\n",
              "        vertical-align: middle;\n",
              "    }\n",
              "\n",
              "    .dataframe tbody tr th {\n",
              "        vertical-align: top;\n",
              "    }\n",
              "\n",
              "    .dataframe thead th {\n",
              "        text-align: right;\n",
              "    }\n",
              "</style>\n",
              "<table border=\"1\" class=\"dataframe\">\n",
              "  <thead>\n",
              "    <tr style=\"text-align: right;\">\n",
              "      <th></th>\n",
              "      <th>Unnamed: 0</th>\n",
              "      <th>trans_date</th>\n",
              "      <th>acc_created_date</th>\n",
              "      <th>trans_id</th>\n",
              "      <th>user_id</th>\n",
              "      <th>brand</th>\n",
              "      <th>product_name</th>\n",
              "      <th>quantity</th>\n",
              "      <th>sub_total</th>\n",
              "    </tr>\n",
              "  </thead>\n",
              "  <tbody>\n",
              "    <tr>\n",
              "      <th>0</th>\n",
              "      <td>0</td>\n",
              "      <td>2021-03-01 09:42:48</td>\n",
              "      <td>2021-03-01 09:39:28</td>\n",
              "      <td>INV-44477208-20195</td>\n",
              "      <td>6ae66dba4a</td>\n",
              "      <td>Geo Magazine</td>\n",
              "      <td>Geo Magazine 12 Month Printed Subscription</td>\n",
              "      <td>1</td>\n",
              "      <td>576000</td>\n",
              "    </tr>\n",
              "    <tr>\n",
              "      <th>1</th>\n",
              "      <td>1</td>\n",
              "      <td>2021-03-01 09:42:48</td>\n",
              "      <td>2021-03-01 09:39:28</td>\n",
              "      <td>INV-84260125-20195</td>\n",
              "      <td>6ae66dba4a</td>\n",
              "      <td>Insight Magazine</td>\n",
              "      <td>Insight Magazine 6 Month Printed Subscription</td>\n",
              "      <td>1</td>\n",
              "      <td>120000</td>\n",
              "    </tr>\n",
              "    <tr>\n",
              "      <th>2</th>\n",
              "      <td>2</td>\n",
              "      <td>2021-03-01 10:05:18</td>\n",
              "      <td>2021-03-01 05:10:49</td>\n",
              "      <td>INV-21702404-20196</td>\n",
              "      <td>fecd37e3fa</td>\n",
              "      <td>Kids Creativity Magazine</td>\n",
              "      <td>Kids Creativity Magazine 6 Month Printed Subsc...</td>\n",
              "      <td>1</td>\n",
              "      <td>145600</td>\n",
              "    </tr>\n",
              "    <tr>\n",
              "      <th>3</th>\n",
              "      <td>3</td>\n",
              "      <td>2021-03-01 15:58:35</td>\n",
              "      <td>2021-02-25 18:38:31</td>\n",
              "      <td>INV-46817248-20197</td>\n",
              "      <td>702981082e</td>\n",
              "      <td>Kids Magazine</td>\n",
              "      <td>Kids Magazine 6 Month Printed Subscription</td>\n",
              "      <td>1</td>\n",
              "      <td>291200</td>\n",
              "    </tr>\n",
              "    <tr>\n",
              "      <th>4</th>\n",
              "      <td>4</td>\n",
              "      <td>2021-03-01 16:19:54</td>\n",
              "      <td>2021-03-01 16:16:50</td>\n",
              "      <td>INV-47598177-20198</td>\n",
              "      <td>d1fbab7576</td>\n",
              "      <td>Kindergarten Magazine</td>\n",
              "      <td>Kindergarten Magazine 6 Month Printed Subscrip...</td>\n",
              "      <td>1</td>\n",
              "      <td>182000</td>\n",
              "    </tr>\n",
              "  </tbody>\n",
              "</table>\n",
              "</div>"
            ],
            "text/plain": [
              "   Unnamed: 0           trans_date     acc_created_date            trans_id  \\\n",
              "0           0  2021-03-01 09:42:48  2021-03-01 09:39:28  INV-44477208-20195   \n",
              "1           1  2021-03-01 09:42:48  2021-03-01 09:39:28  INV-84260125-20195   \n",
              "2           2  2021-03-01 10:05:18  2021-03-01 05:10:49  INV-21702404-20196   \n",
              "3           3  2021-03-01 15:58:35  2021-02-25 18:38:31  INV-46817248-20197   \n",
              "4           4  2021-03-01 16:19:54  2021-03-01 16:16:50  INV-47598177-20198   \n",
              "\n",
              "      user_id                     brand  \\\n",
              "0  6ae66dba4a              Geo Magazine   \n",
              "1  6ae66dba4a          Insight Magazine   \n",
              "2  fecd37e3fa  Kids Creativity Magazine   \n",
              "3  702981082e             Kids Magazine   \n",
              "4  d1fbab7576     Kindergarten Magazine   \n",
              "\n",
              "                                        product_name  quantity  sub_total  \n",
              "0         Geo Magazine 12 Month Printed Subscription         1     576000  \n",
              "1      Insight Magazine 6 Month Printed Subscription         1     120000  \n",
              "2  Kids Creativity Magazine 6 Month Printed Subsc...         1     145600  \n",
              "3         Kids Magazine 6 Month Printed Subscription         1     291200  \n",
              "4  Kindergarten Magazine 6 Month Printed Subscrip...         1     182000  "
            ]
          },
          "execution_count": 2,
          "metadata": {},
          "output_type": "execute_result"
        }
      ],
      "source": [
        "df = pd.read_csv('./store_clean.csv')\n",
        "\n",
        "df.head()"
      ]
    },
    {
      "cell_type": "code",
      "execution_count": 3,
      "metadata": {
        "colab": {
          "base_uri": "https://localhost:8080/"
        },
        "id": "aIhqa3pI98dH",
        "outputId": "23763cd6-4f1d-4fbe-edd8-289962cc4c03"
      },
      "outputs": [
        {
          "data": {
            "text/plain": [
              "(5847, 9)"
            ]
          },
          "execution_count": 3,
          "metadata": {},
          "output_type": "execute_result"
        }
      ],
      "source": [
        "df.shape"
      ]
    },
    {
      "cell_type": "code",
      "execution_count": 4,
      "metadata": {
        "colab": {
          "base_uri": "https://localhost:8080/"
        },
        "id": "sQIO4i4q-Vq9",
        "outputId": "038f3cc8-2390-47c1-9f9e-7d4b267afad8"
      },
      "outputs": [
        {
          "data": {
            "text/plain": [
              "False    5847\n",
              "Name: count, dtype: int64"
            ]
          },
          "execution_count": 4,
          "metadata": {},
          "output_type": "execute_result"
        }
      ],
      "source": [
        "df.duplicated().value_counts()"
      ]
    },
    {
      "cell_type": "code",
      "execution_count": 5,
      "metadata": {
        "colab": {
          "base_uri": "https://localhost:8080/"
        },
        "id": "Zd3WUO_5-aXv",
        "outputId": "c6beeb10-5909-4a92-b140-aac7870a160c"
      },
      "outputs": [
        {
          "data": {
            "text/plain": [
              "Unnamed: 0          0\n",
              "trans_date          0\n",
              "acc_created_date    0\n",
              "trans_id            0\n",
              "user_id             0\n",
              "brand               0\n",
              "product_name        0\n",
              "quantity            0\n",
              "sub_total           0\n",
              "dtype: int64"
            ]
          },
          "execution_count": 5,
          "metadata": {},
          "output_type": "execute_result"
        }
      ],
      "source": [
        "df.isnull().sum()"
      ]
    },
    {
      "cell_type": "code",
      "execution_count": 6,
      "metadata": {
        "colab": {
          "base_uri": "https://localhost:8080/",
          "height": 206
        },
        "id": "9r1hyRZVEgzM",
        "outputId": "d05c9bc8-4726-4167-ac3b-b1711b60dd79"
      },
      "outputs": [
        {
          "data": {
            "text/html": [
              "<div>\n",
              "<style scoped>\n",
              "    .dataframe tbody tr th:only-of-type {\n",
              "        vertical-align: middle;\n",
              "    }\n",
              "\n",
              "    .dataframe tbody tr th {\n",
              "        vertical-align: top;\n",
              "    }\n",
              "\n",
              "    .dataframe thead th {\n",
              "        text-align: right;\n",
              "    }\n",
              "</style>\n",
              "<table border=\"1\" class=\"dataframe\">\n",
              "  <thead>\n",
              "    <tr style=\"text-align: right;\">\n",
              "      <th></th>\n",
              "      <th>trans_date</th>\n",
              "      <th>acc_created_date</th>\n",
              "      <th>trans_id</th>\n",
              "      <th>user_id</th>\n",
              "      <th>brand</th>\n",
              "      <th>product_name</th>\n",
              "      <th>quantity</th>\n",
              "      <th>sub_total</th>\n",
              "    </tr>\n",
              "  </thead>\n",
              "  <tbody>\n",
              "    <tr>\n",
              "      <th>0</th>\n",
              "      <td>2021-03-01 09:42:48</td>\n",
              "      <td>2021-03-01 09:39:28</td>\n",
              "      <td>INV-44477208-20195</td>\n",
              "      <td>6ae66dba4a</td>\n",
              "      <td>Geo Magazine</td>\n",
              "      <td>Geo Magazine 12 Month Printed Subscription</td>\n",
              "      <td>1</td>\n",
              "      <td>576000</td>\n",
              "    </tr>\n",
              "    <tr>\n",
              "      <th>1</th>\n",
              "      <td>2021-03-01 09:42:48</td>\n",
              "      <td>2021-03-01 09:39:28</td>\n",
              "      <td>INV-84260125-20195</td>\n",
              "      <td>6ae66dba4a</td>\n",
              "      <td>Insight Magazine</td>\n",
              "      <td>Insight Magazine 6 Month Printed Subscription</td>\n",
              "      <td>1</td>\n",
              "      <td>120000</td>\n",
              "    </tr>\n",
              "    <tr>\n",
              "      <th>2</th>\n",
              "      <td>2021-03-01 10:05:18</td>\n",
              "      <td>2021-03-01 05:10:49</td>\n",
              "      <td>INV-21702404-20196</td>\n",
              "      <td>fecd37e3fa</td>\n",
              "      <td>Kids Creativity Magazine</td>\n",
              "      <td>Kids Creativity Magazine 6 Month Printed Subsc...</td>\n",
              "      <td>1</td>\n",
              "      <td>145600</td>\n",
              "    </tr>\n",
              "    <tr>\n",
              "      <th>3</th>\n",
              "      <td>2021-03-01 15:58:35</td>\n",
              "      <td>2021-02-25 18:38:31</td>\n",
              "      <td>INV-46817248-20197</td>\n",
              "      <td>702981082e</td>\n",
              "      <td>Kids Magazine</td>\n",
              "      <td>Kids Magazine 6 Month Printed Subscription</td>\n",
              "      <td>1</td>\n",
              "      <td>291200</td>\n",
              "    </tr>\n",
              "    <tr>\n",
              "      <th>4</th>\n",
              "      <td>2021-03-01 16:19:54</td>\n",
              "      <td>2021-03-01 16:16:50</td>\n",
              "      <td>INV-47598177-20198</td>\n",
              "      <td>d1fbab7576</td>\n",
              "      <td>Kindergarten Magazine</td>\n",
              "      <td>Kindergarten Magazine 6 Month Printed Subscrip...</td>\n",
              "      <td>1</td>\n",
              "      <td>182000</td>\n",
              "    </tr>\n",
              "  </tbody>\n",
              "</table>\n",
              "</div>"
            ],
            "text/plain": [
              "            trans_date     acc_created_date            trans_id     user_id  \\\n",
              "0  2021-03-01 09:42:48  2021-03-01 09:39:28  INV-44477208-20195  6ae66dba4a   \n",
              "1  2021-03-01 09:42:48  2021-03-01 09:39:28  INV-84260125-20195  6ae66dba4a   \n",
              "2  2021-03-01 10:05:18  2021-03-01 05:10:49  INV-21702404-20196  fecd37e3fa   \n",
              "3  2021-03-01 15:58:35  2021-02-25 18:38:31  INV-46817248-20197  702981082e   \n",
              "4  2021-03-01 16:19:54  2021-03-01 16:16:50  INV-47598177-20198  d1fbab7576   \n",
              "\n",
              "                      brand  \\\n",
              "0              Geo Magazine   \n",
              "1          Insight Magazine   \n",
              "2  Kids Creativity Magazine   \n",
              "3             Kids Magazine   \n",
              "4     Kindergarten Magazine   \n",
              "\n",
              "                                        product_name  quantity  sub_total  \n",
              "0         Geo Magazine 12 Month Printed Subscription         1     576000  \n",
              "1      Insight Magazine 6 Month Printed Subscription         1     120000  \n",
              "2  Kids Creativity Magazine 6 Month Printed Subsc...         1     145600  \n",
              "3         Kids Magazine 6 Month Printed Subscription         1     291200  \n",
              "4  Kindergarten Magazine 6 Month Printed Subscrip...         1     182000  "
            ]
          },
          "execution_count": 6,
          "metadata": {},
          "output_type": "execute_result"
        }
      ],
      "source": [
        "df_rfm = df.copy()\n",
        "\n",
        "df_rfm.drop(columns=['Unnamed: 0'], inplace=True)\n",
        "\n",
        "df_rfm.head()"
      ]
    },
    {
      "cell_type": "code",
      "execution_count": 7,
      "metadata": {
        "colab": {
          "base_uri": "https://localhost:8080/"
        },
        "id": "o7cgNqR7E6Cy",
        "outputId": "0aab62dc-647e-4cd2-b589-dad41f69d609"
      },
      "outputs": [
        {
          "data": {
            "text/plain": [
              "trans_date          object\n",
              "acc_created_date    object\n",
              "trans_id            object\n",
              "user_id             object\n",
              "brand               object\n",
              "product_name        object\n",
              "quantity             int64\n",
              "sub_total            int64\n",
              "dtype: object"
            ]
          },
          "execution_count": 7,
          "metadata": {},
          "output_type": "execute_result"
        }
      ],
      "source": [
        "df_rfm.dtypes"
      ]
    },
    {
      "cell_type": "code",
      "execution_count": 8,
      "metadata": {
        "colab": {
          "base_uri": "https://localhost:8080/"
        },
        "id": "6V0tIL1gFOrt",
        "outputId": "64bf2487-d3b0-4d4b-b691-91b6dc1d27df"
      },
      "outputs": [
        {
          "data": {
            "text/plain": [
              "trans_date          datetime64[ns]\n",
              "acc_created_date    datetime64[ns]\n",
              "trans_id                    object\n",
              "user_id                     object\n",
              "brand                       object\n",
              "product_name                object\n",
              "quantity                     int64\n",
              "sub_total                    int64\n",
              "dtype: object"
            ]
          },
          "execution_count": 8,
          "metadata": {},
          "output_type": "execute_result"
        }
      ],
      "source": [
        "df_rfm['trans_date'] = pd.to_datetime(df_rfm['trans_date'])\n",
        "df_rfm['acc_created_date'] = pd.to_datetime(df_rfm['acc_created_date'])\n",
        "\n",
        "df_rfm.dtypes"
      ]
    },
    {
      "cell_type": "code",
      "execution_count": 9,
      "metadata": {
        "colab": {
          "base_uri": "https://localhost:8080/",
          "height": 261
        },
        "id": "FR9JoC-D-hry",
        "outputId": "123ffcf0-935b-4c19-fd66-e2d6acd1be33"
      },
      "outputs": [
        {
          "data": {
            "text/plain": [
              "user_id\n",
              "001b5eddf7    591500\n",
              "0023cedbf9      7000\n",
              "0024ae4898    436800\n",
              "002d8b5849    204750\n",
              "003e99a26e    145600\n",
              "Name: sub_total, dtype: int64"
            ]
          },
          "execution_count": 9,
          "metadata": {},
          "output_type": "execute_result"
        }
      ],
      "source": [
        "monetary = df_rfm.groupby('user_id')['sub_total'].sum()\n",
        "\n",
        "monetary.head()"
      ]
    },
    {
      "cell_type": "code",
      "execution_count": 10,
      "metadata": {
        "colab": {
          "base_uri": "https://localhost:8080/",
          "height": 206
        },
        "id": "S6pUNQevDlk4",
        "outputId": "8fc76146-3a66-44a3-aad7-c16c145c5797"
      },
      "outputs": [
        {
          "data": {
            "text/html": [
              "<div>\n",
              "<style scoped>\n",
              "    .dataframe tbody tr th:only-of-type {\n",
              "        vertical-align: middle;\n",
              "    }\n",
              "\n",
              "    .dataframe tbody tr th {\n",
              "        vertical-align: top;\n",
              "    }\n",
              "\n",
              "    .dataframe thead th {\n",
              "        text-align: right;\n",
              "    }\n",
              "</style>\n",
              "<table border=\"1\" class=\"dataframe\">\n",
              "  <thead>\n",
              "    <tr style=\"text-align: right;\">\n",
              "      <th></th>\n",
              "      <th>user_id</th>\n",
              "      <th>trans_id</th>\n",
              "    </tr>\n",
              "  </thead>\n",
              "  <tbody>\n",
              "    <tr>\n",
              "      <th>2418</th>\n",
              "      <td>9efd34ffe5</td>\n",
              "      <td>21</td>\n",
              "    </tr>\n",
              "    <tr>\n",
              "      <th>602</th>\n",
              "      <td>278e551675</td>\n",
              "      <td>15</td>\n",
              "    </tr>\n",
              "    <tr>\n",
              "      <th>1868</th>\n",
              "      <td>7a8310aa9f</td>\n",
              "      <td>14</td>\n",
              "    </tr>\n",
              "    <tr>\n",
              "      <th>2492</th>\n",
              "      <td>a491801c2d</td>\n",
              "      <td>14</td>\n",
              "    </tr>\n",
              "    <tr>\n",
              "      <th>1677</th>\n",
              "      <td>6fce2e62f1</td>\n",
              "      <td>13</td>\n",
              "    </tr>\n",
              "  </tbody>\n",
              "</table>\n",
              "</div>"
            ],
            "text/plain": [
              "         user_id  trans_id\n",
              "2418  9efd34ffe5        21\n",
              "602   278e551675        15\n",
              "1868  7a8310aa9f        14\n",
              "2492  a491801c2d        14\n",
              "1677  6fce2e62f1        13"
            ]
          },
          "execution_count": 10,
          "metadata": {},
          "output_type": "execute_result"
        }
      ],
      "source": [
        "frequency = df_rfm.groupby('user_id')['trans_id'].count().reset_index()\n",
        "\n",
        "frequency.sort_values('trans_id', ascending=False).head()"
      ]
    },
    {
      "cell_type": "code",
      "execution_count": 11,
      "metadata": {
        "colab": {
          "base_uri": "https://localhost:8080/",
          "height": 206
        },
        "id": "VIoDGClfGaD7",
        "outputId": "fef0d409-b3f4-49ed-b57d-9512cef5d4bf"
      },
      "outputs": [
        {
          "data": {
            "text/html": [
              "<div>\n",
              "<style scoped>\n",
              "    .dataframe tbody tr th:only-of-type {\n",
              "        vertical-align: middle;\n",
              "    }\n",
              "\n",
              "    .dataframe tbody tr th {\n",
              "        vertical-align: top;\n",
              "    }\n",
              "\n",
              "    .dataframe thead th {\n",
              "        text-align: right;\n",
              "    }\n",
              "</style>\n",
              "<table border=\"1\" class=\"dataframe\">\n",
              "  <thead>\n",
              "    <tr style=\"text-align: right;\">\n",
              "      <th></th>\n",
              "      <th>user_id</th>\n",
              "      <th>diff_date</th>\n",
              "    </tr>\n",
              "  </thead>\n",
              "  <tbody>\n",
              "    <tr>\n",
              "      <th>0</th>\n",
              "      <td>001b5eddf7</td>\n",
              "      <td>0</td>\n",
              "    </tr>\n",
              "    <tr>\n",
              "      <th>1</th>\n",
              "      <td>0023cedbf9</td>\n",
              "      <td>0</td>\n",
              "    </tr>\n",
              "    <tr>\n",
              "      <th>2</th>\n",
              "      <td>0024ae4898</td>\n",
              "      <td>0</td>\n",
              "    </tr>\n",
              "    <tr>\n",
              "      <th>3</th>\n",
              "      <td>002d8b5849</td>\n",
              "      <td>0</td>\n",
              "    </tr>\n",
              "    <tr>\n",
              "      <th>4</th>\n",
              "      <td>003e99a26e</td>\n",
              "      <td>0</td>\n",
              "    </tr>\n",
              "  </tbody>\n",
              "</table>\n",
              "</div>"
            ],
            "text/plain": [
              "      user_id  diff_date\n",
              "0  001b5eddf7          0\n",
              "1  0023cedbf9          0\n",
              "2  0024ae4898          0\n",
              "3  002d8b5849          0\n",
              "4  003e99a26e          0"
            ]
          },
          "execution_count": 11,
          "metadata": {},
          "output_type": "execute_result"
        }
      ],
      "source": [
        "recency = df_rfm.copy()\n",
        "recency = recency.sort_values(['user_id', 'trans_date'])\n",
        "\n",
        "recency = recency.groupby(['user_id', 'trans_date'])['sub_total'].sum().reset_index()\n",
        "\n",
        "recency['diff_date'] = recency.groupby('user_id')['trans_date'].diff().dt.days\n",
        "recency['diff_date'] = recency['diff_date'].fillna(0)\n",
        "recency['diff_date'] = np.abs(recency['diff_date'])\n",
        "\n",
        "recency = recency.groupby('user_id')['diff_date'].max().reset_index()\n",
        "\n",
        "recency['diff_date'] = recency['diff_date'].astype('int64')\n",
        "\n",
        "recency = recency[['user_id', 'diff_date']]\n",
        "\n",
        "recency.head()"
      ]
    },
    {
      "cell_type": "code",
      "execution_count": 12,
      "metadata": {},
      "outputs": [
        {
          "data": {
            "text/html": [
              "<div>\n",
              "<style scoped>\n",
              "    .dataframe tbody tr th:only-of-type {\n",
              "        vertical-align: middle;\n",
              "    }\n",
              "\n",
              "    .dataframe tbody tr th {\n",
              "        vertical-align: top;\n",
              "    }\n",
              "\n",
              "    .dataframe thead th {\n",
              "        text-align: right;\n",
              "    }\n",
              "</style>\n",
              "<table border=\"1\" class=\"dataframe\">\n",
              "  <thead>\n",
              "    <tr style=\"text-align: right;\">\n",
              "      <th></th>\n",
              "      <th>Unnamed: 0</th>\n",
              "      <th>trans_date</th>\n",
              "      <th>acc_created_date</th>\n",
              "      <th>trans_id</th>\n",
              "      <th>user_id</th>\n",
              "      <th>brand</th>\n",
              "      <th>product_name</th>\n",
              "      <th>quantity</th>\n",
              "      <th>sub_total</th>\n",
              "    </tr>\n",
              "  </thead>\n",
              "  <tbody>\n",
              "    <tr>\n",
              "      <th>3542</th>\n",
              "      <td>3542</td>\n",
              "      <td>2022-03-12 16:41:13</td>\n",
              "      <td>2022-03-17 20:54:38</td>\n",
              "      <td>INV-82520171-28202</td>\n",
              "      <td>05389fd9c2</td>\n",
              "      <td>Kindergarten Creativity Magazine</td>\n",
              "      <td>Kindergarten Creativity Magazine 6 Month Print...</td>\n",
              "      <td>1</td>\n",
              "      <td>84000</td>\n",
              "    </tr>\n",
              "    <tr>\n",
              "      <th>3543</th>\n",
              "      <td>3543</td>\n",
              "      <td>2022-03-12 16:41:13</td>\n",
              "      <td>2022-03-17 20:54:38</td>\n",
              "      <td>INV-45353298-28202</td>\n",
              "      <td>05389fd9c2</td>\n",
              "      <td>Kids Magazine</td>\n",
              "      <td>Kids Magazine 6 Month Printed Subscription</td>\n",
              "      <td>1</td>\n",
              "      <td>291200</td>\n",
              "    </tr>\n",
              "    <tr>\n",
              "      <th>3549</th>\n",
              "      <td>3549</td>\n",
              "      <td>2022-03-13 10:42:04</td>\n",
              "      <td>2022-03-14 17:26:15</td>\n",
              "      <td>INV-21809026-28208</td>\n",
              "      <td>f50ce91bd7</td>\n",
              "      <td>Kids Magazine</td>\n",
              "      <td>Kids Magazine 12 Month Printed Subscription</td>\n",
              "      <td>1</td>\n",
              "      <td>582400</td>\n",
              "    </tr>\n",
              "  </tbody>\n",
              "</table>\n",
              "</div>"
            ],
            "text/plain": [
              "      Unnamed: 0           trans_date     acc_created_date  \\\n",
              "3542        3542  2022-03-12 16:41:13  2022-03-17 20:54:38   \n",
              "3543        3543  2022-03-12 16:41:13  2022-03-17 20:54:38   \n",
              "3549        3549  2022-03-13 10:42:04  2022-03-14 17:26:15   \n",
              "\n",
              "                trans_id     user_id                             brand  \\\n",
              "3542  INV-82520171-28202  05389fd9c2  Kindergarten Creativity Magazine   \n",
              "3543  INV-45353298-28202  05389fd9c2                     Kids Magazine   \n",
              "3549  INV-21809026-28208  f50ce91bd7                     Kids Magazine   \n",
              "\n",
              "                                           product_name  quantity  sub_total  \n",
              "3542  Kindergarten Creativity Magazine 6 Month Print...         1      84000  \n",
              "3543         Kids Magazine 6 Month Printed Subscription         1     291200  \n",
              "3549        Kids Magazine 12 Month Printed Subscription         1     582400  "
            ]
          },
          "execution_count": 12,
          "metadata": {},
          "output_type": "execute_result"
        }
      ],
      "source": [
        "df[df['user_id'].isin(['f50ce91bd7', '05389fd9c2'])]"
      ]
    },
    {
      "cell_type": "code",
      "execution_count": 13,
      "metadata": {
        "colab": {
          "base_uri": "https://localhost:8080/",
          "height": 206
        },
        "id": "Djd9clnrIBQP",
        "outputId": "fea3c9ae-54d3-46c4-a957-88ff3fa5af5e"
      },
      "outputs": [
        {
          "data": {
            "text/html": [
              "<div>\n",
              "<style scoped>\n",
              "    .dataframe tbody tr th:only-of-type {\n",
              "        vertical-align: middle;\n",
              "    }\n",
              "\n",
              "    .dataframe tbody tr th {\n",
              "        vertical-align: top;\n",
              "    }\n",
              "\n",
              "    .dataframe thead th {\n",
              "        text-align: right;\n",
              "    }\n",
              "</style>\n",
              "<table border=\"1\" class=\"dataframe\">\n",
              "  <thead>\n",
              "    <tr style=\"text-align: right;\">\n",
              "      <th></th>\n",
              "      <th>user_id</th>\n",
              "      <th>monetary</th>\n",
              "      <th>frequency</th>\n",
              "      <th>recency</th>\n",
              "    </tr>\n",
              "  </thead>\n",
              "  <tbody>\n",
              "    <tr>\n",
              "      <th>0</th>\n",
              "      <td>001b5eddf7</td>\n",
              "      <td>591500</td>\n",
              "      <td>2</td>\n",
              "      <td>0</td>\n",
              "    </tr>\n",
              "    <tr>\n",
              "      <th>1</th>\n",
              "      <td>0023cedbf9</td>\n",
              "      <td>7000</td>\n",
              "      <td>1</td>\n",
              "      <td>0</td>\n",
              "    </tr>\n",
              "    <tr>\n",
              "      <th>2</th>\n",
              "      <td>0024ae4898</td>\n",
              "      <td>436800</td>\n",
              "      <td>2</td>\n",
              "      <td>0</td>\n",
              "    </tr>\n",
              "    <tr>\n",
              "      <th>3</th>\n",
              "      <td>002d8b5849</td>\n",
              "      <td>204750</td>\n",
              "      <td>1</td>\n",
              "      <td>0</td>\n",
              "    </tr>\n",
              "    <tr>\n",
              "      <th>4</th>\n",
              "      <td>003e99a26e</td>\n",
              "      <td>145600</td>\n",
              "      <td>1</td>\n",
              "      <td>0</td>\n",
              "    </tr>\n",
              "  </tbody>\n",
              "</table>\n",
              "</div>"
            ],
            "text/plain": [
              "      user_id  monetary  frequency  recency\n",
              "0  001b5eddf7    591500          2        0\n",
              "1  0023cedbf9      7000          1        0\n",
              "2  0024ae4898    436800          2        0\n",
              "3  002d8b5849    204750          1        0\n",
              "4  003e99a26e    145600          1        0"
            ]
          },
          "execution_count": 13,
          "metadata": {},
          "output_type": "execute_result"
        }
      ],
      "source": [
        "df_rfm = pd.merge(monetary, frequency, on='user_id', how='inner')\n",
        "df_rfm = pd.merge(df_rfm, recency, on='user_id', how='inner')\n",
        "\n",
        "df_rfm = df_rfm.rename(columns={'sub_total': 'monetary', 'trans_id': 'frequency', 'diff_date': 'recency'})\n",
        "\n",
        "df_rfm.head()"
      ]
    },
    {
      "cell_type": "code",
      "execution_count": 14,
      "metadata": {
        "colab": {
          "base_uri": "https://localhost:8080/"
        },
        "id": "wAiyFMeqIorr",
        "outputId": "7255e882-be6b-4ad5-f42c-d1a86346ff77"
      },
      "outputs": [
        {
          "data": {
            "text/plain": [
              "(3900, 4)"
            ]
          },
          "execution_count": 14,
          "metadata": {},
          "output_type": "execute_result"
        }
      ],
      "source": [
        "df_rfm.shape"
      ]
    },
    {
      "cell_type": "code",
      "execution_count": 15,
      "metadata": {
        "colab": {
          "base_uri": "https://localhost:8080/"
        },
        "id": "6eWnyBVtJw1M",
        "outputId": "1f7a3d9d-895f-4c07-ddac-9aa090a4d5f5"
      },
      "outputs": [
        {
          "data": {
            "text/plain": [
              "array([[ 0.43878721,  0.4416056 , -0.38293538],\n",
              "       [-0.93476993, -0.4402489 , -0.38293538],\n",
              "       [ 0.07524694,  0.4416056 , -0.38293538],\n",
              "       ...,\n",
              "       [ 0.75955804, -0.4402489 , -0.38293538],\n",
              "       [-0.88542057, -0.4402489 , -0.38293538],\n",
              "       [-0.09583084, -0.4402489 , -0.38293538]])"
            ]
          },
          "execution_count": 15,
          "metadata": {},
          "output_type": "execute_result"
        }
      ],
      "source": [
        "scaler = StandardScaler()\n",
        "\n",
        "df_scaled = scaler.fit_transform(df_rfm[['monetary', 'frequency', 'recency']])\n",
        "\n",
        "df_scaled"
      ]
    },
    {
      "cell_type": "code",
      "execution_count": 16,
      "metadata": {},
      "outputs": [
        {
          "data": {
            "text/plain": [
              "(3900, 3)"
            ]
          },
          "execution_count": 16,
          "metadata": {},
          "output_type": "execute_result"
        }
      ],
      "source": [
        "df_scaled.shape"
      ]
    },
    {
      "cell_type": "code",
      "execution_count": 17,
      "metadata": {
        "colab": {
          "base_uri": "https://localhost:8080/",
          "height": 206
        },
        "id": "BjHgJQ02KfoF",
        "outputId": "2fdbe977-93d2-4bc9-a796-8aba1b10534a"
      },
      "outputs": [
        {
          "data": {
            "text/html": [
              "<div>\n",
              "<style scoped>\n",
              "    .dataframe tbody tr th:only-of-type {\n",
              "        vertical-align: middle;\n",
              "    }\n",
              "\n",
              "    .dataframe tbody tr th {\n",
              "        vertical-align: top;\n",
              "    }\n",
              "\n",
              "    .dataframe thead th {\n",
              "        text-align: right;\n",
              "    }\n",
              "</style>\n",
              "<table border=\"1\" class=\"dataframe\">\n",
              "  <thead>\n",
              "    <tr style=\"text-align: right;\">\n",
              "      <th></th>\n",
              "      <th>monetary</th>\n",
              "      <th>frequency</th>\n",
              "      <th>recency</th>\n",
              "    </tr>\n",
              "  </thead>\n",
              "  <tbody>\n",
              "    <tr>\n",
              "      <th>0</th>\n",
              "      <td>0.438787</td>\n",
              "      <td>0.441606</td>\n",
              "      <td>-0.382935</td>\n",
              "    </tr>\n",
              "    <tr>\n",
              "      <th>1</th>\n",
              "      <td>-0.934770</td>\n",
              "      <td>-0.440249</td>\n",
              "      <td>-0.382935</td>\n",
              "    </tr>\n",
              "    <tr>\n",
              "      <th>2</th>\n",
              "      <td>0.075247</td>\n",
              "      <td>0.441606</td>\n",
              "      <td>-0.382935</td>\n",
              "    </tr>\n",
              "    <tr>\n",
              "      <th>3</th>\n",
              "      <td>-0.470063</td>\n",
              "      <td>-0.440249</td>\n",
              "      <td>-0.382935</td>\n",
              "    </tr>\n",
              "    <tr>\n",
              "      <th>4</th>\n",
              "      <td>-0.609064</td>\n",
              "      <td>-0.440249</td>\n",
              "      <td>-0.382935</td>\n",
              "    </tr>\n",
              "  </tbody>\n",
              "</table>\n",
              "</div>"
            ],
            "text/plain": [
              "   monetary  frequency   recency\n",
              "0  0.438787   0.441606 -0.382935\n",
              "1 -0.934770  -0.440249 -0.382935\n",
              "2  0.075247   0.441606 -0.382935\n",
              "3 -0.470063  -0.440249 -0.382935\n",
              "4 -0.609064  -0.440249 -0.382935"
            ]
          },
          "execution_count": 17,
          "metadata": {},
          "output_type": "execute_result"
        }
      ],
      "source": [
        "df_scaled = pd.DataFrame(df_scaled)\n",
        "df_scaled.columns = ['monetary', 'frequency', 'recency']\n",
        "\n",
        "df_scaled.head()"
      ]
    },
    {
      "cell_type": "code",
      "execution_count": 18,
      "metadata": {
        "colab": {
          "base_uri": "https://localhost:8080/",
          "height": 206
        },
        "id": "Xv-1d45yKsWo",
        "outputId": "7e6d9c49-f60e-474d-c687-001e5f0630de"
      },
      "outputs": [
        {
          "data": {
            "text/html": [
              "<div>\n",
              "<style scoped>\n",
              "    .dataframe tbody tr th:only-of-type {\n",
              "        vertical-align: middle;\n",
              "    }\n",
              "\n",
              "    .dataframe tbody tr th {\n",
              "        vertical-align: top;\n",
              "    }\n",
              "\n",
              "    .dataframe thead th {\n",
              "        text-align: right;\n",
              "    }\n",
              "</style>\n",
              "<table border=\"1\" class=\"dataframe\">\n",
              "  <thead>\n",
              "    <tr style=\"text-align: right;\">\n",
              "      <th></th>\n",
              "      <th>monetary</th>\n",
              "      <th>frequency</th>\n",
              "      <th>recency</th>\n",
              "      <th>user_id</th>\n",
              "    </tr>\n",
              "  </thead>\n",
              "  <tbody>\n",
              "    <tr>\n",
              "      <th>0</th>\n",
              "      <td>0.438787</td>\n",
              "      <td>0.441606</td>\n",
              "      <td>-0.382935</td>\n",
              "      <td>001b5eddf7</td>\n",
              "    </tr>\n",
              "    <tr>\n",
              "      <th>1</th>\n",
              "      <td>-0.934770</td>\n",
              "      <td>-0.440249</td>\n",
              "      <td>-0.382935</td>\n",
              "      <td>0023cedbf9</td>\n",
              "    </tr>\n",
              "    <tr>\n",
              "      <th>2</th>\n",
              "      <td>0.075247</td>\n",
              "      <td>0.441606</td>\n",
              "      <td>-0.382935</td>\n",
              "      <td>0024ae4898</td>\n",
              "    </tr>\n",
              "    <tr>\n",
              "      <th>3</th>\n",
              "      <td>-0.470063</td>\n",
              "      <td>-0.440249</td>\n",
              "      <td>-0.382935</td>\n",
              "      <td>002d8b5849</td>\n",
              "    </tr>\n",
              "    <tr>\n",
              "      <th>4</th>\n",
              "      <td>-0.609064</td>\n",
              "      <td>-0.440249</td>\n",
              "      <td>-0.382935</td>\n",
              "      <td>003e99a26e</td>\n",
              "    </tr>\n",
              "  </tbody>\n",
              "</table>\n",
              "</div>"
            ],
            "text/plain": [
              "   monetary  frequency   recency     user_id\n",
              "0  0.438787   0.441606 -0.382935  001b5eddf7\n",
              "1 -0.934770  -0.440249 -0.382935  0023cedbf9\n",
              "2  0.075247   0.441606 -0.382935  0024ae4898\n",
              "3 -0.470063  -0.440249 -0.382935  002d8b5849\n",
              "4 -0.609064  -0.440249 -0.382935  003e99a26e"
            ]
          },
          "execution_count": 18,
          "metadata": {},
          "output_type": "execute_result"
        }
      ],
      "source": [
        "df_scaled['user_id'] = df_rfm['user_id']\n",
        "\n",
        "df_scaled.head()"
      ]
    },
    {
      "cell_type": "code",
      "execution_count": 19,
      "metadata": {},
      "outputs": [
        {
          "data": {
            "text/html": [
              "<div>\n",
              "<style scoped>\n",
              "    .dataframe tbody tr th:only-of-type {\n",
              "        vertical-align: middle;\n",
              "    }\n",
              "\n",
              "    .dataframe tbody tr th {\n",
              "        vertical-align: top;\n",
              "    }\n",
              "\n",
              "    .dataframe thead th {\n",
              "        text-align: right;\n",
              "    }\n",
              "</style>\n",
              "<table border=\"1\" class=\"dataframe\">\n",
              "  <thead>\n",
              "    <tr style=\"text-align: right;\">\n",
              "      <th></th>\n",
              "      <th>monetary</th>\n",
              "      <th>frequency</th>\n",
              "      <th>recency</th>\n",
              "    </tr>\n",
              "  </thead>\n",
              "  <tbody>\n",
              "    <tr>\n",
              "      <th>count</th>\n",
              "      <td>3.900000e+03</td>\n",
              "      <td>3.900000e+03</td>\n",
              "      <td>3.900000e+03</td>\n",
              "    </tr>\n",
              "    <tr>\n",
              "      <th>mean</th>\n",
              "      <td>6.376666e-18</td>\n",
              "      <td>5.556809e-17</td>\n",
              "      <td>-4.554761e-17</td>\n",
              "    </tr>\n",
              "    <tr>\n",
              "      <th>std</th>\n",
              "      <td>1.000128e+00</td>\n",
              "      <td>1.000128e+00</td>\n",
              "      <td>1.000128e+00</td>\n",
              "    </tr>\n",
              "    <tr>\n",
              "      <th>min</th>\n",
              "      <td>-9.455798e-01</td>\n",
              "      <td>-4.402489e-01</td>\n",
              "      <td>-3.829354e-01</td>\n",
              "    </tr>\n",
              "    <tr>\n",
              "      <th>25%</th>\n",
              "      <td>-5.662947e-01</td>\n",
              "      <td>-4.402489e-01</td>\n",
              "      <td>-3.829354e-01</td>\n",
              "    </tr>\n",
              "    <tr>\n",
              "      <th>50%</th>\n",
              "      <td>-2.462289e-01</td>\n",
              "      <td>-4.402489e-01</td>\n",
              "      <td>-3.829354e-01</td>\n",
              "    </tr>\n",
              "    <tr>\n",
              "      <th>75%</th>\n",
              "      <td>3.318636e-01</td>\n",
              "      <td>4.416056e-01</td>\n",
              "      <td>-3.829354e-01</td>\n",
              "    </tr>\n",
              "    <tr>\n",
              "      <th>max</th>\n",
              "      <td>1.360637e+01</td>\n",
              "      <td>1.719684e+01</td>\n",
              "      <td>6.306973e+00</td>\n",
              "    </tr>\n",
              "  </tbody>\n",
              "</table>\n",
              "</div>"
            ],
            "text/plain": [
              "           monetary     frequency       recency\n",
              "count  3.900000e+03  3.900000e+03  3.900000e+03\n",
              "mean   6.376666e-18  5.556809e-17 -4.554761e-17\n",
              "std    1.000128e+00  1.000128e+00  1.000128e+00\n",
              "min   -9.455798e-01 -4.402489e-01 -3.829354e-01\n",
              "25%   -5.662947e-01 -4.402489e-01 -3.829354e-01\n",
              "50%   -2.462289e-01 -4.402489e-01 -3.829354e-01\n",
              "75%    3.318636e-01  4.416056e-01 -3.829354e-01\n",
              "max    1.360637e+01  1.719684e+01  6.306973e+00"
            ]
          },
          "execution_count": 19,
          "metadata": {},
          "output_type": "execute_result"
        }
      ],
      "source": [
        "df_scaled.describe()"
      ]
    },
    {
      "cell_type": "code",
      "execution_count": 20,
      "metadata": {
        "colab": {
          "base_uri": "https://localhost:8080/",
          "height": 206
        },
        "id": "z72_r1u8mpFt",
        "outputId": "eb6b5e67-36f1-406c-8f9b-9f45b0e000c3"
      },
      "outputs": [
        {
          "data": {
            "text/html": [
              "<div>\n",
              "<style scoped>\n",
              "    .dataframe tbody tr th:only-of-type {\n",
              "        vertical-align: middle;\n",
              "    }\n",
              "\n",
              "    .dataframe tbody tr th {\n",
              "        vertical-align: top;\n",
              "    }\n",
              "\n",
              "    .dataframe thead th {\n",
              "        text-align: right;\n",
              "    }\n",
              "</style>\n",
              "<table border=\"1\" class=\"dataframe\">\n",
              "  <thead>\n",
              "    <tr style=\"text-align: right;\">\n",
              "      <th></th>\n",
              "      <th>pca1</th>\n",
              "      <th>pca2</th>\n",
              "    </tr>\n",
              "  </thead>\n",
              "  <tbody>\n",
              "    <tr>\n",
              "      <th>0</th>\n",
              "      <td>0.306533</td>\n",
              "      <td>0.660877</td>\n",
              "    </tr>\n",
              "    <tr>\n",
              "      <th>1</th>\n",
              "      <td>-1.023379</td>\n",
              "      <td>-0.185834</td>\n",
              "    </tr>\n",
              "    <tr>\n",
              "      <th>2</th>\n",
              "      <td>0.091216</td>\n",
              "      <td>0.543282</td>\n",
              "    </tr>\n",
              "    <tr>\n",
              "      <th>3</th>\n",
              "      <td>-0.748143</td>\n",
              "      <td>-0.035513</td>\n",
              "    </tr>\n",
              "    <tr>\n",
              "      <th>4</th>\n",
              "      <td>-0.830470</td>\n",
              "      <td>-0.080477</td>\n",
              "    </tr>\n",
              "  </tbody>\n",
              "</table>\n",
              "</div>"
            ],
            "text/plain": [
              "       pca1      pca2\n",
              "0  0.306533  0.660877\n",
              "1 -1.023379 -0.185834\n",
              "2  0.091216  0.543282\n",
              "3 -0.748143 -0.035513\n",
              "4 -0.830470 -0.080477"
            ]
          },
          "execution_count": 20,
          "metadata": {},
          "output_type": "execute_result"
        }
      ],
      "source": [
        "pca = PCA(n_components=2)\n",
        "\n",
        "result = pca.fit_transform(df_scaled[['monetary', 'frequency', 'recency']])\n",
        "\n",
        "df_pca = pd.DataFrame(result)\n",
        "df_pca.columns = ['pca1', 'pca2']\n",
        "\n",
        "df_pca.head()"
      ]
    },
    {
      "cell_type": "code",
      "execution_count": 21,
      "metadata": {
        "colab": {
          "base_uri": "https://localhost:8080/",
          "height": 206
        },
        "id": "gVEIFQiskNZP",
        "outputId": "ec3ff402-f7c4-46a7-8962-99d702dd4986"
      },
      "outputs": [
        {
          "data": {
            "text/html": [
              "<div>\n",
              "<style scoped>\n",
              "    .dataframe tbody tr th:only-of-type {\n",
              "        vertical-align: middle;\n",
              "    }\n",
              "\n",
              "    .dataframe tbody tr th {\n",
              "        vertical-align: top;\n",
              "    }\n",
              "\n",
              "    .dataframe thead th {\n",
              "        text-align: right;\n",
              "    }\n",
              "</style>\n",
              "<table border=\"1\" class=\"dataframe\">\n",
              "  <thead>\n",
              "    <tr style=\"text-align: right;\">\n",
              "      <th></th>\n",
              "      <th>pca1</th>\n",
              "      <th>pca2</th>\n",
              "    </tr>\n",
              "  </thead>\n",
              "  <tbody>\n",
              "    <tr>\n",
              "      <th>0</th>\n",
              "      <td>0.306533</td>\n",
              "      <td>0.660877</td>\n",
              "    </tr>\n",
              "    <tr>\n",
              "      <th>1</th>\n",
              "      <td>-1.023379</td>\n",
              "      <td>-0.185834</td>\n",
              "    </tr>\n",
              "    <tr>\n",
              "      <th>2</th>\n",
              "      <td>0.091216</td>\n",
              "      <td>0.543282</td>\n",
              "    </tr>\n",
              "    <tr>\n",
              "      <th>3</th>\n",
              "      <td>-0.748143</td>\n",
              "      <td>-0.035513</td>\n",
              "    </tr>\n",
              "    <tr>\n",
              "      <th>4</th>\n",
              "      <td>-0.830470</td>\n",
              "      <td>-0.080477</td>\n",
              "    </tr>\n",
              "  </tbody>\n",
              "</table>\n",
              "</div>"
            ],
            "text/plain": [
              "       pca1      pca2\n",
              "0  0.306533  0.660877\n",
              "1 -1.023379 -0.185834\n",
              "2  0.091216  0.543282\n",
              "3 -0.748143 -0.035513\n",
              "4 -0.830470 -0.080477"
            ]
          },
          "execution_count": 21,
          "metadata": {},
          "output_type": "execute_result"
        }
      ],
      "source": [
        "pca = PCA(n_components=2)\n",
        "\n",
        "result = pca.fit_transform(df_scaled[['monetary', 'frequency', 'recency']])\n",
        "\n",
        "df_pca = pd.DataFrame(result)\n",
        "df_pca.columns = ['pca1', 'pca2']\n",
        "\n",
        "df_pca.head()"
      ]
    },
    {
      "cell_type": "code",
      "execution_count": 22,
      "metadata": {
        "colab": {
          "base_uri": "https://localhost:8080/",
          "height": 475
        },
        "id": "BprXUW4elPZ9",
        "outputId": "b560377f-7c36-41c2-9be3-5fb2c24b3666"
      },
      "outputs": [
        {
          "data": {
            "text/plain": [
              "Text(0, 0.5, '2nd Principal Component')"
            ]
          },
          "execution_count": 22,
          "metadata": {},
          "output_type": "execute_result"
        },
        {
          "data": {
            "image/png": "[encoded data removed]",
            "text/plain": [
              "<Figure size 640x480 with 1 Axes>"
            ]
          },
          "metadata": {},
          "output_type": "display_data"
        }
      ],
      "source": [
        "plt.scatter(x=df_pca['pca1'], y=df_pca['pca2'], alpha=0.5, s=10)\n",
        "\n",
        "plt.title('PCA Visualization')\n",
        "plt.xlabel('1st Principal Component')\n",
        "plt.ylabel('2nd Principal Component')"
      ]
    },
    {
      "cell_type": "code",
      "execution_count": 23,
      "metadata": {
        "colab": {
          "base_uri": "https://localhost:8080/"
        },
        "id": "CI-3H8cBLADt",
        "outputId": "39d454b9-ac9c-4c35-b2f8-ecc929ea9fe3"
      },
      "outputs": [],
      "source": [
        "param = {\n",
        "  'n_init': [2, 3, 4, 5, 6, 7, 8, 9, 10],\n",
        "}\n",
        "\n",
        "result = pd.DataFrame(columns=['K', 'Score', 'SilhouetteScore'])\n",
        "\n",
        "loop = 0\n",
        "\n",
        "inertia = []\n",
        "\n",
        "for n in param['n_init']:\n",
        "  km = KMeans(n_init=n, init='k-means++') \n",
        "  km.fit(df_pca)\n",
        "\n",
        "  ss = silhouette_score(df_pca, km.labels_)\n",
        "\n",
        "  inertia.append(km.inertia_)\n",
        "\n",
        "  result.loc[loop] = [n, km.inertia_, ss]\n",
        "        \n",
        "  loop += 1 "
      ]
    },
    {
      "cell_type": "code",
      "execution_count": 24,
      "metadata": {},
      "outputs": [
        {
          "data": {
            "text/html": [
              "<div>\n",
              "<style scoped>\n",
              "    .dataframe tbody tr th:only-of-type {\n",
              "        vertical-align: middle;\n",
              "    }\n",
              "\n",
              "    .dataframe tbody tr th {\n",
              "        vertical-align: top;\n",
              "    }\n",
              "\n",
              "    .dataframe thead th {\n",
              "        text-align: right;\n",
              "    }\n",
              "</style>\n",
              "<table border=\"1\" class=\"dataframe\">\n",
              "  <thead>\n",
              "    <tr style=\"text-align: right;\">\n",
              "      <th></th>\n",
              "      <th>K</th>\n",
              "      <th>Score</th>\n",
              "      <th>SilhouetteScore</th>\n",
              "    </tr>\n",
              "  </thead>\n",
              "  <tbody>\n",
              "    <tr>\n",
              "      <th>5</th>\n",
              "      <td>7.0</td>\n",
              "      <td>882.087013</td>\n",
              "      <td>0.646567</td>\n",
              "    </tr>\n",
              "    <tr>\n",
              "      <th>0</th>\n",
              "      <td>2.0</td>\n",
              "      <td>851.022763</td>\n",
              "      <td>0.644709</td>\n",
              "    </tr>\n",
              "    <tr>\n",
              "      <th>7</th>\n",
              "      <td>9.0</td>\n",
              "      <td>843.148485</td>\n",
              "      <td>0.638622</td>\n",
              "    </tr>\n",
              "    <tr>\n",
              "      <th>1</th>\n",
              "      <td>3.0</td>\n",
              "      <td>843.157047</td>\n",
              "      <td>0.638567</td>\n",
              "    </tr>\n",
              "    <tr>\n",
              "      <th>4</th>\n",
              "      <td>6.0</td>\n",
              "      <td>842.906884</td>\n",
              "      <td>0.638358</td>\n",
              "    </tr>\n",
              "    <tr>\n",
              "      <th>3</th>\n",
              "      <td>5.0</td>\n",
              "      <td>843.199422</td>\n",
              "      <td>0.638312</td>\n",
              "    </tr>\n",
              "    <tr>\n",
              "      <th>6</th>\n",
              "      <td>8.0</td>\n",
              "      <td>843.199422</td>\n",
              "      <td>0.638312</td>\n",
              "    </tr>\n",
              "    <tr>\n",
              "      <th>8</th>\n",
              "      <td>10.0</td>\n",
              "      <td>843.169412</td>\n",
              "      <td>0.638055</td>\n",
              "    </tr>\n",
              "    <tr>\n",
              "      <th>2</th>\n",
              "      <td>4.0</td>\n",
              "      <td>849.673433</td>\n",
              "      <td>0.636761</td>\n",
              "    </tr>\n",
              "  </tbody>\n",
              "</table>\n",
              "</div>"
            ],
            "text/plain": [
              "      K       Score  SilhouetteScore\n",
              "5   7.0  882.087013         0.646567\n",
              "0   2.0  851.022763         0.644709\n",
              "7   9.0  843.148485         0.638622\n",
              "1   3.0  843.157047         0.638567\n",
              "4   6.0  842.906884         0.638358\n",
              "3   5.0  843.199422         0.638312\n",
              "6   8.0  843.199422         0.638312\n",
              "8  10.0  843.169412         0.638055\n",
              "2   4.0  849.673433         0.636761"
            ]
          },
          "execution_count": 24,
          "metadata": {},
          "output_type": "execute_result"
        }
      ],
      "source": [
        "result = result.sort_values(by='SilhouetteScore', ascending=False)\n",
        "\n",
        "result"
      ]
    },
    {
      "cell_type": "code",
      "execution_count": 25,
      "metadata": {},
      "outputs": [
        {
          "data": {
            "text/plain": [
              "7"
            ]
          },
          "execution_count": 25,
          "metadata": {},
          "output_type": "execute_result"
        }
      ],
      "source": [
        "n_cluster = int(result.iloc[0]['K'])\n",
        "\n",
        "n_cluster"
      ]
    },
    {
      "cell_type": "code",
      "execution_count": 26,
      "metadata": {
        "colab": {
          "base_uri": "https://localhost:8080/",
          "height": 109
        },
        "id": "W1hBp8bClii-",
        "outputId": "7f10c08f-641d-426d-e9a4-fa7c362680f9"
      },
      "outputs": [
        {
          "data": {
            "text/html": [
              "<style>#sk-container-id-1 {\n",
              "  /* Definition of color scheme common for light and dark mode */\n",
              "  --sklearn-color-text: black;\n",
              "  --sklearn-color-line: gray;\n",
              "  /* Definition of color scheme for unfitted estimators */\n",
              "  --sklearn-color-unfitted-level-0: #fff5e6;\n",
              "  --sklearn-color-unfitted-level-1: #f6e4d2;\n",
              "  --sklearn-color-unfitted-level-2: #ffe0b3;\n",
              "  --sklearn-color-unfitted-level-3: chocolate;\n",
              "  /* Definition of color scheme for fitted estimators */\n",
              "  --sklearn-color-fitted-level-0: #f0f8ff;\n",
              "  --sklearn-color-fitted-level-1: #d4ebff;\n",
              "  --sklearn-color-fitted-level-2: #b3dbfd;\n",
              "  --sklearn-color-fitted-level-3: cornflowerblue;\n",
              "\n",
              "  /* Specific color for light theme */\n",
              "  --sklearn-color-text-on-default-background: var(--sg-text-color, var(--theme-code-foreground, var(--jp-content-font-color1, black)));\n",
              "  --sklearn-color-background: var(--sg-background-color, var(--theme-background, var(--jp-layout-color0, white)));\n",
              "  --sklearn-color-border-box: var(--sg-text-color, var(--theme-code-foreground, var(--jp-content-font-color1, black)));\n",
              "  --sklearn-color-icon: #696969;\n",
              "\n",
              "  @media (prefers-color-scheme: dark) {\n",
              "    /* Redefinition of color scheme for dark theme */\n",
              "    --sklearn-color-text-on-default-background: var(--sg-text-color, var(--theme-code-foreground, var(--jp-content-font-color1, white)));\n",
              "    --sklearn-color-background: var(--sg-background-color, var(--theme-background, var(--jp-layout-color0, #111)));\n",
              "    --sklearn-color-border-box: var(--sg-text-color, var(--theme-code-foreground, var(--jp-content-font-color1, white)));\n",
              "    --sklearn-color-icon: #878787;\n",
              "  }\n",
              "}\n",
              "\n",
              "#sk-container-id-1 {\n",
              "  color: var(--sklearn-color-text);\n",
              "}\n",
              "\n",
              "#sk-container-id-1 pre {\n",
              "  padding: 0;\n",
              "}\n",
              "\n",
              "#sk-container-id-1 input.sk-hidden--visually {\n",
              "  border: 0;\n",
              "  clip: rect(1px 1px 1px 1px);\n",
              "  clip: rect(1px, 1px, 1px, 1px);\n",
              "  height: 1px;\n",
              "  margin: -1px;\n",
              "  overflow: hidden;\n",
              "  padding: 0;\n",
              "  position: absolute;\n",
              "  width: 1px;\n",
              "}\n",
              "\n",
              "#sk-container-id-1 div.sk-dashed-wrapped {\n",
              "  border: 1px dashed var(--sklearn-color-line);\n",
              "  margin: 0 0.4em 0.5em 0.4em;\n",
              "  box-sizing: border-box;\n",
              "  padding-bottom: 0.4em;\n",
              "  background-color: var(--sklearn-color-background);\n",
              "}\n",
              "\n",
              "#sk-container-id-1 div.sk-container {\n",
              "  /* jupyter's `normalize.less` sets `[hidden] { display: none; }`\n",
              "     but bootstrap.min.css set `[hidden] { display: none !important; }`\n",
              "     so we also need the `!important` here to be able to override the\n",
              "     default hidden behavior on the sphinx rendered scikit-learn.org.\n",
              "     See: https://github.com/scikit-learn/scikit-learn/issues/21755 */\n",
              "  display: inline-block !important;\n",
              "  position: relative;\n",
              "}\n",
              "\n",
              "#sk-container-id-1 div.sk-text-repr-fallback {\n",
              "  display: none;\n",
              "}\n",
              "\n",
              "div.sk-parallel-item,\n",
              "div.sk-serial,\n",
              "div.sk-item {\n",
              "  /* draw centered vertical line to link estimators */\n",
              "  background-image: linear-gradient(var(--sklearn-color-text-on-default-background), var(--sklearn-color-text-on-default-background));\n",
              "  background-size: 2px 100%;\n",
              "  background-repeat: no-repeat;\n",
              "  background-position: center center;\n",
              "}\n",
              "\n",
              "/* Parallel-specific style estimator block */\n",
              "\n",
              "#sk-container-id-1 div.sk-parallel-item::after {\n",
              "  content: \"\";\n",
              "  width: 100%;\n",
              "  border-bottom: 2px solid var(--sklearn-color-text-on-default-background);\n",
              "  flex-grow: 1;\n",
              "}\n",
              "\n",
              "#sk-container-id-1 div.sk-parallel {\n",
              "  display: flex;\n",
              "  align-items: stretch;\n",
              "  justify-content: center;\n",
              "  background-color: var(--sklearn-color-background);\n",
              "  position: relative;\n",
              "}\n",
              "\n",
              "#sk-container-id-1 div.sk-parallel-item {\n",
              "  display: flex;\n",
              "  flex-direction: column;\n",
              "}\n",
              "\n",
              "#sk-container-id-1 div.sk-parallel-item:first-child::after {\n",
              "  align-self: flex-end;\n",
              "  width: 50%;\n",
              "}\n",
              "\n",
              "#sk-container-id-1 div.sk-parallel-item:last-child::after {\n",
              "  align-self: flex-start;\n",
              "  width: 50%;\n",
              "}\n",
              "\n",
              "#sk-container-id-1 div.sk-parallel-item:only-child::after {\n",
              "  width: 0;\n",
              "}\n",
              "\n",
              "/* Serial-specific style estimator block */\n",
              "\n",
              "#sk-container-id-1 div.sk-serial {\n",
              "  display: flex;\n",
              "  flex-direction: column;\n",
              "  align-items: center;\n",
              "  background-color: var(--sklearn-color-background);\n",
              "  padding-right: 1em;\n",
              "  padding-left: 1em;\n",
              "}\n",
              "\n",
              "\n",
              "/* Toggleable style: style used for estimator/Pipeline/ColumnTransformer box that is\n",
              "clickable and can be expanded/collapsed.\n",
              "- Pipeline and ColumnTransformer use this feature and define the default style\n",
              "- Estimators will overwrite some part of the style using the `sk-estimator` class\n",
              "*/\n",
              "\n",
              "/* Pipeline and ColumnTransformer style (default) */\n",
              "\n",
              "#sk-container-id-1 div.sk-toggleable {\n",
              "  /* Default theme specific background. It is overwritten whether we have a\n",
              "  specific estimator or a Pipeline/ColumnTransformer */\n",
              "  background-color: var(--sklearn-color-background);\n",
              "}\n",
              "\n",
              "/* Toggleable label */\n",
              "#sk-container-id-1 label.sk-toggleable__label {\n",
              "  cursor: pointer;\n",
              "  display: block;\n",
              "  width: 100%;\n",
              "  margin-bottom: 0;\n",
              "  padding: 0.5em;\n",
              "  box-sizing: border-box;\n",
              "  text-align: center;\n",
              "}\n",
              "\n",
              "#sk-container-id-1 label.sk-toggleable__label-arrow:before {\n",
              "  /* Arrow on the left of the label */\n",
              "  content: \"▸\";\n",
              "  float: left;\n",
              "  margin-right: 0.25em;\n",
              "  color: var(--sklearn-color-icon);\n",
              "}\n",
              "\n",
              "#sk-container-id-1 label.sk-toggleable__label-arrow:hover:before {\n",
              "  color: var(--sklearn-color-text);\n",
              "}\n",
              "\n",
              "/* Toggleable content - dropdown */\n",
              "\n",
              "#sk-container-id-1 div.sk-toggleable__content {\n",
              "  max-height: 0;\n",
              "  max-width: 0;\n",
              "  overflow: hidden;\n",
              "  text-align: left;\n",
              "  /* unfitted */\n",
              "  background-color: var(--sklearn-color-unfitted-level-0);\n",
              "}\n",
              "\n",
              "#sk-container-id-1 div.sk-toggleable__content.fitted {\n",
              "  /* fitted */\n",
              "  background-color: var(--sklearn-color-fitted-level-0);\n",
              "}\n",
              "\n",
              "#sk-container-id-1 div.sk-toggleable__content pre {\n",
              "  margin: 0.2em;\n",
              "  border-radius: 0.25em;\n",
              "  color: var(--sklearn-color-text);\n",
              "  /* unfitted */\n",
              "  background-color: var(--sklearn-color-unfitted-level-0);\n",
              "}\n",
              "\n",
              "#sk-container-id-1 div.sk-toggleable__content.fitted pre {\n",
              "  /* unfitted */\n",
              "  background-color: var(--sklearn-color-fitted-level-0);\n",
              "}\n",
              "\n",
              "#sk-container-id-1 input.sk-toggleable__control:checked~div.sk-toggleable__content {\n",
              "  /* Expand drop-down */\n",
              "  max-height: 200px;\n",
              "  max-width: 100%;\n",
              "  overflow: auto;\n",
              "}\n",
              "\n",
              "#sk-container-id-1 input.sk-toggleable__control:checked~label.sk-toggleable__label-arrow:before {\n",
              "  content: \"▾\";\n",
              "}\n",
              "\n",
              "/* Pipeline/ColumnTransformer-specific style */\n",
              "\n",
              "#sk-container-id-1 div.sk-label input.sk-toggleable__control:checked~label.sk-toggleable__label {\n",
              "  color: var(--sklearn-color-text);\n",
              "  background-color: var(--sklearn-color-unfitted-level-2);\n",
              "}\n",
              "\n",
              "#sk-container-id-1 div.sk-label.fitted input.sk-toggleable__control:checked~label.sk-toggleable__label {\n",
              "  background-color: var(--sklearn-color-fitted-level-2);\n",
              "}\n",
              "\n",
              "/* Estimator-specific style */\n",
              "\n",
              "/* Colorize estimator box */\n",
              "#sk-container-id-1 div.sk-estimator input.sk-toggleable__control:checked~label.sk-toggleable__label {\n",
              "  /* unfitted */\n",
              "  background-color: var(--sklearn-color-unfitted-level-2);\n",
              "}\n",
              "\n",
              "#sk-container-id-1 div.sk-estimator.fitted input.sk-toggleable__control:checked~label.sk-toggleable__label {\n",
              "  /* fitted */\n",
              "  background-color: var(--sklearn-color-fitted-level-2);\n",
              "}\n",
              "\n",
              "#sk-container-id-1 div.sk-label label.sk-toggleable__label,\n",
              "#sk-container-id-1 div.sk-label label {\n",
              "  /* The background is the default theme color */\n",
              "  color: var(--sklearn-color-text-on-default-background);\n",
              "}\n",
              "\n",
              "/* On hover, darken the color of the background */\n",
              "#sk-container-id-1 div.sk-label:hover label.sk-toggleable__label {\n",
              "  color: var(--sklearn-color-text);\n",
              "  background-color: var(--sklearn-color-unfitted-level-2);\n",
              "}\n",
              "\n",
              "/* Label box, darken color on hover, fitted */\n",
              "#sk-container-id-1 div.sk-label.fitted:hover label.sk-toggleable__label.fitted {\n",
              "  color: var(--sklearn-color-text);\n",
              "  background-color: var(--sklearn-color-fitted-level-2);\n",
              "}\n",
              "\n",
              "/* Estimator label */\n",
              "\n",
              "#sk-container-id-1 div.sk-label label {\n",
              "  font-family: monospace;\n",
              "  font-weight: bold;\n",
              "  display: inline-block;\n",
              "  line-height: 1.2em;\n",
              "}\n",
              "\n",
              "#sk-container-id-1 div.sk-label-container {\n",
              "  text-align: center;\n",
              "}\n",
              "\n",
              "/* Estimator-specific */\n",
              "#sk-container-id-1 div.sk-estimator {\n",
              "  font-family: monospace;\n",
              "  border: 1px dotted var(--sklearn-color-border-box);\n",
              "  border-radius: 0.25em;\n",
              "  box-sizing: border-box;\n",
              "  margin-bottom: 0.5em;\n",
              "  /* unfitted */\n",
              "  background-color: var(--sklearn-color-unfitted-level-0);\n",
              "}\n",
              "\n",
              "#sk-container-id-1 div.sk-estimator.fitted {\n",
              "  /* fitted */\n",
              "  background-color: var(--sklearn-color-fitted-level-0);\n",
              "}\n",
              "\n",
              "/* on hover */\n",
              "#sk-container-id-1 div.sk-estimator:hover {\n",
              "  /* unfitted */\n",
              "  background-color: var(--sklearn-color-unfitted-level-2);\n",
              "}\n",
              "\n",
              "#sk-container-id-1 div.sk-estimator.fitted:hover {\n",
              "  /* fitted */\n",
              "  background-color: var(--sklearn-color-fitted-level-2);\n",
              "}\n",
              "\n",
              "/* Specification for estimator info (e.g. \"i\" and \"?\") */\n",
              "\n",
              "/* Common style for \"i\" and \"?\" */\n",
              "\n",
              ".sk-estimator-doc-link,\n",
              "a:link.sk-estimator-doc-link,\n",
              "a:visited.sk-estimator-doc-link {\n",
              "  float: right;\n",
              "  font-size: smaller;\n",
              "  line-height: 1em;\n",
              "  font-family: monospace;\n",
              "  background-color: var(--sklearn-color-background);\n",
              "  border-radius: 1em;\n",
              "  height: 1em;\n",
              "  width: 1em;\n",
              "  text-decoration: none !important;\n",
              "  margin-left: 1ex;\n",
              "  /* unfitted */\n",
              "  border: var(--sklearn-color-unfitted-level-1) 1pt solid;\n",
              "  color: var(--sklearn-color-unfitted-level-1);\n",
              "}\n",
              "\n",
              ".sk-estimator-doc-link.fitted,\n",
              "a:link.sk-estimator-doc-link.fitted,\n",
              "a:visited.sk-estimator-doc-link.fitted {\n",
              "  /* fitted */\n",
              "  border: var(--sklearn-color-fitted-level-1) 1pt solid;\n",
              "  color: var(--sklearn-color-fitted-level-1);\n",
              "}\n",
              "\n",
              "/* On hover */\n",
              "div.sk-estimator:hover .sk-estimator-doc-link:hover,\n",
              ".sk-estimator-doc-link:hover,\n",
              "div.sk-label-container:hover .sk-estimator-doc-link:hover,\n",
              ".sk-estimator-doc-link:hover {\n",
              "  /* unfitted */\n",
              "  background-color: var(--sklearn-color-unfitted-level-3);\n",
              "  color: var(--sklearn-color-background);\n",
              "  text-decoration: none;\n",
              "}\n",
              "\n",
              "div.sk-estimator.fitted:hover .sk-estimator-doc-link.fitted:hover,\n",
              ".sk-estimator-doc-link.fitted:hover,\n",
              "div.sk-label-container:hover .sk-estimator-doc-link.fitted:hover,\n",
              ".sk-estimator-doc-link.fitted:hover {\n",
              "  /* fitted */\n",
              "  background-color: var(--sklearn-color-fitted-level-3);\n",
              "  color: var(--sklearn-color-background);\n",
              "  text-decoration: none;\n",
              "}\n",
              "\n",
              "/* Span, style for the box shown on hovering the info icon */\n",
              ".sk-estimator-doc-link span {\n",
              "  display: none;\n",
              "  z-index: 9999;\n",
              "  position: relative;\n",
              "  font-weight: normal;\n",
              "  right: .2ex;\n",
              "  padding: .5ex;\n",
              "  margin: .5ex;\n",
              "  width: min-content;\n",
              "  min-width: 20ex;\n",
              "  max-width: 50ex;\n",
              "  color: var(--sklearn-color-text);\n",
              "  box-shadow: 2pt 2pt 4pt #999;\n",
              "  /* unfitted */\n",
              "  background: var(--sklearn-color-unfitted-level-0);\n",
              "  border: .5pt solid var(--sklearn-color-unfitted-level-3);\n",
              "}\n",
              "\n",
              ".sk-estimator-doc-link.fitted span {\n",
              "  /* fitted */\n",
              "  background: var(--sklearn-color-fitted-level-0);\n",
              "  border: var(--sklearn-color-fitted-level-3);\n",
              "}\n",
              "\n",
              ".sk-estimator-doc-link:hover span {\n",
              "  display: block;\n",
              "}\n",
              "\n",
              "/* \"?\"-specific style due to the `<a>` HTML tag */\n",
              "\n",
              "#sk-container-id-1 a.estimator_doc_link {\n",
              "  float: right;\n",
              "  font-size: 1rem;\n",
              "  line-height: 1em;\n",
              "  font-family: monospace;\n",
              "  background-color: var(--sklearn-color-background);\n",
              "  border-radius: 1rem;\n",
              "  height: 1rem;\n",
              "  width: 1rem;\n",
              "  text-decoration: none;\n",
              "  /* unfitted */\n",
              "  color: var(--sklearn-color-unfitted-level-1);\n",
              "  border: var(--sklearn-color-unfitted-level-1) 1pt solid;\n",
              "}\n",
              "\n",
              "#sk-container-id-1 a.estimator_doc_link.fitted {\n",
              "  /* fitted */\n",
              "  border: var(--sklearn-color-fitted-level-1) 1pt solid;\n",
              "  color: var(--sklearn-color-fitted-level-1);\n",
              "}\n",
              "\n",
              "/* On hover */\n",
              "#sk-container-id-1 a.estimator_doc_link:hover {\n",
              "  /* unfitted */\n",
              "  background-color: var(--sklearn-color-unfitted-level-3);\n",
              "  color: var(--sklearn-color-background);\n",
              "  text-decoration: none;\n",
              "}\n",
              "\n",
              "#sk-container-id-1 a.estimator_doc_link.fitted:hover {\n",
              "  /* fitted */\n",
              "  background-color: var(--sklearn-color-fitted-level-3);\n",
              "}\n",
              "</style><div id=\"sk-container-id-1\" class=\"sk-top-container\"><div class=\"sk-text-repr-fallback\"><pre>KMeans(n_clusters=7)</pre><b>In a Jupyter environment, please rerun this cell to show the HTML representation or trust the notebook. <br />On GitHub, the HTML representation is unable to render, please try loading this page with nbviewer.org.</b></div><div class=\"sk-container\" hidden><div class=\"sk-item\"><div class=\"sk-estimator fitted sk-toggleable\"><input class=\"sk-toggleable__control sk-hidden--visually\" id=\"sk-estimator-id-1\" type=\"checkbox\" checked><label for=\"sk-estimator-id-1\" class=\"sk-toggleable__label fitted sk-toggleable__label-arrow fitted\">&nbsp;&nbsp;KMeans<a class=\"sk-estimator-doc-link fitted\" rel=\"noreferrer\" target=\"_blank\" href=\"https://scikit-learn.org/1.4/modules/generated/sklearn.cluster.KMeans.html\">?<span>Documentation for KMeans</span></a><span class=\"sk-estimator-doc-link fitted\">i<span>Fitted</span></span></label><div class=\"sk-toggleable__content fitted\"><pre>KMeans(n_clusters=7)</pre></div> </div></div></div></div>"
            ],
            "text/plain": [
              "KMeans(n_clusters=7)"
            ]
          },
          "execution_count": 26,
          "metadata": {},
          "output_type": "execute_result"
        }
      ],
      "source": [
        "# km = KMeans(n_clusters=n_cluster, max_iter=max_iter)\n",
        "km = KMeans(n_clusters=n_cluster, init='k-means++')\n",
        "km.fit(df_pca)"
      ]
    },
    {
      "cell_type": "code",
      "execution_count": 27,
      "metadata": {
        "colab": {
          "base_uri": "https://localhost:8080/"
        },
        "id": "-oU_LbGIn-lT",
        "outputId": "d654b2fc-e773-46d9-f4b2-5ca7a157a581"
      },
      "outputs": [
        {
          "data": {
            "text/plain": [
              "array([[-7.49316702e-01, -3.66901364e-02],\n",
              "       [ 4.41448295e+00,  5.83241040e-01],\n",
              "       [ 1.19801619e+00,  1.10750032e+00],\n",
              "       [ 1.67421544e+00, -7.45315758e-01],\n",
              "       [ 8.38741233e+00,  3.32610157e+00],\n",
              "       [ 8.26055022e-03,  4.15170809e-01],\n",
              "       [ 3.10476781e+00, -2.17333742e+00]])"
            ]
          },
          "execution_count": 27,
          "metadata": {},
          "output_type": "execute_result"
        }
      ],
      "source": [
        "centroid = km.cluster_centers_\n",
        "\n",
        "centroid"
      ]
    },
    {
      "cell_type": "code",
      "execution_count": 28,
      "metadata": {
        "colab": {
          "base_uri": "https://localhost:8080/",
          "height": 206
        },
        "id": "XFV9OQepoJ3S",
        "outputId": "6a58ed29-8840-48af-f1f2-6ca9115f4253"
      },
      "outputs": [
        {
          "data": {
            "text/html": [
              "<div>\n",
              "<style scoped>\n",
              "    .dataframe tbody tr th:only-of-type {\n",
              "        vertical-align: middle;\n",
              "    }\n",
              "\n",
              "    .dataframe tbody tr th {\n",
              "        vertical-align: top;\n",
              "    }\n",
              "\n",
              "    .dataframe thead th {\n",
              "        text-align: right;\n",
              "    }\n",
              "</style>\n",
              "<table border=\"1\" class=\"dataframe\">\n",
              "  <thead>\n",
              "    <tr style=\"text-align: right;\">\n",
              "      <th></th>\n",
              "      <th>pca1</th>\n",
              "      <th>pca2</th>\n",
              "    </tr>\n",
              "  </thead>\n",
              "  <tbody>\n",
              "    <tr>\n",
              "      <th>0</th>\n",
              "      <td>0.306533</td>\n",
              "      <td>0.660877</td>\n",
              "    </tr>\n",
              "    <tr>\n",
              "      <th>1</th>\n",
              "      <td>-1.023379</td>\n",
              "      <td>-0.185834</td>\n",
              "    </tr>\n",
              "    <tr>\n",
              "      <th>2</th>\n",
              "      <td>0.091216</td>\n",
              "      <td>0.543282</td>\n",
              "    </tr>\n",
              "    <tr>\n",
              "      <th>3</th>\n",
              "      <td>-0.748143</td>\n",
              "      <td>-0.035513</td>\n",
              "    </tr>\n",
              "    <tr>\n",
              "      <th>4</th>\n",
              "      <td>-0.830470</td>\n",
              "      <td>-0.080477</td>\n",
              "    </tr>\n",
              "  </tbody>\n",
              "</table>\n",
              "</div>"
            ],
            "text/plain": [
              "       pca1      pca2\n",
              "0  0.306533  0.660877\n",
              "1 -1.023379 -0.185834\n",
              "2  0.091216  0.543282\n",
              "3 -0.748143 -0.035513\n",
              "4 -0.830470 -0.080477"
            ]
          },
          "execution_count": 28,
          "metadata": {},
          "output_type": "execute_result"
        }
      ],
      "source": [
        "df_pca.head()"
      ]
    },
    {
      "cell_type": "code",
      "execution_count": 29,
      "metadata": {
        "colab": {
          "base_uri": "https://localhost:8080/",
          "height": 475
        },
        "id": "V2O75F8PojlU",
        "outputId": "61765489-86dd-479c-dcca-acfb39ace32b"
      },
      "outputs": [
        {
          "data": {
            "text/plain": [
              "<matplotlib.legend.Legend at 0x1f42c572b50>"
            ]
          },
          "execution_count": 29,
          "metadata": {},
          "output_type": "execute_result"
        },
        {
          "data": {
            "image/png": "[encoded data removed]",
            "text/plain": [
              "<Figure size 640x480 with 1 Axes>"
            ]
          },
          "metadata": {},
          "output_type": "display_data"
        }
      ],
      "source": [
        "# plt.scatter(df_pca['pca1'], df_pca['pca2'], c=km.labels_, s=10, alpha=0.5)\n",
        "\n",
        "sns.scatterplot(df_pca, x='pca1', y='pca2', hue=km.labels_, palette='husl')\n",
        "\n",
        "plt.title('Cluster Visualization Results')\n",
        "plt.xlabel('1st Principal Component')\n",
        "plt.ylabel('2nd Principal Component')\n",
        "\n",
        "plt.legend()"
      ]
    },
    {
      "cell_type": "code",
      "execution_count": 30,
      "metadata": {},
      "outputs": [
        {
          "data": {
            "text/plain": [
              "array([5, 0, 5, ..., 5, 0, 0])"
            ]
          },
          "execution_count": 30,
          "metadata": {},
          "output_type": "execute_result"
        }
      ],
      "source": [
        "km.labels_"
      ]
    },
    {
      "cell_type": "code",
      "execution_count": 31,
      "metadata": {
        "colab": {
          "base_uri": "https://localhost:8080/",
          "height": 206
        },
        "id": "79r79k4ApTMH",
        "outputId": "29e3ff97-17c0-4b18-8e34-db033f8f9dcd"
      },
      "outputs": [
        {
          "data": {
            "text/html": [
              "<div>\n",
              "<style scoped>\n",
              "    .dataframe tbody tr th:only-of-type {\n",
              "        vertical-align: middle;\n",
              "    }\n",
              "\n",
              "    .dataframe tbody tr th {\n",
              "        vertical-align: top;\n",
              "    }\n",
              "\n",
              "    .dataframe thead th {\n",
              "        text-align: right;\n",
              "    }\n",
              "</style>\n",
              "<table border=\"1\" class=\"dataframe\">\n",
              "  <thead>\n",
              "    <tr style=\"text-align: right;\">\n",
              "      <th></th>\n",
              "      <th>user_id</th>\n",
              "      <th>monetary</th>\n",
              "      <th>frequency</th>\n",
              "      <th>recency</th>\n",
              "      <th>label</th>\n",
              "    </tr>\n",
              "  </thead>\n",
              "  <tbody>\n",
              "    <tr>\n",
              "      <th>0</th>\n",
              "      <td>001b5eddf7</td>\n",
              "      <td>591500</td>\n",
              "      <td>2</td>\n",
              "      <td>0</td>\n",
              "      <td>5</td>\n",
              "    </tr>\n",
              "    <tr>\n",
              "      <th>1</th>\n",
              "      <td>0023cedbf9</td>\n",
              "      <td>7000</td>\n",
              "      <td>1</td>\n",
              "      <td>0</td>\n",
              "      <td>0</td>\n",
              "    </tr>\n",
              "    <tr>\n",
              "      <th>2</th>\n",
              "      <td>0024ae4898</td>\n",
              "      <td>436800</td>\n",
              "      <td>2</td>\n",
              "      <td>0</td>\n",
              "      <td>5</td>\n",
              "    </tr>\n",
              "    <tr>\n",
              "      <th>3</th>\n",
              "      <td>002d8b5849</td>\n",
              "      <td>204750</td>\n",
              "      <td>1</td>\n",
              "      <td>0</td>\n",
              "      <td>0</td>\n",
              "    </tr>\n",
              "    <tr>\n",
              "      <th>4</th>\n",
              "      <td>003e99a26e</td>\n",
              "      <td>145600</td>\n",
              "      <td>1</td>\n",
              "      <td>0</td>\n",
              "      <td>0</td>\n",
              "    </tr>\n",
              "  </tbody>\n",
              "</table>\n",
              "</div>"
            ],
            "text/plain": [
              "      user_id  monetary  frequency  recency  label\n",
              "0  001b5eddf7    591500          2        0      5\n",
              "1  0023cedbf9      7000          1        0      0\n",
              "2  0024ae4898    436800          2        0      5\n",
              "3  002d8b5849    204750          1        0      0\n",
              "4  003e99a26e    145600          1        0      0"
            ]
          },
          "execution_count": 31,
          "metadata": {},
          "output_type": "execute_result"
        }
      ],
      "source": [
        "df_rfm['label'] = km.labels_\n",
        "\n",
        "df_rfm.head()"
      ]
    },
    {
      "cell_type": "code",
      "execution_count": 32,
      "metadata": {},
      "outputs": [
        {
          "data": {
            "text/plain": [
              "(3900, 5)"
            ]
          },
          "execution_count": 32,
          "metadata": {},
          "output_type": "execute_result"
        }
      ],
      "source": [
        "df_rfm.shape"
      ]
    },
    {
      "cell_type": "code",
      "execution_count": 33,
      "metadata": {},
      "outputs": [
        {
          "data": {
            "text/html": [
              "<div>\n",
              "<style scoped>\n",
              "    .dataframe tbody tr th:only-of-type {\n",
              "        vertical-align: middle;\n",
              "    }\n",
              "\n",
              "    .dataframe tbody tr th {\n",
              "        vertical-align: top;\n",
              "    }\n",
              "\n",
              "    .dataframe thead th {\n",
              "        text-align: right;\n",
              "    }\n",
              "</style>\n",
              "<table border=\"1\" class=\"dataframe\">\n",
              "  <thead>\n",
              "    <tr style=\"text-align: right;\">\n",
              "      <th></th>\n",
              "      <th>monetary</th>\n",
              "      <th>frequency</th>\n",
              "      <th>recency</th>\n",
              "      <th>user_id</th>\n",
              "      <th>label</th>\n",
              "    </tr>\n",
              "  </thead>\n",
              "  <tbody>\n",
              "    <tr>\n",
              "      <th>0</th>\n",
              "      <td>0.438787</td>\n",
              "      <td>0.441606</td>\n",
              "      <td>-0.382935</td>\n",
              "      <td>001b5eddf7</td>\n",
              "      <td>5</td>\n",
              "    </tr>\n",
              "    <tr>\n",
              "      <th>1</th>\n",
              "      <td>-0.934770</td>\n",
              "      <td>-0.440249</td>\n",
              "      <td>-0.382935</td>\n",
              "      <td>0023cedbf9</td>\n",
              "      <td>0</td>\n",
              "    </tr>\n",
              "    <tr>\n",
              "      <th>2</th>\n",
              "      <td>0.075247</td>\n",
              "      <td>0.441606</td>\n",
              "      <td>-0.382935</td>\n",
              "      <td>0024ae4898</td>\n",
              "      <td>5</td>\n",
              "    </tr>\n",
              "    <tr>\n",
              "      <th>3</th>\n",
              "      <td>-0.470063</td>\n",
              "      <td>-0.440249</td>\n",
              "      <td>-0.382935</td>\n",
              "      <td>002d8b5849</td>\n",
              "      <td>0</td>\n",
              "    </tr>\n",
              "    <tr>\n",
              "      <th>4</th>\n",
              "      <td>-0.609064</td>\n",
              "      <td>-0.440249</td>\n",
              "      <td>-0.382935</td>\n",
              "      <td>003e99a26e</td>\n",
              "      <td>0</td>\n",
              "    </tr>\n",
              "  </tbody>\n",
              "</table>\n",
              "</div>"
            ],
            "text/plain": [
              "   monetary  frequency   recency     user_id  label\n",
              "0  0.438787   0.441606 -0.382935  001b5eddf7      5\n",
              "1 -0.934770  -0.440249 -0.382935  0023cedbf9      0\n",
              "2  0.075247   0.441606 -0.382935  0024ae4898      5\n",
              "3 -0.470063  -0.440249 -0.382935  002d8b5849      0\n",
              "4 -0.609064  -0.440249 -0.382935  003e99a26e      0"
            ]
          },
          "execution_count": 33,
          "metadata": {},
          "output_type": "execute_result"
        }
      ],
      "source": [
        "df_scaled['label'] = km.labels_\n",
        "\n",
        "df_scaled.head()"
      ]
    },
    {
      "cell_type": "code",
      "execution_count": 34,
      "metadata": {},
      "outputs": [
        {
          "name": "stdout",
          "output_type": "stream",
          "text": [
            "    label   variable     value\n",
            "0       0    recency -0.381147\n",
            "1       1    recency  1.964751\n",
            "2       2    recency -0.269414\n",
            "3       3    recency  1.568696\n",
            "4       4    recency  1.944187\n",
            "5       5    recency -0.356883\n",
            "6       6    recency  3.513501\n",
            "7       0  frequency -0.429348\n",
            "8       1  frequency  2.892341\n",
            "9       2  frequency  1.087408\n",
            "10      3  frequency  0.841295\n",
            "11      4  frequency  6.919844\n",
            "12      5  frequency  0.050895\n",
            "13      6  frequency  0.772969\n",
            "14      0   monetary -0.484494\n",
            "15      1   monetary  2.757850\n",
            "16      2   monetary  1.199399\n",
            "17      3   monetary  0.529092\n",
            "18      4   monetary  5.503090\n",
            "19      5   monetary  0.297123\n",
            "20      6   monetary  1.194633\n"
          ]
        },
        {
          "data": {
            "text/plain": [
              "<Axes: xlabel='variable', ylabel='value'>"
            ]
          },
          "execution_count": 34,
          "metadata": {},
          "output_type": "execute_result"
        },
        {
          "data": {
            "image/png": "[encoded data removed]",
            "text/plain": [
              "<Figure size 640x480 with 1 Axes>"
            ]
          },
          "metadata": {},
          "output_type": "display_data"
        }
      ],
      "source": [
        "df_melt = df_scaled[['monetary', 'recency', 'frequency', 'label']].groupby(by='label').agg(\"mean\").reset_index()\n",
        "\n",
        "df_melt = df_melt.melt(id_vars=['label'], value_vars=['recency', 'frequency', 'monetary', 'label'])\n",
        "\n",
        "print(df_melt)\n",
        "\n",
        "sns.lineplot(df_melt, x='variable', y='value', hue='label', palette='bright', markers='o', style=True)"
      ]
    },
    {
      "cell_type": "code",
      "execution_count": 35,
      "metadata": {},
      "outputs": [
        {
          "data": {
            "text/html": [
              "<div>\n",
              "<style scoped>\n",
              "    .dataframe tbody tr th:only-of-type {\n",
              "        vertical-align: middle;\n",
              "    }\n",
              "\n",
              "    .dataframe tbody tr th {\n",
              "        vertical-align: top;\n",
              "    }\n",
              "\n",
              "    .dataframe thead tr th {\n",
              "        text-align: left;\n",
              "    }\n",
              "</style>\n",
              "<table border=\"1\" class=\"dataframe\">\n",
              "  <thead>\n",
              "    <tr>\n",
              "      <th></th>\n",
              "      <th>label</th>\n",
              "      <th colspan=\"3\" halign=\"left\">monetary</th>\n",
              "      <th colspan=\"3\" halign=\"left\">recency</th>\n",
              "      <th colspan=\"3\" halign=\"left\">frequency</th>\n",
              "    </tr>\n",
              "    <tr>\n",
              "      <th></th>\n",
              "      <th></th>\n",
              "      <th>min</th>\n",
              "      <th>max</th>\n",
              "      <th>mean</th>\n",
              "      <th>min</th>\n",
              "      <th>max</th>\n",
              "      <th>mean</th>\n",
              "      <th>min</th>\n",
              "      <th>max</th>\n",
              "      <th>mean</th>\n",
              "    </tr>\n",
              "  </thead>\n",
              "  <tbody>\n",
              "    <tr>\n",
              "      <th>0</th>\n",
              "      <td>0</td>\n",
              "      <td>-0.945580</td>\n",
              "      <td>0.176766</td>\n",
              "      <td>-0.484494</td>\n",
              "      <td>-0.382935</td>\n",
              "      <td>0.978727</td>\n",
              "      <td>-0.381147</td>\n",
              "      <td>-0.440249</td>\n",
              "      <td>0.441606</td>\n",
              "      <td>-0.429348</td>\n",
              "    </tr>\n",
              "    <tr>\n",
              "      <th>1</th>\n",
              "      <td>1</td>\n",
              "      <td>-0.732062</td>\n",
              "      <td>6.162608</td>\n",
              "      <td>2.757850</td>\n",
              "      <td>-0.382935</td>\n",
              "      <td>4.264479</td>\n",
              "      <td>1.964751</td>\n",
              "      <td>0.441606</td>\n",
              "      <td>7.496442</td>\n",
              "      <td>2.892341</td>\n",
              "    </tr>\n",
              "    <tr>\n",
              "      <th>2</th>\n",
              "      <td>2</td>\n",
              "      <td>-0.919636</td>\n",
              "      <td>3.842718</td>\n",
              "      <td>1.199399</td>\n",
              "      <td>-0.382935</td>\n",
              "      <td>0.949126</td>\n",
              "      <td>-0.269414</td>\n",
              "      <td>-0.440249</td>\n",
              "      <td>5.732733</td>\n",
              "      <td>1.087408</td>\n",
              "    </tr>\n",
              "    <tr>\n",
              "      <th>3</th>\n",
              "      <td>3</td>\n",
              "      <td>-0.904220</td>\n",
              "      <td>2.714733</td>\n",
              "      <td>0.529092</td>\n",
              "      <td>0.662979</td>\n",
              "      <td>2.656138</td>\n",
              "      <td>1.568696</td>\n",
              "      <td>0.441606</td>\n",
              "      <td>3.087169</td>\n",
              "      <td>0.841295</td>\n",
              "    </tr>\n",
              "    <tr>\n",
              "      <th>4</th>\n",
              "      <td>4</td>\n",
              "      <td>-0.704661</td>\n",
              "      <td>13.606371</td>\n",
              "      <td>5.503090</td>\n",
              "      <td>-0.382935</td>\n",
              "      <td>4.639429</td>\n",
              "      <td>1.944187</td>\n",
              "      <td>3.087169</td>\n",
              "      <td>17.196841</td>\n",
              "      <td>6.919844</td>\n",
              "    </tr>\n",
              "    <tr>\n",
              "      <th>5</th>\n",
              "      <td>5</td>\n",
              "      <td>-0.927532</td>\n",
              "      <td>1.789785</td>\n",
              "      <td>0.297123</td>\n",
              "      <td>-0.382935</td>\n",
              "      <td>0.810986</td>\n",
              "      <td>-0.356883</td>\n",
              "      <td>-0.440249</td>\n",
              "      <td>1.323460</td>\n",
              "      <td>0.050895</td>\n",
              "    </tr>\n",
              "    <tr>\n",
              "      <th>6</th>\n",
              "      <td>6</td>\n",
              "      <td>-0.885421</td>\n",
              "      <td>3.809818</td>\n",
              "      <td>1.194633</td>\n",
              "      <td>2.517998</td>\n",
              "      <td>6.306973</td>\n",
              "      <td>3.513501</td>\n",
              "      <td>0.441606</td>\n",
              "      <td>2.205315</td>\n",
              "      <td>0.772969</td>\n",
              "    </tr>\n",
              "  </tbody>\n",
              "</table>\n",
              "</div>"
            ],
            "text/plain": [
              "  label  monetary                        recency                      \\\n",
              "              min        max      mean       min       max      mean   \n",
              "0     0 -0.945580   0.176766 -0.484494 -0.382935  0.978727 -0.381147   \n",
              "1     1 -0.732062   6.162608  2.757850 -0.382935  4.264479  1.964751   \n",
              "2     2 -0.919636   3.842718  1.199399 -0.382935  0.949126 -0.269414   \n",
              "3     3 -0.904220   2.714733  0.529092  0.662979  2.656138  1.568696   \n",
              "4     4 -0.704661  13.606371  5.503090 -0.382935  4.639429  1.944187   \n",
              "5     5 -0.927532   1.789785  0.297123 -0.382935  0.810986 -0.356883   \n",
              "6     6 -0.885421   3.809818  1.194633  2.517998  6.306973  3.513501   \n",
              "\n",
              "  frequency                       \n",
              "        min        max      mean  \n",
              "0 -0.440249   0.441606 -0.429348  \n",
              "1  0.441606   7.496442  2.892341  \n",
              "2 -0.440249   5.732733  1.087408  \n",
              "3  0.441606   3.087169  0.841295  \n",
              "4  3.087169  17.196841  6.919844  \n",
              "5 -0.440249   1.323460  0.050895  \n",
              "6  0.441606   2.205315  0.772969  "
            ]
          },
          "execution_count": 35,
          "metadata": {},
          "output_type": "execute_result"
        }
      ],
      "source": [
        "df_melt = df_scaled[['monetary', 'recency', 'frequency', 'label']].groupby(by='label').agg([\"min\", \"max\", \"mean\"]).reset_index()\n",
        "\n",
        "df_melt"
      ]
    },
    {
      "cell_type": "code",
      "execution_count": 36,
      "metadata": {
        "colab": {
          "base_uri": "https://localhost:8080/",
          "height": 475
        },
        "id": "SdO17YWfsu-D",
        "outputId": "2d7f1a07-2f7f-4d46-8b9c-2a676601f9e1"
      },
      "outputs": [
        {
          "data": {
            "text/plain": [
              "Text(0, 0.5, 'Recency')"
            ]
          },
          "execution_count": 36,
          "metadata": {},
          "output_type": "execute_result"
        },
        {
          "data": {
            "image/png": "[encoded data removed]",
            "text/plain": [
              "<Figure size 640x480 with 1 Axes>"
            ]
          },
          "metadata": {},
          "output_type": "display_data"
        }
      ],
      "source": [
        "ax = sns.boxplot(data=df_rfm, x='label', y='recency', hue='label', palette='deep', legend=False)\n",
        "\n",
        "ax.set_xlabel('Label of Cluster')\n",
        "ax.set_ylabel('Recency')"
      ]
    },
    {
      "cell_type": "code",
      "execution_count": 37,
      "metadata": {
        "colab": {
          "base_uri": "https://localhost:8080/",
          "height": 475
        },
        "id": "w7uvGfmKssSA",
        "outputId": "ea82490f-fc33-433b-d433-9f5dd6491caa"
      },
      "outputs": [
        {
          "data": {
            "text/plain": [
              "Text(0, 0.5, 'Frequency')"
            ]
          },
          "execution_count": 37,
          "metadata": {},
          "output_type": "execute_result"
        },
        {
          "data": {
            "image/png": "[encoded data removed]",
            "text/plain": [
              "<Figure size 640x480 with 1 Axes>"
            ]
          },
          "metadata": {},
          "output_type": "display_data"
        }
      ],
      "source": [
        "ax = sns.boxplot(data=df_rfm, x='label', y='frequency', hue='label', palette='deep', legend=False)\n",
        "\n",
        "ax.set_xlabel('Label of Cluster')\n",
        "ax.set_ylabel('Frequency')"
      ]
    },
    {
      "cell_type": "code",
      "execution_count": 38,
      "metadata": {
        "colab": {
          "base_uri": "https://localhost:8080/",
          "height": 491
        },
        "id": "xQb_fQExpeGR",
        "outputId": "9ee892c0-b7c8-43f1-f663-b657d1908fb5"
      },
      "outputs": [
        {
          "data": {
            "text/plain": [
              "Text(0, 0.5, 'Monetary')"
            ]
          },
          "execution_count": 38,
          "metadata": {},
          "output_type": "execute_result"
        },
        {
          "data": {
            "image/png": "[encoded data removed]",
            "text/plain": [
              "<Figure size 640x480 with 1 Axes>"
            ]
          },
          "metadata": {},
          "output_type": "display_data"
        }
      ],
      "source": [
        "ax = sns.boxplot(data=df_rfm, x='label', y='monetary', hue='label', palette='deep', legend=False)\n",
        "\n",
        "ax.set_xlabel('Label of Cluster')\n",
        "ax.set_ylabel('Monetary')"
      ]
    },
    {
      "cell_type": "code",
      "execution_count": 39,
      "metadata": {},
      "outputs": [
        {
          "data": {
            "text/html": [
              "<div>\n",
              "<style scoped>\n",
              "    .dataframe tbody tr th:only-of-type {\n",
              "        vertical-align: middle;\n",
              "    }\n",
              "\n",
              "    .dataframe tbody tr th {\n",
              "        vertical-align: top;\n",
              "    }\n",
              "\n",
              "    .dataframe thead th {\n",
              "        text-align: right;\n",
              "    }\n",
              "</style>\n",
              "<table border=\"1\" class=\"dataframe\">\n",
              "  <thead>\n",
              "    <tr style=\"text-align: right;\">\n",
              "      <th></th>\n",
              "      <th>user_id</th>\n",
              "      <th>monetary</th>\n",
              "      <th>frequency</th>\n",
              "      <th>recency</th>\n",
              "      <th>label</th>\n",
              "    </tr>\n",
              "  </thead>\n",
              "  <tbody>\n",
              "    <tr>\n",
              "      <th>0</th>\n",
              "      <td>001b5eddf7</td>\n",
              "      <td>591500</td>\n",
              "      <td>2</td>\n",
              "      <td>0</td>\n",
              "      <td>5</td>\n",
              "    </tr>\n",
              "    <tr>\n",
              "      <th>1</th>\n",
              "      <td>0023cedbf9</td>\n",
              "      <td>7000</td>\n",
              "      <td>1</td>\n",
              "      <td>0</td>\n",
              "      <td>0</td>\n",
              "    </tr>\n",
              "    <tr>\n",
              "      <th>2</th>\n",
              "      <td>0024ae4898</td>\n",
              "      <td>436800</td>\n",
              "      <td>2</td>\n",
              "      <td>0</td>\n",
              "      <td>5</td>\n",
              "    </tr>\n",
              "    <tr>\n",
              "      <th>3</th>\n",
              "      <td>002d8b5849</td>\n",
              "      <td>204750</td>\n",
              "      <td>1</td>\n",
              "      <td>0</td>\n",
              "      <td>0</td>\n",
              "    </tr>\n",
              "    <tr>\n",
              "      <th>4</th>\n",
              "      <td>003e99a26e</td>\n",
              "      <td>145600</td>\n",
              "      <td>1</td>\n",
              "      <td>0</td>\n",
              "      <td>0</td>\n",
              "    </tr>\n",
              "  </tbody>\n",
              "</table>\n",
              "</div>"
            ],
            "text/plain": [
              "      user_id  monetary  frequency  recency  label\n",
              "0  001b5eddf7    591500          2        0      5\n",
              "1  0023cedbf9      7000          1        0      0\n",
              "2  0024ae4898    436800          2        0      5\n",
              "3  002d8b5849    204750          1        0      0\n",
              "4  003e99a26e    145600          1        0      0"
            ]
          },
          "execution_count": 39,
          "metadata": {},
          "output_type": "execute_result"
        }
      ],
      "source": [
        "df_rfm.head()"
      ]
    },
    {
      "cell_type": "code",
      "execution_count": 40,
      "metadata": {},
      "outputs": [
        {
          "data": {
            "text/plain": [
              "label\n",
              "0    2427\n",
              "5     720\n",
              "3     278\n",
              "2     198\n",
              "6     165\n",
              "1      86\n",
              "4      26\n",
              "Name: count, dtype: int64"
            ]
          },
          "execution_count": 40,
          "metadata": {},
          "output_type": "execute_result"
        }
      ],
      "source": [
        "df_rfm['label'].value_counts()"
      ]
    },
    {
      "cell_type": "code",
      "execution_count": 41,
      "metadata": {},
      "outputs": [
        {
          "data": {
            "text/html": [
              "<div>\n",
              "<style scoped>\n",
              "    .dataframe tbody tr th:only-of-type {\n",
              "        vertical-align: middle;\n",
              "    }\n",
              "\n",
              "    .dataframe tbody tr th {\n",
              "        vertical-align: top;\n",
              "    }\n",
              "\n",
              "    .dataframe thead tr th {\n",
              "        text-align: left;\n",
              "    }\n",
              "</style>\n",
              "<table border=\"1\" class=\"dataframe\">\n",
              "  <thead>\n",
              "    <tr>\n",
              "      <th></th>\n",
              "      <th>label</th>\n",
              "      <th>monetary</th>\n",
              "      <th>recency</th>\n",
              "      <th>frequency</th>\n",
              "    </tr>\n",
              "    <tr>\n",
              "      <th></th>\n",
              "      <th></th>\n",
              "      <th>mean</th>\n",
              "      <th>mean</th>\n",
              "      <th>mean</th>\n",
              "    </tr>\n",
              "  </thead>\n",
              "  <tbody>\n",
              "    <tr>\n",
              "      <th>0</th>\n",
              "      <td>0</td>\n",
              "      <td>1.986093e+05</td>\n",
              "      <td>0.181294</td>\n",
              "      <td>1.012361</td>\n",
              "    </tr>\n",
              "    <tr>\n",
              "      <th>1</th>\n",
              "      <td>1</td>\n",
              "      <td>1.578348e+06</td>\n",
              "      <td>237.930233</td>\n",
              "      <td>4.779070</td>\n",
              "    </tr>\n",
              "    <tr>\n",
              "      <th>2</th>\n",
              "      <td>2</td>\n",
              "      <td>9.151688e+05</td>\n",
              "      <td>11.505051</td>\n",
              "      <td>2.732323</td>\n",
              "    </tr>\n",
              "    <tr>\n",
              "      <th>3</th>\n",
              "      <td>3</td>\n",
              "      <td>6.299279e+05</td>\n",
              "      <td>197.791367</td>\n",
              "      <td>2.453237</td>\n",
              "    </tr>\n",
              "    <tr>\n",
              "      <th>4</th>\n",
              "      <td>4</td>\n",
              "      <td>2.746550e+06</td>\n",
              "      <td>235.846154</td>\n",
              "      <td>9.346154</td>\n",
              "    </tr>\n",
              "    <tr>\n",
              "      <th>5</th>\n",
              "      <td>5</td>\n",
              "      <td>5.312164e+05</td>\n",
              "      <td>2.640278</td>\n",
              "      <td>1.556944</td>\n",
              "    </tr>\n",
              "    <tr>\n",
              "      <th>6</th>\n",
              "      <td>6</td>\n",
              "      <td>9.131408e+05</td>\n",
              "      <td>394.890909</td>\n",
              "      <td>2.375758</td>\n",
              "    </tr>\n",
              "  </tbody>\n",
              "</table>\n",
              "</div>"
            ],
            "text/plain": [
              "  label      monetary     recency frequency\n",
              "                 mean        mean      mean\n",
              "0     0  1.986093e+05    0.181294  1.012361\n",
              "1     1  1.578348e+06  237.930233  4.779070\n",
              "2     2  9.151688e+05   11.505051  2.732323\n",
              "3     3  6.299279e+05  197.791367  2.453237\n",
              "4     4  2.746550e+06  235.846154  9.346154\n",
              "5     5  5.312164e+05    2.640278  1.556944\n",
              "6     6  9.131408e+05  394.890909  2.375758"
            ]
          },
          "execution_count": 41,
          "metadata": {},
          "output_type": "execute_result"
        }
      ],
      "source": [
        "df_rfm[['monetary', 'recency', 'frequency', 'label']].groupby(by='label').agg([\"mean\"]).reset_index()"
      ]
    },
    {
      "cell_type": "code",
      "execution_count": 42,
      "metadata": {},
      "outputs": [
        {
          "data": {
            "text/html": [
              "<div>\n",
              "<style scoped>\n",
              "    .dataframe tbody tr th:only-of-type {\n",
              "        vertical-align: middle;\n",
              "    }\n",
              "\n",
              "    .dataframe tbody tr th {\n",
              "        vertical-align: top;\n",
              "    }\n",
              "\n",
              "    .dataframe thead th {\n",
              "        text-align: right;\n",
              "    }\n",
              "</style>\n",
              "<table border=\"1\" class=\"dataframe\">\n",
              "  <thead>\n",
              "    <tr style=\"text-align: right;\">\n",
              "      <th></th>\n",
              "      <th>user_id</th>\n",
              "      <th>monetary</th>\n",
              "      <th>frequency</th>\n",
              "      <th>recency</th>\n",
              "      <th>label_x</th>\n",
              "      <th>label_y</th>\n",
              "    </tr>\n",
              "  </thead>\n",
              "  <tbody>\n",
              "    <tr>\n",
              "      <th>0</th>\n",
              "      <td>001b5eddf7</td>\n",
              "      <td>591500</td>\n",
              "      <td>2</td>\n",
              "      <td>0</td>\n",
              "      <td>5</td>\n",
              "      <td>5</td>\n",
              "    </tr>\n",
              "    <tr>\n",
              "      <th>1</th>\n",
              "      <td>0023cedbf9</td>\n",
              "      <td>7000</td>\n",
              "      <td>1</td>\n",
              "      <td>0</td>\n",
              "      <td>0</td>\n",
              "      <td>0</td>\n",
              "    </tr>\n",
              "    <tr>\n",
              "      <th>2</th>\n",
              "      <td>0024ae4898</td>\n",
              "      <td>436800</td>\n",
              "      <td>2</td>\n",
              "      <td>0</td>\n",
              "      <td>5</td>\n",
              "      <td>5</td>\n",
              "    </tr>\n",
              "    <tr>\n",
              "      <th>3</th>\n",
              "      <td>002d8b5849</td>\n",
              "      <td>204750</td>\n",
              "      <td>1</td>\n",
              "      <td>0</td>\n",
              "      <td>0</td>\n",
              "      <td>0</td>\n",
              "    </tr>\n",
              "    <tr>\n",
              "      <th>4</th>\n",
              "      <td>003e99a26e</td>\n",
              "      <td>145600</td>\n",
              "      <td>1</td>\n",
              "      <td>0</td>\n",
              "      <td>0</td>\n",
              "      <td>0</td>\n",
              "    </tr>\n",
              "  </tbody>\n",
              "</table>\n",
              "</div>"
            ],
            "text/plain": [
              "      user_id  monetary  frequency  recency  label_x  label_y\n",
              "0  001b5eddf7    591500          2        0        5        5\n",
              "1  0023cedbf9      7000          1        0        0        0\n",
              "2  0024ae4898    436800          2        0        5        5\n",
              "3  002d8b5849    204750          1        0        0        0\n",
              "4  003e99a26e    145600          1        0        0        0"
            ]
          },
          "execution_count": 42,
          "metadata": {},
          "output_type": "execute_result"
        }
      ],
      "source": [
        "df_rfm = df_rfm.merge(df_scaled[['user_id', 'label']], on='user_id')\n",
        "\n",
        "df_rfm.head()"
      ]
    },
    {
      "cell_type": "code",
      "execution_count": 43,
      "metadata": {},
      "outputs": [
        {
          "data": {
            "text/html": [
              "<div>\n",
              "<style scoped>\n",
              "    .dataframe tbody tr th:only-of-type {\n",
              "        vertical-align: middle;\n",
              "    }\n",
              "\n",
              "    .dataframe tbody tr th {\n",
              "        vertical-align: top;\n",
              "    }\n",
              "\n",
              "    .dataframe thead th {\n",
              "        text-align: right;\n",
              "    }\n",
              "</style>\n",
              "<table border=\"1\" class=\"dataframe\">\n",
              "  <thead>\n",
              "    <tr style=\"text-align: right;\">\n",
              "      <th></th>\n",
              "      <th>user_id</th>\n",
              "      <th>monetary</th>\n",
              "      <th>frequency</th>\n",
              "      <th>recency</th>\n",
              "      <th>label</th>\n",
              "      <th>label_y</th>\n",
              "    </tr>\n",
              "  </thead>\n",
              "  <tbody>\n",
              "    <tr>\n",
              "      <th>0</th>\n",
              "      <td>001b5eddf7</td>\n",
              "      <td>591500</td>\n",
              "      <td>2</td>\n",
              "      <td>0</td>\n",
              "      <td>5</td>\n",
              "      <td>5</td>\n",
              "    </tr>\n",
              "    <tr>\n",
              "      <th>1</th>\n",
              "      <td>0023cedbf9</td>\n",
              "      <td>7000</td>\n",
              "      <td>1</td>\n",
              "      <td>0</td>\n",
              "      <td>0</td>\n",
              "      <td>0</td>\n",
              "    </tr>\n",
              "    <tr>\n",
              "      <th>2</th>\n",
              "      <td>0024ae4898</td>\n",
              "      <td>436800</td>\n",
              "      <td>2</td>\n",
              "      <td>0</td>\n",
              "      <td>5</td>\n",
              "      <td>5</td>\n",
              "    </tr>\n",
              "    <tr>\n",
              "      <th>3</th>\n",
              "      <td>002d8b5849</td>\n",
              "      <td>204750</td>\n",
              "      <td>1</td>\n",
              "      <td>0</td>\n",
              "      <td>0</td>\n",
              "      <td>0</td>\n",
              "    </tr>\n",
              "    <tr>\n",
              "      <th>4</th>\n",
              "      <td>003e99a26e</td>\n",
              "      <td>145600</td>\n",
              "      <td>1</td>\n",
              "      <td>0</td>\n",
              "      <td>0</td>\n",
              "      <td>0</td>\n",
              "    </tr>\n",
              "  </tbody>\n",
              "</table>\n",
              "</div>"
            ],
            "text/plain": [
              "      user_id  monetary  frequency  recency  label  label_y\n",
              "0  001b5eddf7    591500          2        0      5        5\n",
              "1  0023cedbf9      7000          1        0      0        0\n",
              "2  0024ae4898    436800          2        0      5        5\n",
              "3  002d8b5849    204750          1        0      0        0\n",
              "4  003e99a26e    145600          1        0      0        0"
            ]
          },
          "execution_count": 43,
          "metadata": {},
          "output_type": "execute_result"
        }
      ],
      "source": [
        "df_rfm = df_rfm.rename(columns={'label_x': 'label'})\n",
        "\n",
        "df_rfm.head()"
      ]
    },
    {
      "cell_type": "code",
      "execution_count": 44,
      "metadata": {},
      "outputs": [
        {
          "data": {
            "text/html": [
              "<div>\n",
              "<style scoped>\n",
              "    .dataframe tbody tr th:only-of-type {\n",
              "        vertical-align: middle;\n",
              "    }\n",
              "\n",
              "    .dataframe tbody tr th {\n",
              "        vertical-align: top;\n",
              "    }\n",
              "\n",
              "    .dataframe thead th {\n",
              "        text-align: right;\n",
              "    }\n",
              "</style>\n",
              "<table border=\"1\" class=\"dataframe\">\n",
              "  <thead>\n",
              "    <tr style=\"text-align: right;\">\n",
              "      <th></th>\n",
              "      <th>user_id</th>\n",
              "      <th>monetary</th>\n",
              "      <th>frequency</th>\n",
              "      <th>recency</th>\n",
              "      <th>label</th>\n",
              "    </tr>\n",
              "  </thead>\n",
              "  <tbody>\n",
              "    <tr>\n",
              "      <th>0</th>\n",
              "      <td>001b5eddf7</td>\n",
              "      <td>591500</td>\n",
              "      <td>2</td>\n",
              "      <td>0</td>\n",
              "      <td>5</td>\n",
              "    </tr>\n",
              "    <tr>\n",
              "      <th>1</th>\n",
              "      <td>0023cedbf9</td>\n",
              "      <td>7000</td>\n",
              "      <td>1</td>\n",
              "      <td>0</td>\n",
              "      <td>0</td>\n",
              "    </tr>\n",
              "    <tr>\n",
              "      <th>2</th>\n",
              "      <td>0024ae4898</td>\n",
              "      <td>436800</td>\n",
              "      <td>2</td>\n",
              "      <td>0</td>\n",
              "      <td>5</td>\n",
              "    </tr>\n",
              "    <tr>\n",
              "      <th>3</th>\n",
              "      <td>002d8b5849</td>\n",
              "      <td>204750</td>\n",
              "      <td>1</td>\n",
              "      <td>0</td>\n",
              "      <td>0</td>\n",
              "    </tr>\n",
              "    <tr>\n",
              "      <th>4</th>\n",
              "      <td>003e99a26e</td>\n",
              "      <td>145600</td>\n",
              "      <td>1</td>\n",
              "      <td>0</td>\n",
              "      <td>0</td>\n",
              "    </tr>\n",
              "  </tbody>\n",
              "</table>\n",
              "</div>"
            ],
            "text/plain": [
              "      user_id  monetary  frequency  recency  label\n",
              "0  001b5eddf7    591500          2        0      5\n",
              "1  0023cedbf9      7000          1        0      0\n",
              "2  0024ae4898    436800          2        0      5\n",
              "3  002d8b5849    204750          1        0      0\n",
              "4  003e99a26e    145600          1        0      0"
            ]
          },
          "execution_count": 44,
          "metadata": {},
          "output_type": "execute_result"
        }
      ],
      "source": [
        "df_rfm = df_rfm.drop(columns=['label_y'])\n",
        "\n",
        "df_rfm.head()"
      ]
    },
    {
      "cell_type": "code",
      "execution_count": 45,
      "metadata": {},
      "outputs": [],
      "source": [
        "pd.set_option('float_format', '{:f}'.format)"
      ]
    },
    {
      "cell_type": "code",
      "execution_count": 46,
      "metadata": {},
      "outputs": [
        {
          "data": {
            "text/html": [
              "<div>\n",
              "<style scoped>\n",
              "    .dataframe tbody tr th:only-of-type {\n",
              "        vertical-align: middle;\n",
              "    }\n",
              "\n",
              "    .dataframe tbody tr th {\n",
              "        vertical-align: top;\n",
              "    }\n",
              "\n",
              "    .dataframe thead th {\n",
              "        text-align: right;\n",
              "    }\n",
              "</style>\n",
              "<table border=\"1\" class=\"dataframe\">\n",
              "  <thead>\n",
              "    <tr style=\"text-align: right;\">\n",
              "      <th></th>\n",
              "      <th>monetary</th>\n",
              "      <th>frequency</th>\n",
              "      <th>recency</th>\n",
              "    </tr>\n",
              "  </thead>\n",
              "  <tbody>\n",
              "    <tr>\n",
              "      <th>count</th>\n",
              "      <td>2427.000000</td>\n",
              "      <td>2427.000000</td>\n",
              "      <td>2427.000000</td>\n",
              "    </tr>\n",
              "    <tr>\n",
              "      <th>mean</th>\n",
              "      <td>198609.313968</td>\n",
              "      <td>1.012361</td>\n",
              "      <td>0.181294</td>\n",
              "    </tr>\n",
              "    <tr>\n",
              "      <th>std</th>\n",
              "      <td>123165.399154</td>\n",
              "      <td>0.110513</td>\n",
              "      <td>3.912703</td>\n",
              "    </tr>\n",
              "    <tr>\n",
              "      <th>min</th>\n",
              "      <td>2400.000000</td>\n",
              "      <td>1.000000</td>\n",
              "      <td>0.000000</td>\n",
              "    </tr>\n",
              "    <tr>\n",
              "      <th>25%</th>\n",
              "      <td>91000.000000</td>\n",
              "      <td>1.000000</td>\n",
              "      <td>0.000000</td>\n",
              "    </tr>\n",
              "    <tr>\n",
              "      <th>50%</th>\n",
              "      <td>184275.000000</td>\n",
              "      <td>1.000000</td>\n",
              "      <td>0.000000</td>\n",
              "    </tr>\n",
              "    <tr>\n",
              "      <th>75%</th>\n",
              "      <td>300000.000000</td>\n",
              "      <td>1.000000</td>\n",
              "      <td>0.000000</td>\n",
              "    </tr>\n",
              "    <tr>\n",
              "      <th>max</th>\n",
              "      <td>480000.000000</td>\n",
              "      <td>2.000000</td>\n",
              "      <td>138.000000</td>\n",
              "    </tr>\n",
              "  </tbody>\n",
              "</table>\n",
              "</div>"
            ],
            "text/plain": [
              "           monetary   frequency     recency\n",
              "count   2427.000000 2427.000000 2427.000000\n",
              "mean  198609.313968    1.012361    0.181294\n",
              "std   123165.399154    0.110513    3.912703\n",
              "min     2400.000000    1.000000    0.000000\n",
              "25%    91000.000000    1.000000    0.000000\n",
              "50%   184275.000000    1.000000    0.000000\n",
              "75%   300000.000000    1.000000    0.000000\n",
              "max   480000.000000    2.000000  138.000000"
            ]
          },
          "execution_count": 46,
          "metadata": {},
          "output_type": "execute_result"
        }
      ],
      "source": [
        "df_rfm[df_rfm['label'] == 0].describe()[['monetary', 'frequency', 'recency']]"
      ]
    },
    {
      "cell_type": "code",
      "execution_count": 47,
      "metadata": {},
      "outputs": [
        {
          "data": {
            "text/html": [
              "<div>\n",
              "<style scoped>\n",
              "    .dataframe tbody tr th:only-of-type {\n",
              "        vertical-align: middle;\n",
              "    }\n",
              "\n",
              "    .dataframe tbody tr th {\n",
              "        vertical-align: top;\n",
              "    }\n",
              "\n",
              "    .dataframe thead th {\n",
              "        text-align: right;\n",
              "    }\n",
              "</style>\n",
              "<table border=\"1\" class=\"dataframe\">\n",
              "  <thead>\n",
              "    <tr style=\"text-align: right;\">\n",
              "      <th></th>\n",
              "      <th>monetary</th>\n",
              "      <th>frequency</th>\n",
              "      <th>recency</th>\n",
              "    </tr>\n",
              "  </thead>\n",
              "  <tbody>\n",
              "    <tr>\n",
              "      <th>count</th>\n",
              "      <td>86.000000</td>\n",
              "      <td>86.000000</td>\n",
              "      <td>86.000000</td>\n",
              "    </tr>\n",
              "    <tr>\n",
              "      <th>mean</th>\n",
              "      <td>1578348.023256</td>\n",
              "      <td>4.779070</td>\n",
              "      <td>237.930233</td>\n",
              "    </tr>\n",
              "    <tr>\n",
              "      <th>std</th>\n",
              "      <td>521073.315258</td>\n",
              "      <td>1.331970</td>\n",
              "      <td>109.702248</td>\n",
              "    </tr>\n",
              "    <tr>\n",
              "      <th>min</th>\n",
              "      <td>93260.000000</td>\n",
              "      <td>2.000000</td>\n",
              "      <td>0.000000</td>\n",
              "    </tr>\n",
              "    <tr>\n",
              "      <th>25%</th>\n",
              "      <td>1283730.000000</td>\n",
              "      <td>4.000000</td>\n",
              "      <td>185.250000</td>\n",
              "    </tr>\n",
              "    <tr>\n",
              "      <th>50%</th>\n",
              "      <td>1536600.000000</td>\n",
              "      <td>4.000000</td>\n",
              "      <td>218.500000</td>\n",
              "    </tr>\n",
              "    <tr>\n",
              "      <th>75%</th>\n",
              "      <td>1909450.000000</td>\n",
              "      <td>5.000000</td>\n",
              "      <td>338.500000</td>\n",
              "    </tr>\n",
              "    <tr>\n",
              "      <th>max</th>\n",
              "      <td>3027200.000000</td>\n",
              "      <td>10.000000</td>\n",
              "      <td>471.000000</td>\n",
              "    </tr>\n",
              "  </tbody>\n",
              "</table>\n",
              "</div>"
            ],
            "text/plain": [
              "            monetary  frequency    recency\n",
              "count      86.000000  86.000000  86.000000\n",
              "mean  1578348.023256   4.779070 237.930233\n",
              "std    521073.315258   1.331970 109.702248\n",
              "min     93260.000000   2.000000   0.000000\n",
              "25%   1283730.000000   4.000000 185.250000\n",
              "50%   1536600.000000   4.000000 218.500000\n",
              "75%   1909450.000000   5.000000 338.500000\n",
              "max   3027200.000000  10.000000 471.000000"
            ]
          },
          "execution_count": 47,
          "metadata": {},
          "output_type": "execute_result"
        }
      ],
      "source": [
        "df_rfm[df_rfm['label'] == 1].describe()[['monetary', 'frequency', 'recency']]"
      ]
    },
    {
      "cell_type": "code",
      "execution_count": 48,
      "metadata": {},
      "outputs": [
        {
          "data": {
            "text/html": [
              "<div>\n",
              "<style scoped>\n",
              "    .dataframe tbody tr th:only-of-type {\n",
              "        vertical-align: middle;\n",
              "    }\n",
              "\n",
              "    .dataframe tbody tr th {\n",
              "        vertical-align: top;\n",
              "    }\n",
              "\n",
              "    .dataframe thead th {\n",
              "        text-align: right;\n",
              "    }\n",
              "</style>\n",
              "<table border=\"1\" class=\"dataframe\">\n",
              "  <thead>\n",
              "    <tr style=\"text-align: right;\">\n",
              "      <th></th>\n",
              "      <th>monetary</th>\n",
              "      <th>frequency</th>\n",
              "      <th>recency</th>\n",
              "    </tr>\n",
              "  </thead>\n",
              "  <tbody>\n",
              "    <tr>\n",
              "      <th>count</th>\n",
              "      <td>198.000000</td>\n",
              "      <td>198.000000</td>\n",
              "      <td>198.000000</td>\n",
              "    </tr>\n",
              "    <tr>\n",
              "      <th>mean</th>\n",
              "      <td>915168.787879</td>\n",
              "      <td>2.732323</td>\n",
              "      <td>11.505051</td>\n",
              "    </tr>\n",
              "    <tr>\n",
              "      <th>std</th>\n",
              "      <td>411148.539853</td>\n",
              "      <td>1.247969</td>\n",
              "      <td>28.916254</td>\n",
              "    </tr>\n",
              "    <tr>\n",
              "      <th>min</th>\n",
              "      <td>13440.000000</td>\n",
              "      <td>1.000000</td>\n",
              "      <td>0.000000</td>\n",
              "    </tr>\n",
              "    <tr>\n",
              "      <th>25%</th>\n",
              "      <td>712162.500000</td>\n",
              "      <td>2.000000</td>\n",
              "      <td>0.000000</td>\n",
              "    </tr>\n",
              "    <tr>\n",
              "      <th>50%</th>\n",
              "      <td>907000.000000</td>\n",
              "      <td>2.000000</td>\n",
              "      <td>0.000000</td>\n",
              "    </tr>\n",
              "    <tr>\n",
              "      <th>75%</th>\n",
              "      <td>1172450.000000</td>\n",
              "      <td>3.000000</td>\n",
              "      <td>0.000000</td>\n",
              "    </tr>\n",
              "    <tr>\n",
              "      <th>max</th>\n",
              "      <td>2040000.000000</td>\n",
              "      <td>8.000000</td>\n",
              "      <td>135.000000</td>\n",
              "    </tr>\n",
              "  </tbody>\n",
              "</table>\n",
              "</div>"
            ],
            "text/plain": [
              "            monetary  frequency    recency\n",
              "count     198.000000 198.000000 198.000000\n",
              "mean   915168.787879   2.732323  11.505051\n",
              "std    411148.539853   1.247969  28.916254\n",
              "min     13440.000000   1.000000   0.000000\n",
              "25%    712162.500000   2.000000   0.000000\n",
              "50%    907000.000000   2.000000   0.000000\n",
              "75%   1172450.000000   3.000000   0.000000\n",
              "max   2040000.000000   8.000000 135.000000"
            ]
          },
          "execution_count": 48,
          "metadata": {},
          "output_type": "execute_result"
        }
      ],
      "source": [
        "df_rfm[df_rfm['label'] == 2].describe()[['monetary', 'frequency', 'recency']]"
      ]
    },
    {
      "cell_type": "code",
      "execution_count": 49,
      "metadata": {},
      "outputs": [
        {
          "data": {
            "text/html": [
              "<div>\n",
              "<style scoped>\n",
              "    .dataframe tbody tr th:only-of-type {\n",
              "        vertical-align: middle;\n",
              "    }\n",
              "\n",
              "    .dataframe tbody tr th {\n",
              "        vertical-align: top;\n",
              "    }\n",
              "\n",
              "    .dataframe thead th {\n",
              "        text-align: right;\n",
              "    }\n",
              "</style>\n",
              "<table border=\"1\" class=\"dataframe\">\n",
              "  <thead>\n",
              "    <tr style=\"text-align: right;\">\n",
              "      <th></th>\n",
              "      <th>monetary</th>\n",
              "      <th>frequency</th>\n",
              "      <th>recency</th>\n",
              "    </tr>\n",
              "  </thead>\n",
              "  <tbody>\n",
              "    <tr>\n",
              "      <th>count</th>\n",
              "      <td>278.000000</td>\n",
              "      <td>278.000000</td>\n",
              "      <td>278.000000</td>\n",
              "    </tr>\n",
              "    <tr>\n",
              "      <th>mean</th>\n",
              "      <td>629927.859712</td>\n",
              "      <td>2.453237</td>\n",
              "      <td>197.791367</td>\n",
              "    </tr>\n",
              "    <tr>\n",
              "      <th>std</th>\n",
              "      <td>284763.504162</td>\n",
              "      <td>0.626987</td>\n",
              "      <td>36.045494</td>\n",
              "    </tr>\n",
              "    <tr>\n",
              "      <th>min</th>\n",
              "      <td>20000.000000</td>\n",
              "      <td>2.000000</td>\n",
              "      <td>106.000000</td>\n",
              "    </tr>\n",
              "    <tr>\n",
              "      <th>25%</th>\n",
              "      <td>422256.250000</td>\n",
              "      <td>2.000000</td>\n",
              "      <td>177.250000</td>\n",
              "    </tr>\n",
              "    <tr>\n",
              "      <th>50%</th>\n",
              "      <td>600600.000000</td>\n",
              "      <td>2.000000</td>\n",
              "      <td>195.000000</td>\n",
              "    </tr>\n",
              "    <tr>\n",
              "      <th>75%</th>\n",
              "      <td>788600.000000</td>\n",
              "      <td>3.000000</td>\n",
              "      <td>211.000000</td>\n",
              "    </tr>\n",
              "    <tr>\n",
              "      <th>max</th>\n",
              "      <td>1560000.000000</td>\n",
              "      <td>5.000000</td>\n",
              "      <td>308.000000</td>\n",
              "    </tr>\n",
              "  </tbody>\n",
              "</table>\n",
              "</div>"
            ],
            "text/plain": [
              "            monetary  frequency    recency\n",
              "count     278.000000 278.000000 278.000000\n",
              "mean   629927.859712   2.453237 197.791367\n",
              "std    284763.504162   0.626987  36.045494\n",
              "min     20000.000000   2.000000 106.000000\n",
              "25%    422256.250000   2.000000 177.250000\n",
              "50%    600600.000000   2.000000 195.000000\n",
              "75%    788600.000000   3.000000 211.000000\n",
              "max   1560000.000000   5.000000 308.000000"
            ]
          },
          "execution_count": 49,
          "metadata": {},
          "output_type": "execute_result"
        }
      ],
      "source": [
        "df_rfm[df_rfm['label'] == 3].describe()[['monetary', 'frequency', 'recency']]"
      ]
    },
    {
      "cell_type": "code",
      "execution_count": 50,
      "metadata": {},
      "outputs": [
        {
          "data": {
            "text/html": [
              "<div>\n",
              "<style scoped>\n",
              "    .dataframe tbody tr th:only-of-type {\n",
              "        vertical-align: middle;\n",
              "    }\n",
              "\n",
              "    .dataframe tbody tr th {\n",
              "        vertical-align: top;\n",
              "    }\n",
              "\n",
              "    .dataframe thead th {\n",
              "        text-align: right;\n",
              "    }\n",
              "</style>\n",
              "<table border=\"1\" class=\"dataframe\">\n",
              "  <thead>\n",
              "    <tr style=\"text-align: right;\">\n",
              "      <th></th>\n",
              "      <th>monetary</th>\n",
              "      <th>frequency</th>\n",
              "      <th>recency</th>\n",
              "    </tr>\n",
              "  </thead>\n",
              "  <tbody>\n",
              "    <tr>\n",
              "      <th>count</th>\n",
              "      <td>26.000000</td>\n",
              "      <td>26.000000</td>\n",
              "      <td>26.000000</td>\n",
              "    </tr>\n",
              "    <tr>\n",
              "      <th>mean</th>\n",
              "      <td>2746550.384615</td>\n",
              "      <td>9.346154</td>\n",
              "      <td>235.846154</td>\n",
              "    </tr>\n",
              "    <tr>\n",
              "      <th>std</th>\n",
              "      <td>1527222.415956</td>\n",
              "      <td>3.825622</td>\n",
              "      <td>128.078005</td>\n",
              "    </tr>\n",
              "    <tr>\n",
              "      <th>min</th>\n",
              "      <td>104920.000000</td>\n",
              "      <td>5.000000</td>\n",
              "      <td>0.000000</td>\n",
              "    </tr>\n",
              "    <tr>\n",
              "      <th>25%</th>\n",
              "      <td>2203450.000000</td>\n",
              "      <td>6.250000</td>\n",
              "      <td>194.250000</td>\n",
              "    </tr>\n",
              "    <tr>\n",
              "      <th>50%</th>\n",
              "      <td>2716650.000000</td>\n",
              "      <td>8.000000</td>\n",
              "      <td>235.500000</td>\n",
              "    </tr>\n",
              "    <tr>\n",
              "      <th>75%</th>\n",
              "      <td>3338330.000000</td>\n",
              "      <td>12.000000</td>\n",
              "      <td>329.000000</td>\n",
              "    </tr>\n",
              "    <tr>\n",
              "      <th>max</th>\n",
              "      <td>6194800.000000</td>\n",
              "      <td>21.000000</td>\n",
              "      <td>509.000000</td>\n",
              "    </tr>\n",
              "  </tbody>\n",
              "</table>\n",
              "</div>"
            ],
            "text/plain": [
              "            monetary  frequency    recency\n",
              "count      26.000000  26.000000  26.000000\n",
              "mean  2746550.384615   9.346154 235.846154\n",
              "std   1527222.415956   3.825622 128.078005\n",
              "min    104920.000000   5.000000   0.000000\n",
              "25%   2203450.000000   6.250000 194.250000\n",
              "50%   2716650.000000   8.000000 235.500000\n",
              "75%   3338330.000000  12.000000 329.000000\n",
              "max   6194800.000000  21.000000 509.000000"
            ]
          },
          "execution_count": 50,
          "metadata": {},
          "output_type": "execute_result"
        }
      ],
      "source": [
        "df_rfm[df_rfm['label'] == 4].describe()[['monetary', 'frequency', 'recency']]"
      ]
    },
    {
      "cell_type": "code",
      "execution_count": 51,
      "metadata": {},
      "outputs": [
        {
          "data": {
            "text/html": [
              "<div>\n",
              "<style scoped>\n",
              "    .dataframe tbody tr th:only-of-type {\n",
              "        vertical-align: middle;\n",
              "    }\n",
              "\n",
              "    .dataframe tbody tr th {\n",
              "        vertical-align: top;\n",
              "    }\n",
              "\n",
              "    .dataframe thead th {\n",
              "        text-align: right;\n",
              "    }\n",
              "</style>\n",
              "<table border=\"1\" class=\"dataframe\">\n",
              "  <thead>\n",
              "    <tr style=\"text-align: right;\">\n",
              "      <th></th>\n",
              "      <th>monetary</th>\n",
              "      <th>frequency</th>\n",
              "      <th>recency</th>\n",
              "    </tr>\n",
              "  </thead>\n",
              "  <tbody>\n",
              "    <tr>\n",
              "      <th>count</th>\n",
              "      <td>720.000000</td>\n",
              "      <td>720.000000</td>\n",
              "      <td>720.000000</td>\n",
              "    </tr>\n",
              "    <tr>\n",
              "      <th>mean</th>\n",
              "      <td>531216.444444</td>\n",
              "      <td>1.556944</td>\n",
              "      <td>2.640278</td>\n",
              "    </tr>\n",
              "    <tr>\n",
              "      <th>std</th>\n",
              "      <td>183309.861718</td>\n",
              "      <td>0.537425</td>\n",
              "      <td>13.385055</td>\n",
              "    </tr>\n",
              "    <tr>\n",
              "      <th>min</th>\n",
              "      <td>10080.000000</td>\n",
              "      <td>1.000000</td>\n",
              "      <td>0.000000</td>\n",
              "    </tr>\n",
              "    <tr>\n",
              "      <th>25%</th>\n",
              "      <td>409500.000000</td>\n",
              "      <td>1.000000</td>\n",
              "      <td>0.000000</td>\n",
              "    </tr>\n",
              "    <tr>\n",
              "      <th>50%</th>\n",
              "      <td>576000.000000</td>\n",
              "      <td>2.000000</td>\n",
              "      <td>0.000000</td>\n",
              "    </tr>\n",
              "    <tr>\n",
              "      <th>75%</th>\n",
              "      <td>648000.000000</td>\n",
              "      <td>2.000000</td>\n",
              "      <td>0.000000</td>\n",
              "    </tr>\n",
              "    <tr>\n",
              "      <th>max</th>\n",
              "      <td>1166400.000000</td>\n",
              "      <td>3.000000</td>\n",
              "      <td>121.000000</td>\n",
              "    </tr>\n",
              "  </tbody>\n",
              "</table>\n",
              "</div>"
            ],
            "text/plain": [
              "            monetary  frequency    recency\n",
              "count     720.000000 720.000000 720.000000\n",
              "mean   531216.444444   1.556944   2.640278\n",
              "std    183309.861718   0.537425  13.385055\n",
              "min     10080.000000   1.000000   0.000000\n",
              "25%    409500.000000   1.000000   0.000000\n",
              "50%    576000.000000   2.000000   0.000000\n",
              "75%    648000.000000   2.000000   0.000000\n",
              "max   1166400.000000   3.000000 121.000000"
            ]
          },
          "execution_count": 51,
          "metadata": {},
          "output_type": "execute_result"
        }
      ],
      "source": [
        "df_rfm[df_rfm['label'] == 5].describe()[['monetary', 'frequency', 'recency']]"
      ]
    },
    {
      "cell_type": "code",
      "execution_count": 52,
      "metadata": {},
      "outputs": [
        {
          "data": {
            "text/plain": [
              "<Axes: xlabel='variable', ylabel='value'>"
            ]
          },
          "execution_count": 52,
          "metadata": {},
          "output_type": "execute_result"
        },
        {
          "data": {
            "image/png": "[encoded data removed]",
            "text/plain": [
              "<Figure size 640x480 with 1 Axes>"
            ]
          },
          "metadata": {},
          "output_type": "display_data"
        }
      ],
      "source": [
        "df_melt_new = df_rfm[['monetary', 'recency', 'frequency', 'label']].groupby(by='label').agg(\"mean\").reset_index()\n",
        "\n",
        "df_melt_new = df_melt_new.melt(id_vars=['label'], value_vars=['recency', 'frequency', 'monetary', 'label'])\n",
        "\n",
        "sns.lineplot(df_melt_new, x='variable', y='value', hue='label', palette='bright', markers='o', style=True)"
      ]
    }
  ],
  "metadata": {
    "colab": {
      "provenance": []
    },
    "kernelspec": {
      "display_name": "Python 3",
      "name": "python3"
    },
    "language_info": {
      "codemirror_mode": {
        "name": "ipython",
        "version": 3
      },
      "file_extension": ".py",
      "mimetype": "text/x-python",
      "name": "python",
      "nbconvert_exporter": "python",
      "pygments_lexer": "ipython3",
      "version": "3.11.5"
    }
  },
  "nbformat": 4,
  "nbformat_minor": 0
}
