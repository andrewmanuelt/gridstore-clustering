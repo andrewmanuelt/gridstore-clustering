{
  "cells": [
    {
      "cell_type": "code",
      "execution_count": 1,
      "metadata": {
        "colab": {
          "base_uri": "https://localhost:8080/"
        },
        "id": "zy1lQ-rsr0DM",
        "outputId": "da0ac65a-da94-4a89-993d-9c7c070788dd"
      },
      "outputs": [],
      "source": [
        "# from google.colab import drive\n",
        "\n",
        "# drive.mount('/content/drive', force_remount=True)"
      ]
    },
    {
      "cell_type": "code",
      "execution_count": 2,
      "metadata": {
        "colab": {
          "base_uri": "https://localhost:8080/"
        },
        "id": "ZaUeCKkEsaWr",
        "outputId": "b01a9f3c-d777-4f43-fb91-e0fda66f80bb"
      },
      "outputs": [],
      "source": [
        "# !pwd"
      ]
    },
    {
      "cell_type": "code",
      "execution_count": 3,
      "metadata": {
        "id": "6gZrWmc_s4aQ"
      },
      "outputs": [],
      "source": [
        "# https://www.kaggle.com/code/hellbuoy/online-retail-k-means-hierarchical-clustering/notebook#Business-Goal\n",
        "\n",
        "import pandas as pd\n",
        "import numpy as np\n",
        "\n",
        "import matplotlib.pyplot as plt\n",
        "import seaborn as sns\n",
        "\n",
        "from sklearn.preprocessing import StandardScaler\n",
        "from sklearn.decomposition import PCA\n",
        "from sklearn.metrics import silhouette_score\n",
        "\n",
        "sns.set()\n",
        "\n",
        "from sklearn.cluster import KMeans"
      ]
    },
    {
      "cell_type": "code",
      "execution_count": 4,
      "metadata": {
        "colab": {
          "base_uri": "https://localhost:8080/",
          "height": 206
        },
        "id": "nJgsNOcCtEFG",
        "outputId": "516c6db7-4435-44c2-9870-5a68de3425e0"
      },
      "outputs": [
        {
          "data": {
            "text/html": [
              "<div>\n",
              "<style scoped>\n",
              "    .dataframe tbody tr th:only-of-type {\n",
              "        vertical-align: middle;\n",
              "    }\n",
              "\n",
              "    .dataframe tbody tr th {\n",
              "        vertical-align: top;\n",
              "    }\n",
              "\n",
              "    .dataframe thead th {\n",
              "        text-align: right;\n",
              "    }\n",
              "</style>\n",
              "<table border=\"1\" class=\"dataframe\">\n",
              "  <thead>\n",
              "    <tr style=\"text-align: right;\">\n",
              "      <th></th>\n",
              "      <th>Unnamed: 0</th>\n",
              "      <th>trans_date</th>\n",
              "      <th>acc_created_date</th>\n",
              "      <th>trans_id</th>\n",
              "      <th>user_id</th>\n",
              "      <th>brand</th>\n",
              "      <th>product_name</th>\n",
              "      <th>quantity</th>\n",
              "      <th>sub_total</th>\n",
              "    </tr>\n",
              "  </thead>\n",
              "  <tbody>\n",
              "    <tr>\n",
              "      <th>0</th>\n",
              "      <td>0</td>\n",
              "      <td>2021-03-01 09:42:48</td>\n",
              "      <td>2021-03-01 09:39:28</td>\n",
              "      <td>INV-44477208-20195</td>\n",
              "      <td>6ae66dba4a</td>\n",
              "      <td>Geo Magazine</td>\n",
              "      <td>Geo Magazine 12 Month Printed Subscription</td>\n",
              "      <td>1</td>\n",
              "      <td>576000</td>\n",
              "    </tr>\n",
              "    <tr>\n",
              "      <th>1</th>\n",
              "      <td>1</td>\n",
              "      <td>2021-03-01 09:42:48</td>\n",
              "      <td>2021-03-01 09:39:28</td>\n",
              "      <td>INV-84260125-20195</td>\n",
              "      <td>6ae66dba4a</td>\n",
              "      <td>Insight Magazine</td>\n",
              "      <td>Insight Magazine 6 Month Printed Subscription</td>\n",
              "      <td>1</td>\n",
              "      <td>120000</td>\n",
              "    </tr>\n",
              "    <tr>\n",
              "      <th>2</th>\n",
              "      <td>2</td>\n",
              "      <td>2021-03-01 10:05:18</td>\n",
              "      <td>2021-03-01 05:10:49</td>\n",
              "      <td>INV-21702404-20196</td>\n",
              "      <td>fecd37e3fa</td>\n",
              "      <td>Kids Creativity Magazine</td>\n",
              "      <td>Kids Creativity Magazine 6 Month Printed Subsc...</td>\n",
              "      <td>1</td>\n",
              "      <td>145600</td>\n",
              "    </tr>\n",
              "    <tr>\n",
              "      <th>3</th>\n",
              "      <td>3</td>\n",
              "      <td>2021-03-01 15:58:35</td>\n",
              "      <td>2021-02-25 18:38:31</td>\n",
              "      <td>INV-46817248-20197</td>\n",
              "      <td>702981082e</td>\n",
              "      <td>Kids Magazine</td>\n",
              "      <td>Kids Magazine 6 Month Printed Subscription</td>\n",
              "      <td>1</td>\n",
              "      <td>291200</td>\n",
              "    </tr>\n",
              "    <tr>\n",
              "      <th>4</th>\n",
              "      <td>4</td>\n",
              "      <td>2021-03-01 16:19:54</td>\n",
              "      <td>2021-03-01 16:16:50</td>\n",
              "      <td>INV-47598177-20198</td>\n",
              "      <td>d1fbab7576</td>\n",
              "      <td>Kindergarten Magazine</td>\n",
              "      <td>Kindergarten Magazine 6 Month Printed Subscrip...</td>\n",
              "      <td>1</td>\n",
              "      <td>182000</td>\n",
              "    </tr>\n",
              "  </tbody>\n",
              "</table>\n",
              "</div>"
            ],
            "text/plain": [
              "   Unnamed: 0           trans_date     acc_created_date            trans_id  \\\n",
              "0           0  2021-03-01 09:42:48  2021-03-01 09:39:28  INV-44477208-20195   \n",
              "1           1  2021-03-01 09:42:48  2021-03-01 09:39:28  INV-84260125-20195   \n",
              "2           2  2021-03-01 10:05:18  2021-03-01 05:10:49  INV-21702404-20196   \n",
              "3           3  2021-03-01 15:58:35  2021-02-25 18:38:31  INV-46817248-20197   \n",
              "4           4  2021-03-01 16:19:54  2021-03-01 16:16:50  INV-47598177-20198   \n",
              "\n",
              "      user_id                     brand  \\\n",
              "0  6ae66dba4a              Geo Magazine   \n",
              "1  6ae66dba4a          Insight Magazine   \n",
              "2  fecd37e3fa  Kids Creativity Magazine   \n",
              "3  702981082e             Kids Magazine   \n",
              "4  d1fbab7576     Kindergarten Magazine   \n",
              "\n",
              "                                        product_name  quantity  sub_total  \n",
              "0         Geo Magazine 12 Month Printed Subscription         1     576000  \n",
              "1      Insight Magazine 6 Month Printed Subscription         1     120000  \n",
              "2  Kids Creativity Magazine 6 Month Printed Subsc...         1     145600  \n",
              "3         Kids Magazine 6 Month Printed Subscription         1     291200  \n",
              "4  Kindergarten Magazine 6 Month Printed Subscrip...         1     182000  "
            ]
          },
          "execution_count": 4,
          "metadata": {},
          "output_type": "execute_result"
        }
      ],
      "source": [
        "# Google Colab \n",
        "# df = pd.read_csv('drive/My Drive/Dataset/Gridstore/gridstore_clean.csv')\n",
        "\n",
        "# Local\n",
        "df = pd.read_csv('./gridstore_clean.csv')\n",
        "\n",
        "df.head()"
      ]
    },
    {
      "cell_type": "code",
      "execution_count": 5,
      "metadata": {
        "colab": {
          "base_uri": "https://localhost:8080/",
          "height": 300
        },
        "id": "gWjHPnL0tcxq",
        "outputId": "f17b1092-5892-4f99-fe59-911be77d21e7"
      },
      "outputs": [
        {
          "data": {
            "text/html": [
              "<div>\n",
              "<style scoped>\n",
              "    .dataframe tbody tr th:only-of-type {\n",
              "        vertical-align: middle;\n",
              "    }\n",
              "\n",
              "    .dataframe tbody tr th {\n",
              "        vertical-align: top;\n",
              "    }\n",
              "\n",
              "    .dataframe thead th {\n",
              "        text-align: right;\n",
              "    }\n",
              "</style>\n",
              "<table border=\"1\" class=\"dataframe\">\n",
              "  <thead>\n",
              "    <tr style=\"text-align: right;\">\n",
              "      <th></th>\n",
              "      <th>Unnamed: 0</th>\n",
              "      <th>quantity</th>\n",
              "      <th>sub_total</th>\n",
              "    </tr>\n",
              "  </thead>\n",
              "  <tbody>\n",
              "    <tr>\n",
              "      <th>count</th>\n",
              "      <td>5847.000000</td>\n",
              "      <td>5847.000000</td>\n",
              "      <td>5.847000e+03</td>\n",
              "    </tr>\n",
              "    <tr>\n",
              "      <th>mean</th>\n",
              "      <td>2923.000000</td>\n",
              "      <td>1.005986</td>\n",
              "      <td>2.699915e+05</td>\n",
              "    </tr>\n",
              "    <tr>\n",
              "      <th>std</th>\n",
              "      <td>1688.027843</td>\n",
              "      <td>0.110042</td>\n",
              "      <td>2.082586e+05</td>\n",
              "    </tr>\n",
              "    <tr>\n",
              "      <th>min</th>\n",
              "      <td>0.000000</td>\n",
              "      <td>1.000000</td>\n",
              "      <td>2.400000e+03</td>\n",
              "    </tr>\n",
              "    <tr>\n",
              "      <th>25%</th>\n",
              "      <td>1461.500000</td>\n",
              "      <td>1.000000</td>\n",
              "      <td>1.456000e+05</td>\n",
              "    </tr>\n",
              "    <tr>\n",
              "      <th>50%</th>\n",
              "      <td>2923.000000</td>\n",
              "      <td>1.000000</td>\n",
              "      <td>2.275000e+05</td>\n",
              "    </tr>\n",
              "    <tr>\n",
              "      <th>75%</th>\n",
              "      <td>4384.500000</td>\n",
              "      <td>1.000000</td>\n",
              "      <td>3.640000e+05</td>\n",
              "    </tr>\n",
              "    <tr>\n",
              "      <th>max</th>\n",
              "      <td>5846.000000</td>\n",
              "      <td>5.000000</td>\n",
              "      <td>1.768000e+06</td>\n",
              "    </tr>\n",
              "  </tbody>\n",
              "</table>\n",
              "</div>"
            ],
            "text/plain": [
              "        Unnamed: 0     quantity     sub_total\n",
              "count  5847.000000  5847.000000  5.847000e+03\n",
              "mean   2923.000000     1.005986  2.699915e+05\n",
              "std    1688.027843     0.110042  2.082586e+05\n",
              "min       0.000000     1.000000  2.400000e+03\n",
              "25%    1461.500000     1.000000  1.456000e+05\n",
              "50%    2923.000000     1.000000  2.275000e+05\n",
              "75%    4384.500000     1.000000  3.640000e+05\n",
              "max    5846.000000     5.000000  1.768000e+06"
            ]
          },
          "execution_count": 5,
          "metadata": {},
          "output_type": "execute_result"
        }
      ],
      "source": [
        "df.describe()"
      ]
    },
    {
      "cell_type": "code",
      "execution_count": 6,
      "metadata": {
        "colab": {
          "base_uri": "https://localhost:8080/"
        },
        "id": "aIhqa3pI98dH",
        "outputId": "23763cd6-4f1d-4fbe-edd8-289962cc4c03"
      },
      "outputs": [
        {
          "data": {
            "text/plain": [
              "(5847, 9)"
            ]
          },
          "execution_count": 6,
          "metadata": {},
          "output_type": "execute_result"
        }
      ],
      "source": [
        "df.shape"
      ]
    },
    {
      "cell_type": "code",
      "execution_count": 7,
      "metadata": {
        "colab": {
          "base_uri": "https://localhost:8080/"
        },
        "id": "sQIO4i4q-Vq9",
        "outputId": "038f3cc8-2390-47c1-9f9e-7d4b267afad8"
      },
      "outputs": [
        {
          "data": {
            "text/plain": [
              "False    5847\n",
              "Name: count, dtype: int64"
            ]
          },
          "execution_count": 7,
          "metadata": {},
          "output_type": "execute_result"
        }
      ],
      "source": [
        "df.duplicated().value_counts()"
      ]
    },
    {
      "cell_type": "code",
      "execution_count": 8,
      "metadata": {
        "colab": {
          "base_uri": "https://localhost:8080/"
        },
        "id": "Zd3WUO_5-aXv",
        "outputId": "c6beeb10-5909-4a92-b140-aac7870a160c"
      },
      "outputs": [
        {
          "data": {
            "text/plain": [
              "Unnamed: 0          0\n",
              "trans_date          0\n",
              "acc_created_date    0\n",
              "trans_id            0\n",
              "user_id             0\n",
              "brand               0\n",
              "product_name        0\n",
              "quantity            0\n",
              "sub_total           0\n",
              "dtype: int64"
            ]
          },
          "execution_count": 8,
          "metadata": {},
          "output_type": "execute_result"
        }
      ],
      "source": [
        "df.isnull().sum()"
      ]
    },
    {
      "cell_type": "code",
      "execution_count": 9,
      "metadata": {
        "colab": {
          "base_uri": "https://localhost:8080/",
          "height": 206
        },
        "id": "9r1hyRZVEgzM",
        "outputId": "d05c9bc8-4726-4167-ac3b-b1711b60dd79"
      },
      "outputs": [
        {
          "data": {
            "text/html": [
              "<div>\n",
              "<style scoped>\n",
              "    .dataframe tbody tr th:only-of-type {\n",
              "        vertical-align: middle;\n",
              "    }\n",
              "\n",
              "    .dataframe tbody tr th {\n",
              "        vertical-align: top;\n",
              "    }\n",
              "\n",
              "    .dataframe thead th {\n",
              "        text-align: right;\n",
              "    }\n",
              "</style>\n",
              "<table border=\"1\" class=\"dataframe\">\n",
              "  <thead>\n",
              "    <tr style=\"text-align: right;\">\n",
              "      <th></th>\n",
              "      <th>trans_date</th>\n",
              "      <th>acc_created_date</th>\n",
              "      <th>trans_id</th>\n",
              "      <th>user_id</th>\n",
              "      <th>brand</th>\n",
              "      <th>product_name</th>\n",
              "      <th>quantity</th>\n",
              "      <th>sub_total</th>\n",
              "    </tr>\n",
              "  </thead>\n",
              "  <tbody>\n",
              "    <tr>\n",
              "      <th>0</th>\n",
              "      <td>2021-03-01 09:42:48</td>\n",
              "      <td>2021-03-01 09:39:28</td>\n",
              "      <td>INV-44477208-20195</td>\n",
              "      <td>6ae66dba4a</td>\n",
              "      <td>Geo Magazine</td>\n",
              "      <td>Geo Magazine 12 Month Printed Subscription</td>\n",
              "      <td>1</td>\n",
              "      <td>576000</td>\n",
              "    </tr>\n",
              "    <tr>\n",
              "      <th>1</th>\n",
              "      <td>2021-03-01 09:42:48</td>\n",
              "      <td>2021-03-01 09:39:28</td>\n",
              "      <td>INV-84260125-20195</td>\n",
              "      <td>6ae66dba4a</td>\n",
              "      <td>Insight Magazine</td>\n",
              "      <td>Insight Magazine 6 Month Printed Subscription</td>\n",
              "      <td>1</td>\n",
              "      <td>120000</td>\n",
              "    </tr>\n",
              "    <tr>\n",
              "      <th>2</th>\n",
              "      <td>2021-03-01 10:05:18</td>\n",
              "      <td>2021-03-01 05:10:49</td>\n",
              "      <td>INV-21702404-20196</td>\n",
              "      <td>fecd37e3fa</td>\n",
              "      <td>Kids Creativity Magazine</td>\n",
              "      <td>Kids Creativity Magazine 6 Month Printed Subsc...</td>\n",
              "      <td>1</td>\n",
              "      <td>145600</td>\n",
              "    </tr>\n",
              "    <tr>\n",
              "      <th>3</th>\n",
              "      <td>2021-03-01 15:58:35</td>\n",
              "      <td>2021-02-25 18:38:31</td>\n",
              "      <td>INV-46817248-20197</td>\n",
              "      <td>702981082e</td>\n",
              "      <td>Kids Magazine</td>\n",
              "      <td>Kids Magazine 6 Month Printed Subscription</td>\n",
              "      <td>1</td>\n",
              "      <td>291200</td>\n",
              "    </tr>\n",
              "    <tr>\n",
              "      <th>4</th>\n",
              "      <td>2021-03-01 16:19:54</td>\n",
              "      <td>2021-03-01 16:16:50</td>\n",
              "      <td>INV-47598177-20198</td>\n",
              "      <td>d1fbab7576</td>\n",
              "      <td>Kindergarten Magazine</td>\n",
              "      <td>Kindergarten Magazine 6 Month Printed Subscrip...</td>\n",
              "      <td>1</td>\n",
              "      <td>182000</td>\n",
              "    </tr>\n",
              "  </tbody>\n",
              "</table>\n",
              "</div>"
            ],
            "text/plain": [
              "            trans_date     acc_created_date            trans_id     user_id  \\\n",
              "0  2021-03-01 09:42:48  2021-03-01 09:39:28  INV-44477208-20195  6ae66dba4a   \n",
              "1  2021-03-01 09:42:48  2021-03-01 09:39:28  INV-84260125-20195  6ae66dba4a   \n",
              "2  2021-03-01 10:05:18  2021-03-01 05:10:49  INV-21702404-20196  fecd37e3fa   \n",
              "3  2021-03-01 15:58:35  2021-02-25 18:38:31  INV-46817248-20197  702981082e   \n",
              "4  2021-03-01 16:19:54  2021-03-01 16:16:50  INV-47598177-20198  d1fbab7576   \n",
              "\n",
              "                      brand  \\\n",
              "0              Geo Magazine   \n",
              "1          Insight Magazine   \n",
              "2  Kids Creativity Magazine   \n",
              "3             Kids Magazine   \n",
              "4     Kindergarten Magazine   \n",
              "\n",
              "                                        product_name  quantity  sub_total  \n",
              "0         Geo Magazine 12 Month Printed Subscription         1     576000  \n",
              "1      Insight Magazine 6 Month Printed Subscription         1     120000  \n",
              "2  Kids Creativity Magazine 6 Month Printed Subsc...         1     145600  \n",
              "3         Kids Magazine 6 Month Printed Subscription         1     291200  \n",
              "4  Kindergarten Magazine 6 Month Printed Subscrip...         1     182000  "
            ]
          },
          "execution_count": 9,
          "metadata": {},
          "output_type": "execute_result"
        }
      ],
      "source": [
        "df_rfm = df.copy()\n",
        "\n",
        "df_rfm.drop(columns=['Unnamed: 0'], inplace=True)\n",
        "\n",
        "df_rfm.head()"
      ]
    },
    {
      "cell_type": "code",
      "execution_count": 10,
      "metadata": {
        "colab": {
          "base_uri": "https://localhost:8080/"
        },
        "id": "o7cgNqR7E6Cy",
        "outputId": "0aab62dc-647e-4cd2-b589-dad41f69d609"
      },
      "outputs": [
        {
          "data": {
            "text/plain": [
              "trans_date          object\n",
              "acc_created_date    object\n",
              "trans_id            object\n",
              "user_id             object\n",
              "brand               object\n",
              "product_name        object\n",
              "quantity             int64\n",
              "sub_total            int64\n",
              "dtype: object"
            ]
          },
          "execution_count": 10,
          "metadata": {},
          "output_type": "execute_result"
        }
      ],
      "source": [
        "df_rfm.dtypes"
      ]
    },
    {
      "cell_type": "code",
      "execution_count": 11,
      "metadata": {
        "colab": {
          "base_uri": "https://localhost:8080/"
        },
        "id": "6V0tIL1gFOrt",
        "outputId": "64bf2487-d3b0-4d4b-b691-91b6dc1d27df"
      },
      "outputs": [
        {
          "data": {
            "text/plain": [
              "trans_date          datetime64[ns]\n",
              "acc_created_date    datetime64[ns]\n",
              "trans_id                    object\n",
              "user_id                     object\n",
              "brand                       object\n",
              "product_name                object\n",
              "quantity                     int64\n",
              "sub_total                    int64\n",
              "dtype: object"
            ]
          },
          "execution_count": 11,
          "metadata": {},
          "output_type": "execute_result"
        }
      ],
      "source": [
        "df_rfm['trans_date'] = pd.to_datetime(df_rfm['trans_date'])\n",
        "df_rfm['acc_created_date'] = pd.to_datetime(df_rfm['acc_created_date'])\n",
        "\n",
        "df_rfm.dtypes"
      ]
    },
    {
      "cell_type": "code",
      "execution_count": 12,
      "metadata": {
        "colab": {
          "base_uri": "https://localhost:8080/",
          "height": 261
        },
        "id": "FR9JoC-D-hry",
        "outputId": "123ffcf0-935b-4c19-fd66-e2d6acd1be33"
      },
      "outputs": [
        {
          "data": {
            "text/plain": [
              "user_id\n",
              "001b5eddf7    591500\n",
              "0023cedbf9      7000\n",
              "0024ae4898    436800\n",
              "002d8b5849    204750\n",
              "003e99a26e    145600\n",
              "Name: sub_total, dtype: int64"
            ]
          },
          "execution_count": 12,
          "metadata": {},
          "output_type": "execute_result"
        }
      ],
      "source": [
        "monetary = df_rfm.groupby('user_id')['sub_total'].sum()\n",
        "\n",
        "monetary.head()\n",
        "\n",
        "# monetary.sort_values('sub_total', ascending=False).head()"
      ]
    },
    {
      "cell_type": "code",
      "execution_count": 13,
      "metadata": {
        "colab": {
          "base_uri": "https://localhost:8080/",
          "height": 206
        },
        "id": "S6pUNQevDlk4",
        "outputId": "8fc76146-3a66-44a3-aad7-c16c145c5797"
      },
      "outputs": [
        {
          "data": {
            "text/html": [
              "<div>\n",
              "<style scoped>\n",
              "    .dataframe tbody tr th:only-of-type {\n",
              "        vertical-align: middle;\n",
              "    }\n",
              "\n",
              "    .dataframe tbody tr th {\n",
              "        vertical-align: top;\n",
              "    }\n",
              "\n",
              "    .dataframe thead th {\n",
              "        text-align: right;\n",
              "    }\n",
              "</style>\n",
              "<table border=\"1\" class=\"dataframe\">\n",
              "  <thead>\n",
              "    <tr style=\"text-align: right;\">\n",
              "      <th></th>\n",
              "      <th>user_id</th>\n",
              "      <th>trans_id</th>\n",
              "    </tr>\n",
              "  </thead>\n",
              "  <tbody>\n",
              "    <tr>\n",
              "      <th>2418</th>\n",
              "      <td>9efd34ffe5</td>\n",
              "      <td>21</td>\n",
              "    </tr>\n",
              "    <tr>\n",
              "      <th>602</th>\n",
              "      <td>278e551675</td>\n",
              "      <td>15</td>\n",
              "    </tr>\n",
              "    <tr>\n",
              "      <th>1868</th>\n",
              "      <td>7a8310aa9f</td>\n",
              "      <td>14</td>\n",
              "    </tr>\n",
              "    <tr>\n",
              "      <th>2492</th>\n",
              "      <td>a491801c2d</td>\n",
              "      <td>14</td>\n",
              "    </tr>\n",
              "    <tr>\n",
              "      <th>1677</th>\n",
              "      <td>6fce2e62f1</td>\n",
              "      <td>13</td>\n",
              "    </tr>\n",
              "  </tbody>\n",
              "</table>\n",
              "</div>"
            ],
            "text/plain": [
              "         user_id  trans_id\n",
              "2418  9efd34ffe5        21\n",
              "602   278e551675        15\n",
              "1868  7a8310aa9f        14\n",
              "2492  a491801c2d        14\n",
              "1677  6fce2e62f1        13"
            ]
          },
          "execution_count": 13,
          "metadata": {},
          "output_type": "execute_result"
        }
      ],
      "source": [
        "frequency = df_rfm.groupby('user_id')['trans_id'].count().reset_index()\n",
        "\n",
        "frequency.sort_values('trans_id', ascending=False).head()"
      ]
    },
    {
      "cell_type": "code",
      "execution_count": 14,
      "metadata": {
        "id": "ZVvYFYPmF07f"
      },
      "outputs": [],
      "source": [
        "max_date = max(df_rfm['trans_date'])"
      ]
    },
    {
      "cell_type": "code",
      "execution_count": 15,
      "metadata": {
        "colab": {
          "base_uri": "https://localhost:8080/",
          "height": 206
        },
        "id": "MZDuWg9XGGSR",
        "outputId": "c5fd94db-da85-4b09-daf7-51b934610eb6"
      },
      "outputs": [
        {
          "data": {
            "text/html": [
              "<div>\n",
              "<style scoped>\n",
              "    .dataframe tbody tr th:only-of-type {\n",
              "        vertical-align: middle;\n",
              "    }\n",
              "\n",
              "    .dataframe tbody tr th {\n",
              "        vertical-align: top;\n",
              "    }\n",
              "\n",
              "    .dataframe thead th {\n",
              "        text-align: right;\n",
              "    }\n",
              "</style>\n",
              "<table border=\"1\" class=\"dataframe\">\n",
              "  <thead>\n",
              "    <tr style=\"text-align: right;\">\n",
              "      <th></th>\n",
              "      <th>trans_date</th>\n",
              "      <th>acc_created_date</th>\n",
              "      <th>trans_id</th>\n",
              "      <th>user_id</th>\n",
              "      <th>brand</th>\n",
              "      <th>product_name</th>\n",
              "      <th>quantity</th>\n",
              "      <th>sub_total</th>\n",
              "      <th>diff_date</th>\n",
              "    </tr>\n",
              "  </thead>\n",
              "  <tbody>\n",
              "    <tr>\n",
              "      <th>0</th>\n",
              "      <td>2021-03-01 09:42:48</td>\n",
              "      <td>2021-03-01 09:39:28</td>\n",
              "      <td>INV-44477208-20195</td>\n",
              "      <td>6ae66dba4a</td>\n",
              "      <td>Geo Magazine</td>\n",
              "      <td>Geo Magazine 12 Month Printed Subscription</td>\n",
              "      <td>1</td>\n",
              "      <td>576000</td>\n",
              "      <td>729 days 12:59:36</td>\n",
              "    </tr>\n",
              "    <tr>\n",
              "      <th>1</th>\n",
              "      <td>2021-03-01 09:42:48</td>\n",
              "      <td>2021-03-01 09:39:28</td>\n",
              "      <td>INV-84260125-20195</td>\n",
              "      <td>6ae66dba4a</td>\n",
              "      <td>Insight Magazine</td>\n",
              "      <td>Insight Magazine 6 Month Printed Subscription</td>\n",
              "      <td>1</td>\n",
              "      <td>120000</td>\n",
              "      <td>729 days 12:59:36</td>\n",
              "    </tr>\n",
              "    <tr>\n",
              "      <th>2</th>\n",
              "      <td>2021-03-01 10:05:18</td>\n",
              "      <td>2021-03-01 05:10:49</td>\n",
              "      <td>INV-21702404-20196</td>\n",
              "      <td>fecd37e3fa</td>\n",
              "      <td>Kids Creativity Magazine</td>\n",
              "      <td>Kids Creativity Magazine 6 Month Printed Subsc...</td>\n",
              "      <td>1</td>\n",
              "      <td>145600</td>\n",
              "      <td>729 days 12:37:06</td>\n",
              "    </tr>\n",
              "    <tr>\n",
              "      <th>3</th>\n",
              "      <td>2021-03-01 15:58:35</td>\n",
              "      <td>2021-02-25 18:38:31</td>\n",
              "      <td>INV-46817248-20197</td>\n",
              "      <td>702981082e</td>\n",
              "      <td>Kids Magazine</td>\n",
              "      <td>Kids Magazine 6 Month Printed Subscription</td>\n",
              "      <td>1</td>\n",
              "      <td>291200</td>\n",
              "      <td>729 days 06:43:49</td>\n",
              "    </tr>\n",
              "    <tr>\n",
              "      <th>4</th>\n",
              "      <td>2021-03-01 16:19:54</td>\n",
              "      <td>2021-03-01 16:16:50</td>\n",
              "      <td>INV-47598177-20198</td>\n",
              "      <td>d1fbab7576</td>\n",
              "      <td>Kindergarten Magazine</td>\n",
              "      <td>Kindergarten Magazine 6 Month Printed Subscrip...</td>\n",
              "      <td>1</td>\n",
              "      <td>182000</td>\n",
              "      <td>729 days 06:22:30</td>\n",
              "    </tr>\n",
              "  </tbody>\n",
              "</table>\n",
              "</div>"
            ],
            "text/plain": [
              "           trans_date    acc_created_date            trans_id     user_id  \\\n",
              "0 2021-03-01 09:42:48 2021-03-01 09:39:28  INV-44477208-20195  6ae66dba4a   \n",
              "1 2021-03-01 09:42:48 2021-03-01 09:39:28  INV-84260125-20195  6ae66dba4a   \n",
              "2 2021-03-01 10:05:18 2021-03-01 05:10:49  INV-21702404-20196  fecd37e3fa   \n",
              "3 2021-03-01 15:58:35 2021-02-25 18:38:31  INV-46817248-20197  702981082e   \n",
              "4 2021-03-01 16:19:54 2021-03-01 16:16:50  INV-47598177-20198  d1fbab7576   \n",
              "\n",
              "                      brand  \\\n",
              "0              Geo Magazine   \n",
              "1          Insight Magazine   \n",
              "2  Kids Creativity Magazine   \n",
              "3             Kids Magazine   \n",
              "4     Kindergarten Magazine   \n",
              "\n",
              "                                        product_name  quantity  sub_total  \\\n",
              "0         Geo Magazine 12 Month Printed Subscription         1     576000   \n",
              "1      Insight Magazine 6 Month Printed Subscription         1     120000   \n",
              "2  Kids Creativity Magazine 6 Month Printed Subsc...         1     145600   \n",
              "3         Kids Magazine 6 Month Printed Subscription         1     291200   \n",
              "4  Kindergarten Magazine 6 Month Printed Subscrip...         1     182000   \n",
              "\n",
              "          diff_date  \n",
              "0 729 days 12:59:36  \n",
              "1 729 days 12:59:36  \n",
              "2 729 days 12:37:06  \n",
              "3 729 days 06:43:49  \n",
              "4 729 days 06:22:30  "
            ]
          },
          "execution_count": 15,
          "metadata": {},
          "output_type": "execute_result"
        }
      ],
      "source": [
        "df_rfm['diff_date'] = max_date - df_rfm['trans_date']\n",
        "\n",
        "df_rfm.head()"
      ]
    },
    {
      "cell_type": "code",
      "execution_count": 16,
      "metadata": {
        "colab": {
          "base_uri": "https://localhost:8080/",
          "height": 206
        },
        "id": "VIoDGClfGaD7",
        "outputId": "fef0d409-b3f4-49ed-b57d-9512cef5d4bf"
      },
      "outputs": [
        {
          "data": {
            "text/html": [
              "<div>\n",
              "<style scoped>\n",
              "    .dataframe tbody tr th:only-of-type {\n",
              "        vertical-align: middle;\n",
              "    }\n",
              "\n",
              "    .dataframe tbody tr th {\n",
              "        vertical-align: top;\n",
              "    }\n",
              "\n",
              "    .dataframe thead th {\n",
              "        text-align: right;\n",
              "    }\n",
              "</style>\n",
              "<table border=\"1\" class=\"dataframe\">\n",
              "  <thead>\n",
              "    <tr style=\"text-align: right;\">\n",
              "      <th></th>\n",
              "      <th>user_id</th>\n",
              "      <th>diff_date</th>\n",
              "    </tr>\n",
              "  </thead>\n",
              "  <tbody>\n",
              "    <tr>\n",
              "      <th>0</th>\n",
              "      <td>001b5eddf7</td>\n",
              "      <td>447</td>\n",
              "    </tr>\n",
              "    <tr>\n",
              "      <th>1</th>\n",
              "      <td>0023cedbf9</td>\n",
              "      <td>489</td>\n",
              "    </tr>\n",
              "    <tr>\n",
              "      <th>2</th>\n",
              "      <td>0024ae4898</td>\n",
              "      <td>587</td>\n",
              "    </tr>\n",
              "    <tr>\n",
              "      <th>3</th>\n",
              "      <td>002d8b5849</td>\n",
              "      <td>137</td>\n",
              "    </tr>\n",
              "    <tr>\n",
              "      <th>4</th>\n",
              "      <td>003e99a26e</td>\n",
              "      <td>711</td>\n",
              "    </tr>\n",
              "  </tbody>\n",
              "</table>\n",
              "</div>"
            ],
            "text/plain": [
              "      user_id  diff_date\n",
              "0  001b5eddf7        447\n",
              "1  0023cedbf9        489\n",
              "2  0024ae4898        587\n",
              "3  002d8b5849        137\n",
              "4  003e99a26e        711"
            ]
          },
          "execution_count": 16,
          "metadata": {},
          "output_type": "execute_result"
        }
      ],
      "source": [
        "recency = df_rfm.groupby('user_id')['diff_date'].min().reset_index()\n",
        "\n",
        "recency['diff_date'] = recency['diff_date'].dt.days\n",
        "\n",
        "recency.head()"
      ]
    },
    {
      "cell_type": "code",
      "execution_count": 17,
      "metadata": {
        "colab": {
          "base_uri": "https://localhost:8080/",
          "height": 206
        },
        "id": "Djd9clnrIBQP",
        "outputId": "fea3c9ae-54d3-46c4-a957-88ff3fa5af5e"
      },
      "outputs": [
        {
          "data": {
            "text/html": [
              "<div>\n",
              "<style scoped>\n",
              "    .dataframe tbody tr th:only-of-type {\n",
              "        vertical-align: middle;\n",
              "    }\n",
              "\n",
              "    .dataframe tbody tr th {\n",
              "        vertical-align: top;\n",
              "    }\n",
              "\n",
              "    .dataframe thead th {\n",
              "        text-align: right;\n",
              "    }\n",
              "</style>\n",
              "<table border=\"1\" class=\"dataframe\">\n",
              "  <thead>\n",
              "    <tr style=\"text-align: right;\">\n",
              "      <th></th>\n",
              "      <th>user_id</th>\n",
              "      <th>amount</th>\n",
              "      <th>frequency</th>\n",
              "      <th>recency</th>\n",
              "    </tr>\n",
              "  </thead>\n",
              "  <tbody>\n",
              "    <tr>\n",
              "      <th>0</th>\n",
              "      <td>001b5eddf7</td>\n",
              "      <td>591500</td>\n",
              "      <td>2</td>\n",
              "      <td>447</td>\n",
              "    </tr>\n",
              "    <tr>\n",
              "      <th>1</th>\n",
              "      <td>0023cedbf9</td>\n",
              "      <td>7000</td>\n",
              "      <td>1</td>\n",
              "      <td>489</td>\n",
              "    </tr>\n",
              "    <tr>\n",
              "      <th>2</th>\n",
              "      <td>0024ae4898</td>\n",
              "      <td>436800</td>\n",
              "      <td>2</td>\n",
              "      <td>587</td>\n",
              "    </tr>\n",
              "    <tr>\n",
              "      <th>3</th>\n",
              "      <td>002d8b5849</td>\n",
              "      <td>204750</td>\n",
              "      <td>1</td>\n",
              "      <td>137</td>\n",
              "    </tr>\n",
              "    <tr>\n",
              "      <th>4</th>\n",
              "      <td>003e99a26e</td>\n",
              "      <td>145600</td>\n",
              "      <td>1</td>\n",
              "      <td>711</td>\n",
              "    </tr>\n",
              "  </tbody>\n",
              "</table>\n",
              "</div>"
            ],
            "text/plain": [
              "      user_id  amount  frequency  recency\n",
              "0  001b5eddf7  591500          2      447\n",
              "1  0023cedbf9    7000          1      489\n",
              "2  0024ae4898  436800          2      587\n",
              "3  002d8b5849  204750          1      137\n",
              "4  003e99a26e  145600          1      711"
            ]
          },
          "execution_count": 17,
          "metadata": {},
          "output_type": "execute_result"
        }
      ],
      "source": [
        "df_rfm = pd.merge(monetary, frequency, on='user_id', how='inner')\n",
        "df_rfm = pd.merge(df_rfm, recency, on='user_id', how='inner')\n",
        "\n",
        "df_rfm = df_rfm.rename(columns={'sub_total': 'amount', 'trans_id': 'frequency', 'diff_date': 'recency'})\n",
        "\n",
        "df_rfm.head()"
      ]
    },
    {
      "cell_type": "code",
      "execution_count": 18,
      "metadata": {
        "colab": {
          "base_uri": "https://localhost:8080/"
        },
        "id": "wAiyFMeqIorr",
        "outputId": "7255e882-be6b-4ad5-f42c-d1a86346ff77"
      },
      "outputs": [
        {
          "data": {
            "text/plain": [
              "(3900, 4)"
            ]
          },
          "execution_count": 18,
          "metadata": {},
          "output_type": "execute_result"
        }
      ],
      "source": [
        "df_rfm.shape"
      ]
    },
    {
      "cell_type": "code",
      "execution_count": 19,
      "metadata": {
        "colab": {
          "base_uri": "https://localhost:8080/"
        },
        "id": "6eWnyBVtJw1M",
        "outputId": "1f7a3d9d-895f-4c07-ddac-9aa090a4d5f5"
      },
      "outputs": [
        {
          "data": {
            "text/plain": [
              "array([[ 0.43878721,  0.4416056 ,  0.34318529],\n",
              "       [-0.93476993, -0.4402489 ,  0.54733465],\n",
              "       [ 0.07524694,  0.4416056 ,  1.02368315],\n",
              "       ...,\n",
              "       [ 0.75955804, -0.4402489 , -0.99350693],\n",
              "       [-0.88542057, -0.4402489 ,  0.70287701],\n",
              "       [-0.09583084, -0.4402489 ,  0.00779706]])"
            ]
          },
          "execution_count": 19,
          "metadata": {},
          "output_type": "execute_result"
        }
      ],
      "source": [
        "scaler = StandardScaler()\n",
        "\n",
        "df_scaled = scaler.fit_transform(df_rfm[['amount', 'frequency', 'recency']])\n",
        "\n",
        "df_scaled"
      ]
    },
    {
      "cell_type": "code",
      "execution_count": 20,
      "metadata": {
        "colab": {
          "base_uri": "https://localhost:8080/",
          "height": 206
        },
        "id": "BjHgJQ02KfoF",
        "outputId": "2fdbe977-93d2-4bc9-a796-8aba1b10534a"
      },
      "outputs": [
        {
          "data": {
            "text/html": [
              "<div>\n",
              "<style scoped>\n",
              "    .dataframe tbody tr th:only-of-type {\n",
              "        vertical-align: middle;\n",
              "    }\n",
              "\n",
              "    .dataframe tbody tr th {\n",
              "        vertical-align: top;\n",
              "    }\n",
              "\n",
              "    .dataframe thead th {\n",
              "        text-align: right;\n",
              "    }\n",
              "</style>\n",
              "<table border=\"1\" class=\"dataframe\">\n",
              "  <thead>\n",
              "    <tr style=\"text-align: right;\">\n",
              "      <th></th>\n",
              "      <th>amount</th>\n",
              "      <th>frequency</th>\n",
              "      <th>recency</th>\n",
              "    </tr>\n",
              "  </thead>\n",
              "  <tbody>\n",
              "    <tr>\n",
              "      <th>0</th>\n",
              "      <td>0.438787</td>\n",
              "      <td>0.441606</td>\n",
              "      <td>0.343185</td>\n",
              "    </tr>\n",
              "    <tr>\n",
              "      <th>1</th>\n",
              "      <td>-0.934770</td>\n",
              "      <td>-0.440249</td>\n",
              "      <td>0.547335</td>\n",
              "    </tr>\n",
              "    <tr>\n",
              "      <th>2</th>\n",
              "      <td>0.075247</td>\n",
              "      <td>0.441606</td>\n",
              "      <td>1.023683</td>\n",
              "    </tr>\n",
              "    <tr>\n",
              "      <th>3</th>\n",
              "      <td>-0.470063</td>\n",
              "      <td>-0.440249</td>\n",
              "      <td>-1.163631</td>\n",
              "    </tr>\n",
              "    <tr>\n",
              "      <th>4</th>\n",
              "      <td>-0.609064</td>\n",
              "      <td>-0.440249</td>\n",
              "      <td>1.626410</td>\n",
              "    </tr>\n",
              "  </tbody>\n",
              "</table>\n",
              "</div>"
            ],
            "text/plain": [
              "     amount  frequency   recency\n",
              "0  0.438787   0.441606  0.343185\n",
              "1 -0.934770  -0.440249  0.547335\n",
              "2  0.075247   0.441606  1.023683\n",
              "3 -0.470063  -0.440249 -1.163631\n",
              "4 -0.609064  -0.440249  1.626410"
            ]
          },
          "execution_count": 20,
          "metadata": {},
          "output_type": "execute_result"
        }
      ],
      "source": [
        "df_scaled = pd.DataFrame(df_scaled)\n",
        "df_scaled.columns = ['amount', 'frequency', 'recency']\n",
        "\n",
        "df_scaled.head()"
      ]
    },
    {
      "cell_type": "code",
      "execution_count": 21,
      "metadata": {
        "colab": {
          "base_uri": "https://localhost:8080/",
          "height": 206
        },
        "id": "Xv-1d45yKsWo",
        "outputId": "7e6d9c49-f60e-474d-c687-001e5f0630de"
      },
      "outputs": [
        {
          "data": {
            "text/html": [
              "<div>\n",
              "<style scoped>\n",
              "    .dataframe tbody tr th:only-of-type {\n",
              "        vertical-align: middle;\n",
              "    }\n",
              "\n",
              "    .dataframe tbody tr th {\n",
              "        vertical-align: top;\n",
              "    }\n",
              "\n",
              "    .dataframe thead th {\n",
              "        text-align: right;\n",
              "    }\n",
              "</style>\n",
              "<table border=\"1\" class=\"dataframe\">\n",
              "  <thead>\n",
              "    <tr style=\"text-align: right;\">\n",
              "      <th></th>\n",
              "      <th>amount</th>\n",
              "      <th>frequency</th>\n",
              "      <th>recency</th>\n",
              "      <th>user_id</th>\n",
              "    </tr>\n",
              "  </thead>\n",
              "  <tbody>\n",
              "    <tr>\n",
              "      <th>0</th>\n",
              "      <td>0.438787</td>\n",
              "      <td>0.441606</td>\n",
              "      <td>0.343185</td>\n",
              "      <td>001b5eddf7</td>\n",
              "    </tr>\n",
              "    <tr>\n",
              "      <th>1</th>\n",
              "      <td>-0.934770</td>\n",
              "      <td>-0.440249</td>\n",
              "      <td>0.547335</td>\n",
              "      <td>0023cedbf9</td>\n",
              "    </tr>\n",
              "    <tr>\n",
              "      <th>2</th>\n",
              "      <td>0.075247</td>\n",
              "      <td>0.441606</td>\n",
              "      <td>1.023683</td>\n",
              "      <td>0024ae4898</td>\n",
              "    </tr>\n",
              "    <tr>\n",
              "      <th>3</th>\n",
              "      <td>-0.470063</td>\n",
              "      <td>-0.440249</td>\n",
              "      <td>-1.163631</td>\n",
              "      <td>002d8b5849</td>\n",
              "    </tr>\n",
              "    <tr>\n",
              "      <th>4</th>\n",
              "      <td>-0.609064</td>\n",
              "      <td>-0.440249</td>\n",
              "      <td>1.626410</td>\n",
              "      <td>003e99a26e</td>\n",
              "    </tr>\n",
              "  </tbody>\n",
              "</table>\n",
              "</div>"
            ],
            "text/plain": [
              "     amount  frequency   recency     user_id\n",
              "0  0.438787   0.441606  0.343185  001b5eddf7\n",
              "1 -0.934770  -0.440249  0.547335  0023cedbf9\n",
              "2  0.075247   0.441606  1.023683  0024ae4898\n",
              "3 -0.470063  -0.440249 -1.163631  002d8b5849\n",
              "4 -0.609064  -0.440249  1.626410  003e99a26e"
            ]
          },
          "execution_count": 21,
          "metadata": {},
          "output_type": "execute_result"
        }
      ],
      "source": [
        "df_scaled['user_id'] = df_rfm['user_id']\n",
        "\n",
        "df_scaled.head()"
      ]
    },
    {
      "cell_type": "code",
      "execution_count": 22,
      "metadata": {
        "colab": {
          "base_uri": "https://localhost:8080/",
          "height": 206
        },
        "id": "z72_r1u8mpFt",
        "outputId": "eb6b5e67-36f1-406c-8f9b-9f45b0e000c3"
      },
      "outputs": [
        {
          "data": {
            "text/html": [
              "<div>\n",
              "<style scoped>\n",
              "    .dataframe tbody tr th:only-of-type {\n",
              "        vertical-align: middle;\n",
              "    }\n",
              "\n",
              "    .dataframe tbody tr th {\n",
              "        vertical-align: top;\n",
              "    }\n",
              "\n",
              "    .dataframe thead th {\n",
              "        text-align: right;\n",
              "    }\n",
              "</style>\n",
              "<table border=\"1\" class=\"dataframe\">\n",
              "  <thead>\n",
              "    <tr style=\"text-align: right;\">\n",
              "      <th></th>\n",
              "      <th>pca1</th>\n",
              "      <th>pca2</th>\n",
              "    </tr>\n",
              "  </thead>\n",
              "  <tbody>\n",
              "    <tr>\n",
              "      <th>0</th>\n",
              "      <td>0.471463</td>\n",
              "      <td>0.531493</td>\n",
              "    </tr>\n",
              "    <tr>\n",
              "      <th>1</th>\n",
              "      <td>-1.102225</td>\n",
              "      <td>0.208382</td>\n",
              "    </tr>\n",
              "    <tr>\n",
              "      <th>2</th>\n",
              "      <td>-0.000833</td>\n",
              "      <td>1.099646</td>\n",
              "    </tr>\n",
              "    <tr>\n",
              "      <th>3</th>\n",
              "      <td>-0.216590</td>\n",
              "      <td>-1.308984</td>\n",
              "    </tr>\n",
              "    <tr>\n",
              "      <th>4</th>\n",
              "      <td>-1.245097</td>\n",
              "      <td>1.287732</td>\n",
              "    </tr>\n",
              "  </tbody>\n",
              "</table>\n",
              "</div>"
            ],
            "text/plain": [
              "       pca1      pca2\n",
              "0  0.471463  0.531493\n",
              "1 -1.102225  0.208382\n",
              "2 -0.000833  1.099646\n",
              "3 -0.216590 -1.308984\n",
              "4 -1.245097  1.287732"
            ]
          },
          "execution_count": 22,
          "metadata": {},
          "output_type": "execute_result"
        }
      ],
      "source": [
        "pca = PCA(n_components=2)\n",
        "\n",
        "result = pca.fit_transform(df_scaled[['amount', 'frequency', 'recency']])\n",
        "\n",
        "df_pca = pd.DataFrame(result)\n",
        "df_pca.columns = ['pca1', 'pca2']\n",
        "\n",
        "df_pca.head()"
      ]
    },
    {
      "cell_type": "code",
      "execution_count": 23,
      "metadata": {
        "colab": {
          "base_uri": "https://localhost:8080/"
        },
        "id": "CI-3H8cBLADt",
        "outputId": "39d454b9-ac9c-4c35-b2f8-ecc929ea9fe3"
      },
      "outputs": [
        {
          "name": "stderr",
          "output_type": "stream",
          "text": [
            "c:\\Users\\KG\\AppData\\Local\\Programs\\Python\\Python311\\Lib\\site-packages\\sklearn\\cluster\\_kmeans.py:1416: FutureWarning: The default value of `n_init` will change from 10 to 'auto' in 1.4. Set the value of `n_init` explicitly to suppress the warning\n",
            "  super()._check_params_vs_input(X, default_n_init=10)\n"
          ]
        },
        {
          "name": "stderr",
          "output_type": "stream",
          "text": [
            "c:\\Users\\KG\\AppData\\Local\\Programs\\Python\\Python311\\Lib\\site-packages\\sklearn\\cluster\\_kmeans.py:1416: FutureWarning: The default value of `n_init` will change from 10 to 'auto' in 1.4. Set the value of `n_init` explicitly to suppress the warning\n",
            "  super()._check_params_vs_input(X, default_n_init=10)\n",
            "c:\\Users\\KG\\AppData\\Local\\Programs\\Python\\Python311\\Lib\\site-packages\\sklearn\\cluster\\_kmeans.py:1416: FutureWarning: The default value of `n_init` will change from 10 to 'auto' in 1.4. Set the value of `n_init` explicitly to suppress the warning\n",
            "  super()._check_params_vs_input(X, default_n_init=10)\n",
            "c:\\Users\\KG\\AppData\\Local\\Programs\\Python\\Python311\\Lib\\site-packages\\sklearn\\cluster\\_kmeans.py:1416: FutureWarning: The default value of `n_init` will change from 10 to 'auto' in 1.4. Set the value of `n_init` explicitly to suppress the warning\n",
            "  super()._check_params_vs_input(X, default_n_init=10)\n",
            "c:\\Users\\KG\\AppData\\Local\\Programs\\Python\\Python311\\Lib\\site-packages\\sklearn\\cluster\\_kmeans.py:1416: FutureWarning: The default value of `n_init` will change from 10 to 'auto' in 1.4. Set the value of `n_init` explicitly to suppress the warning\n",
            "  super()._check_params_vs_input(X, default_n_init=10)\n",
            "c:\\Users\\KG\\AppData\\Local\\Programs\\Python\\Python311\\Lib\\site-packages\\sklearn\\cluster\\_kmeans.py:1416: FutureWarning: The default value of `n_init` will change from 10 to 'auto' in 1.4. Set the value of `n_init` explicitly to suppress the warning\n",
            "  super()._check_params_vs_input(X, default_n_init=10)\n",
            "c:\\Users\\KG\\AppData\\Local\\Programs\\Python\\Python311\\Lib\\site-packages\\sklearn\\cluster\\_kmeans.py:1416: FutureWarning: The default value of `n_init` will change from 10 to 'auto' in 1.4. Set the value of `n_init` explicitly to suppress the warning\n",
            "  super()._check_params_vs_input(X, default_n_init=10)\n",
            "c:\\Users\\KG\\AppData\\Local\\Programs\\Python\\Python311\\Lib\\site-packages\\sklearn\\cluster\\_kmeans.py:1416: FutureWarning: The default value of `n_init` will change from 10 to 'auto' in 1.4. Set the value of `n_init` explicitly to suppress the warning\n",
            "  super()._check_params_vs_input(X, default_n_init=10)\n"
          ]
        },
        {
          "name": "stdout",
          "output_type": "stream",
          "text": [
            "[0.5391780129340848, 0.4622192507322201, 0.4776392062087557, 0.38867141778755177, 0.39637007261569285, 0.4229710670464362, 0.4207339244652295, 0.41929639192906104]\n"
          ]
        }
      ],
      "source": [
        "inertia = []\n",
        "score = []\n",
        "\n",
        "for k in range(2, 10):\n",
        "  km = KMeans(n_clusters=k)\n",
        "  km.fit(df_pca)\n",
        "\n",
        "  ss = silhouette_score(df_pca, km.labels_)\n",
        "\n",
        "  score.append(ss)\n",
        "\n",
        "  inertia.append(km.inertia_)\n",
        "\n",
        "print(score)"
      ]
    },
    {
      "cell_type": "code",
      "execution_count": 24,
      "metadata": {
        "colab": {
          "base_uri": "https://localhost:8080/",
          "height": 451
        },
        "id": "FV1czFS8Ln5F",
        "outputId": "224a92e6-4b9b-4169-98a6-da85e424685c"
      },
      "outputs": [
        {
          "data": {
            "text/plain": [
              "[<matplotlib.lines.Line2D at 0x2507fc4d090>]"
            ]
          },
          "execution_count": 24,
          "metadata": {},
          "output_type": "execute_result"
        },
        {
          "data": {
            "image/png": "[encoded data removed]",
            "text/plain": [
              "<Figure size 640x480 with 1 Axes>"
            ]
          },
          "metadata": {},
          "output_type": "display_data"
        }
      ],
      "source": [
        "plt.plot(inertia)"
      ]
    },
    {
      "cell_type": "code",
      "execution_count": 25,
      "metadata": {
        "colab": {
          "base_uri": "https://localhost:8080/",
          "height": 206
        },
        "id": "gVEIFQiskNZP",
        "outputId": "ec3ff402-f7c4-46a7-8962-99d702dd4986"
      },
      "outputs": [
        {
          "data": {
            "text/html": [
              "<div>\n",
              "<style scoped>\n",
              "    .dataframe tbody tr th:only-of-type {\n",
              "        vertical-align: middle;\n",
              "    }\n",
              "\n",
              "    .dataframe tbody tr th {\n",
              "        vertical-align: top;\n",
              "    }\n",
              "\n",
              "    .dataframe thead th {\n",
              "        text-align: right;\n",
              "    }\n",
              "</style>\n",
              "<table border=\"1\" class=\"dataframe\">\n",
              "  <thead>\n",
              "    <tr style=\"text-align: right;\">\n",
              "      <th></th>\n",
              "      <th>pca1</th>\n",
              "      <th>pca2</th>\n",
              "    </tr>\n",
              "  </thead>\n",
              "  <tbody>\n",
              "    <tr>\n",
              "      <th>0</th>\n",
              "      <td>0.471463</td>\n",
              "      <td>0.531493</td>\n",
              "    </tr>\n",
              "    <tr>\n",
              "      <th>1</th>\n",
              "      <td>-1.102225</td>\n",
              "      <td>0.208382</td>\n",
              "    </tr>\n",
              "    <tr>\n",
              "      <th>2</th>\n",
              "      <td>-0.000833</td>\n",
              "      <td>1.099646</td>\n",
              "    </tr>\n",
              "    <tr>\n",
              "      <th>3</th>\n",
              "      <td>-0.216590</td>\n",
              "      <td>-1.308984</td>\n",
              "    </tr>\n",
              "    <tr>\n",
              "      <th>4</th>\n",
              "      <td>-1.245097</td>\n",
              "      <td>1.287732</td>\n",
              "    </tr>\n",
              "  </tbody>\n",
              "</table>\n",
              "</div>"
            ],
            "text/plain": [
              "       pca1      pca2\n",
              "0  0.471463  0.531493\n",
              "1 -1.102225  0.208382\n",
              "2 -0.000833  1.099646\n",
              "3 -0.216590 -1.308984\n",
              "4 -1.245097  1.287732"
            ]
          },
          "execution_count": 25,
          "metadata": {},
          "output_type": "execute_result"
        }
      ],
      "source": [
        "pca = PCA(n_components=2)\n",
        "\n",
        "result = pca.fit_transform(df_scaled[['amount', 'frequency', 'recency']])\n",
        "\n",
        "df_pca = pd.DataFrame(result)\n",
        "df_pca.columns = ['pca1', 'pca2']\n",
        "\n",
        "df_pca.head()"
      ]
    },
    {
      "cell_type": "code",
      "execution_count": 26,
      "metadata": {
        "colab": {
          "base_uri": "https://localhost:8080/",
          "height": 475
        },
        "id": "BprXUW4elPZ9",
        "outputId": "b560377f-7c36-41c2-9be3-5fb2c24b3666"
      },
      "outputs": [
        {
          "data": {
            "text/plain": [
              "<Axes: xlabel='pca1', ylabel='pca2'>"
            ]
          },
          "execution_count": 26,
          "metadata": {},
          "output_type": "execute_result"
        },
        {
          "data": {
            "image/png": "[encoded data removed]",
            "text/plain": [
              "<Figure size 640x480 with 1 Axes>"
            ]
          },
          "metadata": {},
          "output_type": "display_data"
        }
      ],
      "source": [
        "sns.scatterplot(data=df_pca, x='pca1', y='pca2')"
      ]
    },
    {
      "cell_type": "code",
      "execution_count": 27,
      "metadata": {
        "colab": {
          "base_uri": "https://localhost:8080/",
          "height": 109
        },
        "id": "W1hBp8bClii-",
        "outputId": "7f10c08f-641d-426d-e9a4-fa7c362680f9"
      },
      "outputs": [
        {
          "name": "stderr",
          "output_type": "stream",
          "text": [
            "c:\\Users\\KG\\AppData\\Local\\Programs\\Python\\Python311\\Lib\\site-packages\\sklearn\\cluster\\_kmeans.py:1416: FutureWarning: The default value of `n_init` will change from 10 to 'auto' in 1.4. Set the value of `n_init` explicitly to suppress the warning\n",
            "  super()._check_params_vs_input(X, default_n_init=10)\n"
          ]
        },
        {
          "data": {
            "text/html": [
              "<style>#sk-container-id-1 {color: black;}#sk-container-id-1 pre{padding: 0;}#sk-container-id-1 div.sk-toggleable {background-color: white;}#sk-container-id-1 label.sk-toggleable__label {cursor: pointer;display: block;width: 100%;margin-bottom: 0;padding: 0.3em;box-sizing: border-box;text-align: center;}#sk-container-id-1 label.sk-toggleable__label-arrow:before {content: \"▸\";float: left;margin-right: 0.25em;color: #696969;}#sk-container-id-1 label.sk-toggleable__label-arrow:hover:before {color: black;}#sk-container-id-1 div.sk-estimator:hover label.sk-toggleable__label-arrow:before {color: black;}#sk-container-id-1 div.sk-toggleable__content {max-height: 0;max-width: 0;overflow: hidden;text-align: left;background-color: #f0f8ff;}#sk-container-id-1 div.sk-toggleable__content pre {margin: 0.2em;color: black;border-radius: 0.25em;background-color: #f0f8ff;}#sk-container-id-1 input.sk-toggleable__control:checked~div.sk-toggleable__content {max-height: 200px;max-width: 100%;overflow: auto;}#sk-container-id-1 input.sk-toggleable__control:checked~label.sk-toggleable__label-arrow:before {content: \"▾\";}#sk-container-id-1 div.sk-estimator input.sk-toggleable__control:checked~label.sk-toggleable__label {background-color: #d4ebff;}#sk-container-id-1 div.sk-label input.sk-toggleable__control:checked~label.sk-toggleable__label {background-color: #d4ebff;}#sk-container-id-1 input.sk-hidden--visually {border: 0;clip: rect(1px 1px 1px 1px);clip: rect(1px, 1px, 1px, 1px);height: 1px;margin: -1px;overflow: hidden;padding: 0;position: absolute;width: 1px;}#sk-container-id-1 div.sk-estimator {font-family: monospace;background-color: #f0f8ff;border: 1px dotted black;border-radius: 0.25em;box-sizing: border-box;margin-bottom: 0.5em;}#sk-container-id-1 div.sk-estimator:hover {background-color: #d4ebff;}#sk-container-id-1 div.sk-parallel-item::after {content: \"\";width: 100%;border-bottom: 1px solid gray;flex-grow: 1;}#sk-container-id-1 div.sk-label:hover label.sk-toggleable__label {background-color: #d4ebff;}#sk-container-id-1 div.sk-serial::before {content: \"\";position: absolute;border-left: 1px solid gray;box-sizing: border-box;top: 0;bottom: 0;left: 50%;z-index: 0;}#sk-container-id-1 div.sk-serial {display: flex;flex-direction: column;align-items: center;background-color: white;padding-right: 0.2em;padding-left: 0.2em;position: relative;}#sk-container-id-1 div.sk-item {position: relative;z-index: 1;}#sk-container-id-1 div.sk-parallel {display: flex;align-items: stretch;justify-content: center;background-color: white;position: relative;}#sk-container-id-1 div.sk-item::before, #sk-container-id-1 div.sk-parallel-item::before {content: \"\";position: absolute;border-left: 1px solid gray;box-sizing: border-box;top: 0;bottom: 0;left: 50%;z-index: -1;}#sk-container-id-1 div.sk-parallel-item {display: flex;flex-direction: column;z-index: 1;position: relative;background-color: white;}#sk-container-id-1 div.sk-parallel-item:first-child::after {align-self: flex-end;width: 50%;}#sk-container-id-1 div.sk-parallel-item:last-child::after {align-self: flex-start;width: 50%;}#sk-container-id-1 div.sk-parallel-item:only-child::after {width: 0;}#sk-container-id-1 div.sk-dashed-wrapped {border: 1px dashed gray;margin: 0 0.4em 0.5em 0.4em;box-sizing: border-box;padding-bottom: 0.4em;background-color: white;}#sk-container-id-1 div.sk-label label {font-family: monospace;font-weight: bold;display: inline-block;line-height: 1.2em;}#sk-container-id-1 div.sk-label-container {text-align: center;}#sk-container-id-1 div.sk-container {/* jupyter's `normalize.less` sets `[hidden] { display: none; }` but bootstrap.min.css set `[hidden] { display: none !important; }` so we also need the `!important` here to be able to override the default hidden behavior on the sphinx rendered scikit-learn.org. See: https://github.com/scikit-learn/scikit-learn/issues/21755 */display: inline-block !important;position: relative;}#sk-container-id-1 div.sk-text-repr-fallback {display: none;}</style><div id=\"sk-container-id-1\" class=\"sk-top-container\"><div class=\"sk-text-repr-fallback\"><pre>KMeans(n_clusters=4)</pre><b>In a Jupyter environment, please rerun this cell to show the HTML representation or trust the notebook. <br />On GitHub, the HTML representation is unable to render, please try loading this page with nbviewer.org.</b></div><div class=\"sk-container\" hidden><div class=\"sk-item\"><div class=\"sk-estimator sk-toggleable\"><input class=\"sk-toggleable__control sk-hidden--visually\" id=\"sk-estimator-id-1\" type=\"checkbox\" checked><label for=\"sk-estimator-id-1\" class=\"sk-toggleable__label sk-toggleable__label-arrow\">KMeans</label><div class=\"sk-toggleable__content\"><pre>KMeans(n_clusters=4)</pre></div></div></div></div></div>"
            ],
            "text/plain": [
              "KMeans(n_clusters=4)"
            ]
          },
          "execution_count": 27,
          "metadata": {},
          "output_type": "execute_result"
        }
      ],
      "source": [
        "km = KMeans(n_clusters=4)\n",
        "km.fit(df_pca)"
      ]
    },
    {
      "cell_type": "code",
      "execution_count": 28,
      "metadata": {
        "colab": {
          "base_uri": "https://localhost:8080/"
        },
        "id": "-oU_LbGIn-lT",
        "outputId": "d654b2fc-e773-46d9-f4b2-5ca7a157a581"
      },
      "outputs": [
        {
          "data": {
            "text/plain": [
              "array([[-0.0668074 , -0.95441297],\n",
              "       [ 7.0667189 ,  1.88129109],\n",
              "       [-0.67158671,  0.68442515],\n",
              "       [ 1.9315143 ,  0.06183754]])"
            ]
          },
          "execution_count": 28,
          "metadata": {},
          "output_type": "execute_result"
        }
      ],
      "source": [
        "centroid = km.cluster_centers_\n",
        "\n",
        "centroid"
      ]
    },
    {
      "cell_type": "code",
      "execution_count": 29,
      "metadata": {
        "colab": {
          "base_uri": "https://localhost:8080/",
          "height": 206
        },
        "id": "XFV9OQepoJ3S",
        "outputId": "6a58ed29-8840-48af-f1f2-6ca9115f4253"
      },
      "outputs": [
        {
          "data": {
            "text/html": [
              "<div>\n",
              "<style scoped>\n",
              "    .dataframe tbody tr th:only-of-type {\n",
              "        vertical-align: middle;\n",
              "    }\n",
              "\n",
              "    .dataframe tbody tr th {\n",
              "        vertical-align: top;\n",
              "    }\n",
              "\n",
              "    .dataframe thead th {\n",
              "        text-align: right;\n",
              "    }\n",
              "</style>\n",
              "<table border=\"1\" class=\"dataframe\">\n",
              "  <thead>\n",
              "    <tr style=\"text-align: right;\">\n",
              "      <th></th>\n",
              "      <th>pca1</th>\n",
              "      <th>pca2</th>\n",
              "    </tr>\n",
              "  </thead>\n",
              "  <tbody>\n",
              "    <tr>\n",
              "      <th>0</th>\n",
              "      <td>0.471463</td>\n",
              "      <td>0.531493</td>\n",
              "    </tr>\n",
              "    <tr>\n",
              "      <th>1</th>\n",
              "      <td>-1.102225</td>\n",
              "      <td>0.208382</td>\n",
              "    </tr>\n",
              "    <tr>\n",
              "      <th>2</th>\n",
              "      <td>-0.000833</td>\n",
              "      <td>1.099646</td>\n",
              "    </tr>\n",
              "    <tr>\n",
              "      <th>3</th>\n",
              "      <td>-0.216590</td>\n",
              "      <td>-1.308984</td>\n",
              "    </tr>\n",
              "    <tr>\n",
              "      <th>4</th>\n",
              "      <td>-1.245097</td>\n",
              "      <td>1.287732</td>\n",
              "    </tr>\n",
              "  </tbody>\n",
              "</table>\n",
              "</div>"
            ],
            "text/plain": [
              "       pca1      pca2\n",
              "0  0.471463  0.531493\n",
              "1 -1.102225  0.208382\n",
              "2 -0.000833  1.099646\n",
              "3 -0.216590 -1.308984\n",
              "4 -1.245097  1.287732"
            ]
          },
          "execution_count": 29,
          "metadata": {},
          "output_type": "execute_result"
        }
      ],
      "source": [
        "df_pca.head()"
      ]
    },
    {
      "cell_type": "code",
      "execution_count": 30,
      "metadata": {
        "colab": {
          "base_uri": "https://localhost:8080/",
          "height": 475
        },
        "id": "V2O75F8PojlU",
        "outputId": "61765489-86dd-479c-dcca-acfb39ace32b"
      },
      "outputs": [
        {
          "data": {
            "text/plain": [
              "<Axes: xlabel='pca1', ylabel='pca2'>"
            ]
          },
          "execution_count": 30,
          "metadata": {},
          "output_type": "execute_result"
        },
        {
          "data": {
            "image/png": "[encoded data removed]",
            "text/plain": [
              "<Figure size 640x480 with 1 Axes>"
            ]
          },
          "metadata": {},
          "output_type": "display_data"
        }
      ],
      "source": [
        "sns.scatterplot(data=df_pca, x='pca1', y='pca2', hue=km.labels_)\n",
        "sns.scatterplot(x=centroid[:,0], y=centroid[:,1], markers='x', sizes=2)"
      ]
    },
    {
      "cell_type": "code",
      "execution_count": 31,
      "metadata": {
        "colab": {
          "base_uri": "https://localhost:8080/",
          "height": 206
        },
        "id": "79r79k4ApTMH",
        "outputId": "29e3ff97-17c0-4b18-8e34-db033f8f9dcd"
      },
      "outputs": [
        {
          "data": {
            "text/html": [
              "<div>\n",
              "<style scoped>\n",
              "    .dataframe tbody tr th:only-of-type {\n",
              "        vertical-align: middle;\n",
              "    }\n",
              "\n",
              "    .dataframe tbody tr th {\n",
              "        vertical-align: top;\n",
              "    }\n",
              "\n",
              "    .dataframe thead th {\n",
              "        text-align: right;\n",
              "    }\n",
              "</style>\n",
              "<table border=\"1\" class=\"dataframe\">\n",
              "  <thead>\n",
              "    <tr style=\"text-align: right;\">\n",
              "      <th></th>\n",
              "      <th>user_id</th>\n",
              "      <th>amount</th>\n",
              "      <th>frequency</th>\n",
              "      <th>recency</th>\n",
              "      <th>label</th>\n",
              "    </tr>\n",
              "  </thead>\n",
              "  <tbody>\n",
              "    <tr>\n",
              "      <th>0</th>\n",
              "      <td>001b5eddf7</td>\n",
              "      <td>591500</td>\n",
              "      <td>2</td>\n",
              "      <td>447</td>\n",
              "      <td>2</td>\n",
              "    </tr>\n",
              "    <tr>\n",
              "      <th>1</th>\n",
              "      <td>0023cedbf9</td>\n",
              "      <td>7000</td>\n",
              "      <td>1</td>\n",
              "      <td>489</td>\n",
              "      <td>2</td>\n",
              "    </tr>\n",
              "    <tr>\n",
              "      <th>2</th>\n",
              "      <td>0024ae4898</td>\n",
              "      <td>436800</td>\n",
              "      <td>2</td>\n",
              "      <td>587</td>\n",
              "      <td>2</td>\n",
              "    </tr>\n",
              "    <tr>\n",
              "      <th>3</th>\n",
              "      <td>002d8b5849</td>\n",
              "      <td>204750</td>\n",
              "      <td>1</td>\n",
              "      <td>137</td>\n",
              "      <td>0</td>\n",
              "    </tr>\n",
              "    <tr>\n",
              "      <th>4</th>\n",
              "      <td>003e99a26e</td>\n",
              "      <td>145600</td>\n",
              "      <td>1</td>\n",
              "      <td>711</td>\n",
              "      <td>2</td>\n",
              "    </tr>\n",
              "  </tbody>\n",
              "</table>\n",
              "</div>"
            ],
            "text/plain": [
              "      user_id  amount  frequency  recency  label\n",
              "0  001b5eddf7  591500          2      447      2\n",
              "1  0023cedbf9    7000          1      489      2\n",
              "2  0024ae4898  436800          2      587      2\n",
              "3  002d8b5849  204750          1      137      0\n",
              "4  003e99a26e  145600          1      711      2"
            ]
          },
          "execution_count": 31,
          "metadata": {},
          "output_type": "execute_result"
        }
      ],
      "source": [
        "df_rfm['label'] = km.labels_\n",
        "\n",
        "df_rfm.head()"
      ]
    },
    {
      "cell_type": "code",
      "execution_count": 32,
      "metadata": {
        "colab": {
          "base_uri": "https://localhost:8080/",
          "height": 491
        },
        "id": "xQb_fQExpeGR",
        "outputId": "9ee892c0-b7c8-43f1-f663-b657d1908fb5"
      },
      "outputs": [
        {
          "data": {
            "text/plain": [
              "<Axes: xlabel='label', ylabel='amount'>"
            ]
          },
          "execution_count": 32,
          "metadata": {},
          "output_type": "execute_result"
        },
        {
          "data": {
            "image/png": "[encoded data removed]",
            "text/plain": [
              "<Figure size 640x480 with 1 Axes>"
            ]
          },
          "metadata": {},
          "output_type": "display_data"
        }
      ],
      "source": [
        "sns.boxplot(data=df_rfm, x='label', y='amount', hue='label')"
      ]
    },
    {
      "cell_type": "code",
      "execution_count": 33,
      "metadata": {
        "colab": {
          "base_uri": "https://localhost:8080/",
          "height": 475
        },
        "id": "w7uvGfmKssSA",
        "outputId": "ea82490f-fc33-433b-d433-9f5dd6491caa"
      },
      "outputs": [
        {
          "data": {
            "text/plain": [
              "<Axes: xlabel='label', ylabel='frequency'>"
            ]
          },
          "execution_count": 33,
          "metadata": {},
          "output_type": "execute_result"
        },
        {
          "data": {
            "image/png": "[encoded data removed]",
            "text/plain": [
              "<Figure size 640x480 with 1 Axes>"
            ]
          },
          "metadata": {},
          "output_type": "display_data"
        }
      ],
      "source": [
        "sns.boxplot(data=df_rfm, x='label', y='frequency', hue='label')"
      ]
    },
    {
      "cell_type": "code",
      "execution_count": 34,
      "metadata": {
        "colab": {
          "base_uri": "https://localhost:8080/",
          "height": 475
        },
        "id": "SdO17YWfsu-D",
        "outputId": "2d7f1a07-2f7f-4d46-8b9c-2a676601f9e1"
      },
      "outputs": [
        {
          "data": {
            "text/plain": [
              "<Axes: xlabel='label', ylabel='recency'>"
            ]
          },
          "execution_count": 34,
          "metadata": {},
          "output_type": "execute_result"
        },
        {
          "data": {
            "image/png": "[encoded data removed]",
            "text/plain": [
              "<Figure size 640x480 with 1 Axes>"
            ]
          },
          "metadata": {},
          "output_type": "display_data"
        }
      ],
      "source": [
        "sns.boxplot(data=df_rfm, x='label', y='recency', hue='label')"
      ]
    },
    {
      "cell_type": "code",
      "execution_count": 35,
      "metadata": {
        "colab": {
          "base_uri": "https://localhost:8080/"
        },
        "id": "7oE1hMsCxoWn",
        "outputId": "5f60dc96-f6f2-45e1-e5cc-8b7058afb2a3"
      },
      "outputs": [
        {
          "data": {
            "text/plain": [
              "label\n",
              "2    1864\n",
              "0    1460\n",
              "3     530\n",
              "1      46\n",
              "Name: count, dtype: int64"
            ]
          },
          "execution_count": 35,
          "metadata": {},
          "output_type": "execute_result"
        }
      ],
      "source": [
        "df_rfm['label'].value_counts()"
      ]
    },
    {
      "cell_type": "code",
      "execution_count": 36,
      "metadata": {
        "colab": {
          "base_uri": "https://localhost:8080/",
          "height": 300
        },
        "id": "D9SDm4GFthGW",
        "outputId": "6779796f-74cd-4113-e45d-a6ebc927e491"
      },
      "outputs": [
        {
          "data": {
            "text/html": [
              "<div>\n",
              "<style scoped>\n",
              "    .dataframe tbody tr th:only-of-type {\n",
              "        vertical-align: middle;\n",
              "    }\n",
              "\n",
              "    .dataframe tbody tr th {\n",
              "        vertical-align: top;\n",
              "    }\n",
              "\n",
              "    .dataframe thead th {\n",
              "        text-align: right;\n",
              "    }\n",
              "</style>\n",
              "<table border=\"1\" class=\"dataframe\">\n",
              "  <thead>\n",
              "    <tr style=\"text-align: right;\">\n",
              "      <th></th>\n",
              "      <th>amount</th>\n",
              "      <th>frequency</th>\n",
              "      <th>recency</th>\n",
              "      <th>label</th>\n",
              "    </tr>\n",
              "  </thead>\n",
              "  <tbody>\n",
              "    <tr>\n",
              "      <th>count</th>\n",
              "      <td>1460.000000</td>\n",
              "      <td>1460.000000</td>\n",
              "      <td>1460.000000</td>\n",
              "      <td>1460.0</td>\n",
              "    </tr>\n",
              "    <tr>\n",
              "      <th>mean</th>\n",
              "      <td>289734.071918</td>\n",
              "      <td>1.191096</td>\n",
              "      <td>195.616438</td>\n",
              "      <td>0.0</td>\n",
              "    </tr>\n",
              "    <tr>\n",
              "      <th>std</th>\n",
              "      <td>195902.516137</td>\n",
              "      <td>0.401918</td>\n",
              "      <td>110.497620</td>\n",
              "      <td>0.0</td>\n",
              "    </tr>\n",
              "    <tr>\n",
              "      <th>min</th>\n",
              "      <td>6500.000000</td>\n",
              "      <td>1.000000</td>\n",
              "      <td>0.000000</td>\n",
              "      <td>0.0</td>\n",
              "    </tr>\n",
              "    <tr>\n",
              "      <th>25%</th>\n",
              "      <td>150000.000000</td>\n",
              "      <td>1.000000</td>\n",
              "      <td>100.000000</td>\n",
              "      <td>0.0</td>\n",
              "    </tr>\n",
              "    <tr>\n",
              "      <th>50%</th>\n",
              "      <td>270000.000000</td>\n",
              "      <td>1.000000</td>\n",
              "      <td>190.000000</td>\n",
              "      <td>0.0</td>\n",
              "    </tr>\n",
              "    <tr>\n",
              "      <th>75%</th>\n",
              "      <td>393050.000000</td>\n",
              "      <td>1.000000</td>\n",
              "      <td>295.000000</td>\n",
              "      <td>0.0</td>\n",
              "    </tr>\n",
              "    <tr>\n",
              "      <th>max</th>\n",
              "      <td>910000.000000</td>\n",
              "      <td>3.000000</td>\n",
              "      <td>380.000000</td>\n",
              "      <td>0.0</td>\n",
              "    </tr>\n",
              "  </tbody>\n",
              "</table>\n",
              "</div>"
            ],
            "text/plain": [
              "              amount    frequency      recency   label\n",
              "count    1460.000000  1460.000000  1460.000000  1460.0\n",
              "mean   289734.071918     1.191096   195.616438     0.0\n",
              "std    195902.516137     0.401918   110.497620     0.0\n",
              "min      6500.000000     1.000000     0.000000     0.0\n",
              "25%    150000.000000     1.000000   100.000000     0.0\n",
              "50%    270000.000000     1.000000   190.000000     0.0\n",
              "75%    393050.000000     1.000000   295.000000     0.0\n",
              "max    910000.000000     3.000000   380.000000     0.0"
            ]
          },
          "execution_count": 36,
          "metadata": {},
          "output_type": "execute_result"
        }
      ],
      "source": [
        "df_rfm[df_rfm['label'] == 0].describe()"
      ]
    },
    {
      "cell_type": "code",
      "execution_count": 37,
      "metadata": {
        "colab": {
          "base_uri": "https://localhost:8080/",
          "height": 300
        },
        "id": "kkQMYc3ntpPV",
        "outputId": "bb53cd50-d259-45c0-eb76-c6b43622d292"
      },
      "outputs": [
        {
          "data": {
            "text/html": [
              "<div>\n",
              "<style scoped>\n",
              "    .dataframe tbody tr th:only-of-type {\n",
              "        vertical-align: middle;\n",
              "    }\n",
              "\n",
              "    .dataframe tbody tr th {\n",
              "        vertical-align: top;\n",
              "    }\n",
              "\n",
              "    .dataframe thead th {\n",
              "        text-align: right;\n",
              "    }\n",
              "</style>\n",
              "<table border=\"1\" class=\"dataframe\">\n",
              "  <thead>\n",
              "    <tr style=\"text-align: right;\">\n",
              "      <th></th>\n",
              "      <th>amount</th>\n",
              "      <th>frequency</th>\n",
              "      <th>recency</th>\n",
              "      <th>label</th>\n",
              "    </tr>\n",
              "  </thead>\n",
              "  <tbody>\n",
              "    <tr>\n",
              "      <th>count</th>\n",
              "      <td>4.600000e+01</td>\n",
              "      <td>46.000000</td>\n",
              "      <td>46.000000</td>\n",
              "      <td>46.0</td>\n",
              "    </tr>\n",
              "    <tr>\n",
              "      <th>mean</th>\n",
              "      <td>2.354387e+06</td>\n",
              "      <td>7.978261</td>\n",
              "      <td>244.652174</td>\n",
              "      <td>1.0</td>\n",
              "    </tr>\n",
              "    <tr>\n",
              "      <th>std</th>\n",
              "      <td>1.293835e+06</td>\n",
              "      <td>3.396005</td>\n",
              "      <td>177.446608</td>\n",
              "      <td>0.0</td>\n",
              "    </tr>\n",
              "    <tr>\n",
              "      <th>min</th>\n",
              "      <td>9.326000e+04</td>\n",
              "      <td>4.000000</td>\n",
              "      <td>2.000000</td>\n",
              "      <td>1.0</td>\n",
              "    </tr>\n",
              "    <tr>\n",
              "      <th>25%</th>\n",
              "      <td>1.552322e+06</td>\n",
              "      <td>6.000000</td>\n",
              "      <td>107.000000</td>\n",
              "      <td>1.0</td>\n",
              "    </tr>\n",
              "    <tr>\n",
              "      <th>50%</th>\n",
              "      <td>2.237600e+06</td>\n",
              "      <td>7.000000</td>\n",
              "      <td>200.000000</td>\n",
              "      <td>1.0</td>\n",
              "    </tr>\n",
              "    <tr>\n",
              "      <th>75%</th>\n",
              "      <td>3.000650e+06</td>\n",
              "      <td>9.000000</td>\n",
              "      <td>332.500000</td>\n",
              "      <td>1.0</td>\n",
              "    </tr>\n",
              "    <tr>\n",
              "      <th>max</th>\n",
              "      <td>6.194800e+06</td>\n",
              "      <td>21.000000</td>\n",
              "      <td>644.000000</td>\n",
              "      <td>1.0</td>\n",
              "    </tr>\n",
              "  </tbody>\n",
              "</table>\n",
              "</div>"
            ],
            "text/plain": [
              "             amount  frequency     recency  label\n",
              "count  4.600000e+01  46.000000   46.000000   46.0\n",
              "mean   2.354387e+06   7.978261  244.652174    1.0\n",
              "std    1.293835e+06   3.396005  177.446608    0.0\n",
              "min    9.326000e+04   4.000000    2.000000    1.0\n",
              "25%    1.552322e+06   6.000000  107.000000    1.0\n",
              "50%    2.237600e+06   7.000000  200.000000    1.0\n",
              "75%    3.000650e+06   9.000000  332.500000    1.0\n",
              "max    6.194800e+06  21.000000  644.000000    1.0"
            ]
          },
          "execution_count": 37,
          "metadata": {},
          "output_type": "execute_result"
        }
      ],
      "source": [
        "df_rfm[df_rfm['label'] == 1].describe()"
      ]
    },
    {
      "cell_type": "code",
      "execution_count": 38,
      "metadata": {
        "colab": {
          "base_uri": "https://localhost:8080/",
          "height": 300
        },
        "id": "yibXe8kPtqhn",
        "outputId": "e61bd2fb-e118-4840-f388-ec2763ab19e0"
      },
      "outputs": [
        {
          "data": {
            "text/html": [
              "<div>\n",
              "<style scoped>\n",
              "    .dataframe tbody tr th:only-of-type {\n",
              "        vertical-align: middle;\n",
              "    }\n",
              "\n",
              "    .dataframe tbody tr th {\n",
              "        vertical-align: top;\n",
              "    }\n",
              "\n",
              "    .dataframe thead th {\n",
              "        text-align: right;\n",
              "    }\n",
              "</style>\n",
              "<table border=\"1\" class=\"dataframe\">\n",
              "  <thead>\n",
              "    <tr style=\"text-align: right;\">\n",
              "      <th></th>\n",
              "      <th>amount</th>\n",
              "      <th>frequency</th>\n",
              "      <th>recency</th>\n",
              "      <th>label</th>\n",
              "    </tr>\n",
              "  </thead>\n",
              "  <tbody>\n",
              "    <tr>\n",
              "      <th>count</th>\n",
              "      <td>1.864000e+03</td>\n",
              "      <td>1864.000000</td>\n",
              "      <td>1864.000000</td>\n",
              "      <td>1864.0</td>\n",
              "    </tr>\n",
              "    <tr>\n",
              "      <th>mean</th>\n",
              "      <td>2.780698e+05</td>\n",
              "      <td>1.190451</td>\n",
              "      <td>555.332082</td>\n",
              "      <td>2.0</td>\n",
              "    </tr>\n",
              "    <tr>\n",
              "      <th>std</th>\n",
              "      <td>2.005732e+05</td>\n",
              "      <td>0.437991</td>\n",
              "      <td>93.966741</td>\n",
              "      <td>0.0</td>\n",
              "    </tr>\n",
              "    <tr>\n",
              "      <th>min</th>\n",
              "      <td>2.400000e+03</td>\n",
              "      <td>1.000000</td>\n",
              "      <td>368.000000</td>\n",
              "      <td>2.0</td>\n",
              "    </tr>\n",
              "    <tr>\n",
              "      <th>25%</th>\n",
              "      <td>1.300000e+05</td>\n",
              "      <td>1.000000</td>\n",
              "      <td>483.000000</td>\n",
              "      <td>2.0</td>\n",
              "    </tr>\n",
              "    <tr>\n",
              "      <th>50%</th>\n",
              "      <td>2.880000e+05</td>\n",
              "      <td>1.000000</td>\n",
              "      <td>556.000000</td>\n",
              "      <td>2.0</td>\n",
              "    </tr>\n",
              "    <tr>\n",
              "      <th>75%</th>\n",
              "      <td>3.640000e+05</td>\n",
              "      <td>1.000000</td>\n",
              "      <td>622.000000</td>\n",
              "      <td>2.0</td>\n",
              "    </tr>\n",
              "    <tr>\n",
              "      <th>max</th>\n",
              "      <td>1.166400e+06</td>\n",
              "      <td>4.000000</td>\n",
              "      <td>729.000000</td>\n",
              "      <td>2.0</td>\n",
              "    </tr>\n",
              "  </tbody>\n",
              "</table>\n",
              "</div>"
            ],
            "text/plain": [
              "             amount    frequency      recency   label\n",
              "count  1.864000e+03  1864.000000  1864.000000  1864.0\n",
              "mean   2.780698e+05     1.190451   555.332082     2.0\n",
              "std    2.005732e+05     0.437991    93.966741     0.0\n",
              "min    2.400000e+03     1.000000   368.000000     2.0\n",
              "25%    1.300000e+05     1.000000   483.000000     2.0\n",
              "50%    2.880000e+05     1.000000   556.000000     2.0\n",
              "75%    3.640000e+05     1.000000   622.000000     2.0\n",
              "max    1.166400e+06     4.000000   729.000000     2.0"
            ]
          },
          "execution_count": 38,
          "metadata": {},
          "output_type": "execute_result"
        }
      ],
      "source": [
        "df_rfm[df_rfm['label'] == 2].describe()"
      ]
    },
    {
      "cell_type": "code",
      "execution_count": 39,
      "metadata": {
        "colab": {
          "base_uri": "https://localhost:8080/",
          "height": 300
        },
        "id": "ZYuxJoFwtrmX",
        "outputId": "b2de9d31-66d9-4355-fdb8-8bfd29bf402a"
      },
      "outputs": [
        {
          "data": {
            "text/html": [
              "<div>\n",
              "<style scoped>\n",
              "    .dataframe tbody tr th:only-of-type {\n",
              "        vertical-align: middle;\n",
              "    }\n",
              "\n",
              "    .dataframe tbody tr th {\n",
              "        vertical-align: top;\n",
              "    }\n",
              "\n",
              "    .dataframe thead th {\n",
              "        text-align: right;\n",
              "    }\n",
              "</style>\n",
              "<table border=\"1\" class=\"dataframe\">\n",
              "  <thead>\n",
              "    <tr style=\"text-align: right;\">\n",
              "      <th></th>\n",
              "      <th>amount</th>\n",
              "      <th>frequency</th>\n",
              "      <th>recency</th>\n",
              "      <th>label</th>\n",
              "    </tr>\n",
              "  </thead>\n",
              "  <tbody>\n",
              "    <tr>\n",
              "      <th>count</th>\n",
              "      <td>5.300000e+02</td>\n",
              "      <td>530.000000</td>\n",
              "      <td>530.000000</td>\n",
              "      <td>530.0</td>\n",
              "    </tr>\n",
              "    <tr>\n",
              "      <th>mean</th>\n",
              "      <td>9.981224e+05</td>\n",
              "      <td>2.871698</td>\n",
              "      <td>256.511321</td>\n",
              "      <td>3.0</td>\n",
              "    </tr>\n",
              "    <tr>\n",
              "      <th>std</th>\n",
              "      <td>4.107805e+05</td>\n",
              "      <td>1.114669</td>\n",
              "      <td>160.202769</td>\n",
              "      <td>0.0</td>\n",
              "    </tr>\n",
              "    <tr>\n",
              "      <th>min</th>\n",
              "      <td>2.100000e+04</td>\n",
              "      <td>1.000000</td>\n",
              "      <td>0.000000</td>\n",
              "      <td>3.0</td>\n",
              "    </tr>\n",
              "    <tr>\n",
              "      <th>25%</th>\n",
              "      <td>7.250000e+05</td>\n",
              "      <td>2.000000</td>\n",
              "      <td>124.250000</td>\n",
              "      <td>3.0</td>\n",
              "    </tr>\n",
              "    <tr>\n",
              "      <th>50%</th>\n",
              "      <td>9.180000e+05</td>\n",
              "      <td>3.000000</td>\n",
              "      <td>242.000000</td>\n",
              "      <td>3.0</td>\n",
              "    </tr>\n",
              "    <tr>\n",
              "      <th>75%</th>\n",
              "      <td>1.237900e+06</td>\n",
              "      <td>3.000000</td>\n",
              "      <td>348.750000</td>\n",
              "      <td>3.0</td>\n",
              "    </tr>\n",
              "    <tr>\n",
              "      <th>max</th>\n",
              "      <td>2.423200e+06</td>\n",
              "      <td>8.000000</td>\n",
              "      <td>726.000000</td>\n",
              "      <td>3.0</td>\n",
              "    </tr>\n",
              "  </tbody>\n",
              "</table>\n",
              "</div>"
            ],
            "text/plain": [
              "             amount   frequency     recency  label\n",
              "count  5.300000e+02  530.000000  530.000000  530.0\n",
              "mean   9.981224e+05    2.871698  256.511321    3.0\n",
              "std    4.107805e+05    1.114669  160.202769    0.0\n",
              "min    2.100000e+04    1.000000    0.000000    3.0\n",
              "25%    7.250000e+05    2.000000  124.250000    3.0\n",
              "50%    9.180000e+05    3.000000  242.000000    3.0\n",
              "75%    1.237900e+06    3.000000  348.750000    3.0\n",
              "max    2.423200e+06    8.000000  726.000000    3.0"
            ]
          },
          "execution_count": 39,
          "metadata": {},
          "output_type": "execute_result"
        }
      ],
      "source": [
        "df_rfm[df_rfm['label'] == 3].describe()"
      ]
    },
    {
      "cell_type": "code",
      "execution_count": 40,
      "metadata": {
        "colab": {
          "base_uri": "https://localhost:8080/",
          "height": 206
        },
        "id": "8m4durIzutZw",
        "outputId": "e44f849a-04e3-4682-cec0-1aef674332cd"
      },
      "outputs": [
        {
          "data": {
            "text/html": [
              "<div>\n",
              "<style scoped>\n",
              "    .dataframe tbody tr th:only-of-type {\n",
              "        vertical-align: middle;\n",
              "    }\n",
              "\n",
              "    .dataframe tbody tr th {\n",
              "        vertical-align: top;\n",
              "    }\n",
              "\n",
              "    .dataframe thead th {\n",
              "        text-align: right;\n",
              "    }\n",
              "</style>\n",
              "<table border=\"1\" class=\"dataframe\">\n",
              "  <thead>\n",
              "    <tr style=\"text-align: right;\">\n",
              "      <th></th>\n",
              "      <th>user_id</th>\n",
              "      <th>label</th>\n",
              "    </tr>\n",
              "  </thead>\n",
              "  <tbody>\n",
              "    <tr>\n",
              "      <th>0</th>\n",
              "      <td>001b5eddf7</td>\n",
              "      <td>2</td>\n",
              "    </tr>\n",
              "    <tr>\n",
              "      <th>1</th>\n",
              "      <td>0023cedbf9</td>\n",
              "      <td>2</td>\n",
              "    </tr>\n",
              "    <tr>\n",
              "      <th>2</th>\n",
              "      <td>0024ae4898</td>\n",
              "      <td>2</td>\n",
              "    </tr>\n",
              "    <tr>\n",
              "      <th>3</th>\n",
              "      <td>002d8b5849</td>\n",
              "      <td>0</td>\n",
              "    </tr>\n",
              "    <tr>\n",
              "      <th>4</th>\n",
              "      <td>003e99a26e</td>\n",
              "      <td>2</td>\n",
              "    </tr>\n",
              "  </tbody>\n",
              "</table>\n",
              "</div>"
            ],
            "text/plain": [
              "      user_id  label\n",
              "0  001b5eddf7      2\n",
              "1  0023cedbf9      2\n",
              "2  0024ae4898      2\n",
              "3  002d8b5849      0\n",
              "4  003e99a26e      2"
            ]
          },
          "execution_count": 40,
          "metadata": {},
          "output_type": "execute_result"
        }
      ],
      "source": [
        "df_label = df_rfm[['user_id', 'label']]\n",
        "\n",
        "df_label.head()"
      ]
    },
    {
      "cell_type": "code",
      "execution_count": 41,
      "metadata": {
        "colab": {
          "base_uri": "https://localhost:8080/",
          "height": 424
        },
        "id": "DwQAKes9vSQK",
        "outputId": "9b0c618e-1be9-4dbd-8114-e8f8928459c3"
      },
      "outputs": [
        {
          "data": {
            "text/html": [
              "<div>\n",
              "<style scoped>\n",
              "    .dataframe tbody tr th:only-of-type {\n",
              "        vertical-align: middle;\n",
              "    }\n",
              "\n",
              "    .dataframe tbody tr th {\n",
              "        vertical-align: top;\n",
              "    }\n",
              "\n",
              "    .dataframe thead th {\n",
              "        text-align: right;\n",
              "    }\n",
              "</style>\n",
              "<table border=\"1\" class=\"dataframe\">\n",
              "  <thead>\n",
              "    <tr style=\"text-align: right;\">\n",
              "      <th></th>\n",
              "      <th>Unnamed: 0</th>\n",
              "      <th>trans_date</th>\n",
              "      <th>acc_created_date</th>\n",
              "      <th>trans_id</th>\n",
              "      <th>user_id</th>\n",
              "      <th>brand</th>\n",
              "      <th>product_name</th>\n",
              "      <th>quantity</th>\n",
              "      <th>sub_total</th>\n",
              "      <th>label</th>\n",
              "    </tr>\n",
              "  </thead>\n",
              "  <tbody>\n",
              "    <tr>\n",
              "      <th>0</th>\n",
              "      <td>0</td>\n",
              "      <td>2021-03-01 09:42:48</td>\n",
              "      <td>2021-03-01 09:39:28</td>\n",
              "      <td>INV-44477208-20195</td>\n",
              "      <td>6ae66dba4a</td>\n",
              "      <td>Geo Magazine</td>\n",
              "      <td>Geo Magazine 12 Month Printed Subscription</td>\n",
              "      <td>1</td>\n",
              "      <td>576000</td>\n",
              "      <td>2</td>\n",
              "    </tr>\n",
              "    <tr>\n",
              "      <th>1</th>\n",
              "      <td>1</td>\n",
              "      <td>2021-03-01 09:42:48</td>\n",
              "      <td>2021-03-01 09:39:28</td>\n",
              "      <td>INV-84260125-20195</td>\n",
              "      <td>6ae66dba4a</td>\n",
              "      <td>Insight Magazine</td>\n",
              "      <td>Insight Magazine 6 Month Printed Subscription</td>\n",
              "      <td>1</td>\n",
              "      <td>120000</td>\n",
              "      <td>2</td>\n",
              "    </tr>\n",
              "    <tr>\n",
              "      <th>2</th>\n",
              "      <td>2</td>\n",
              "      <td>2021-03-01 10:05:18</td>\n",
              "      <td>2021-03-01 05:10:49</td>\n",
              "      <td>INV-21702404-20196</td>\n",
              "      <td>fecd37e3fa</td>\n",
              "      <td>Kids Creativity Magazine</td>\n",
              "      <td>Kids Creativity Magazine 6 Month Printed Subsc...</td>\n",
              "      <td>1</td>\n",
              "      <td>145600</td>\n",
              "      <td>2</td>\n",
              "    </tr>\n",
              "    <tr>\n",
              "      <th>3</th>\n",
              "      <td>3</td>\n",
              "      <td>2021-03-01 15:58:35</td>\n",
              "      <td>2021-02-25 18:38:31</td>\n",
              "      <td>INV-46817248-20197</td>\n",
              "      <td>702981082e</td>\n",
              "      <td>Kids Magazine</td>\n",
              "      <td>Kids Magazine 6 Month Printed Subscription</td>\n",
              "      <td>1</td>\n",
              "      <td>291200</td>\n",
              "      <td>2</td>\n",
              "    </tr>\n",
              "    <tr>\n",
              "      <th>4</th>\n",
              "      <td>4</td>\n",
              "      <td>2021-03-01 16:19:54</td>\n",
              "      <td>2021-03-01 16:16:50</td>\n",
              "      <td>INV-47598177-20198</td>\n",
              "      <td>d1fbab7576</td>\n",
              "      <td>Kindergarten Magazine</td>\n",
              "      <td>Kindergarten Magazine 6 Month Printed Subscrip...</td>\n",
              "      <td>1</td>\n",
              "      <td>182000</td>\n",
              "      <td>2</td>\n",
              "    </tr>\n",
              "    <tr>\n",
              "      <th>...</th>\n",
              "      <td>...</td>\n",
              "      <td>...</td>\n",
              "      <td>...</td>\n",
              "      <td>...</td>\n",
              "      <td>...</td>\n",
              "      <td>...</td>\n",
              "      <td>...</td>\n",
              "      <td>...</td>\n",
              "      <td>...</td>\n",
              "      <td>...</td>\n",
              "    </tr>\n",
              "    <tr>\n",
              "      <th>95</th>\n",
              "      <td>75</td>\n",
              "      <td>2021-03-10 13:10:21</td>\n",
              "      <td>2021-03-10 13:10:21</td>\n",
              "      <td>INV-95572864-20314</td>\n",
              "      <td>18ad493172</td>\n",
              "      <td>Kids Magazine</td>\n",
              "      <td>Kids Magazine 3 Month E-Magazine Subscription</td>\n",
              "      <td>1</td>\n",
              "      <td>91000</td>\n",
              "      <td>2</td>\n",
              "    </tr>\n",
              "    <tr>\n",
              "      <th>96</th>\n",
              "      <td>76</td>\n",
              "      <td>2021-03-10 14:06:17</td>\n",
              "      <td>2020-12-05 16:29:50</td>\n",
              "      <td>INV-30053744-20315</td>\n",
              "      <td>9b15027be5</td>\n",
              "      <td>Kids Magazine</td>\n",
              "      <td>Kids Magazine 6 Month Printed Subscription</td>\n",
              "      <td>1</td>\n",
              "      <td>291200</td>\n",
              "      <td>2</td>\n",
              "    </tr>\n",
              "    <tr>\n",
              "      <th>97</th>\n",
              "      <td>1879</td>\n",
              "      <td>2021-09-08 13:59:23</td>\n",
              "      <td>2020-12-05 16:29:50</td>\n",
              "      <td>INV-25511903-25805</td>\n",
              "      <td>9b15027be5</td>\n",
              "      <td>Kids Magazine</td>\n",
              "      <td>Kids Magazine 6 Month Printed Subscription</td>\n",
              "      <td>1</td>\n",
              "      <td>364000</td>\n",
              "      <td>2</td>\n",
              "    </tr>\n",
              "    <tr>\n",
              "      <th>98</th>\n",
              "      <td>77</td>\n",
              "      <td>2021-03-10 16:49:35</td>\n",
              "      <td>2021-03-10 16:19:27</td>\n",
              "      <td>INV-69780329-20316</td>\n",
              "      <td>7fbdd02dc1</td>\n",
              "      <td>Kids Creativity Magazine</td>\n",
              "      <td>Kids Creativity Magazine 6 Month Printed Subsc...</td>\n",
              "      <td>1</td>\n",
              "      <td>145600</td>\n",
              "      <td>3</td>\n",
              "    </tr>\n",
              "    <tr>\n",
              "      <th>99</th>\n",
              "      <td>1870</td>\n",
              "      <td>2021-09-07 11:23:42</td>\n",
              "      <td>2021-03-10 16:19:27</td>\n",
              "      <td>INV-11050756-25785</td>\n",
              "      <td>7fbdd02dc1</td>\n",
              "      <td>Kids Creativity Magazine</td>\n",
              "      <td>Kids Creativity Magazine 6 Month Printed Subsc...</td>\n",
              "      <td>1</td>\n",
              "      <td>182000</td>\n",
              "      <td>3</td>\n",
              "    </tr>\n",
              "  </tbody>\n",
              "</table>\n",
              "<p>100 rows × 10 columns</p>\n",
              "</div>"
            ],
            "text/plain": [
              "    Unnamed: 0           trans_date     acc_created_date            trans_id  \\\n",
              "0            0  2021-03-01 09:42:48  2021-03-01 09:39:28  INV-44477208-20195   \n",
              "1            1  2021-03-01 09:42:48  2021-03-01 09:39:28  INV-84260125-20195   \n",
              "2            2  2021-03-01 10:05:18  2021-03-01 05:10:49  INV-21702404-20196   \n",
              "3            3  2021-03-01 15:58:35  2021-02-25 18:38:31  INV-46817248-20197   \n",
              "4            4  2021-03-01 16:19:54  2021-03-01 16:16:50  INV-47598177-20198   \n",
              "..         ...                  ...                  ...                 ...   \n",
              "95          75  2021-03-10 13:10:21  2021-03-10 13:10:21  INV-95572864-20314   \n",
              "96          76  2021-03-10 14:06:17  2020-12-05 16:29:50  INV-30053744-20315   \n",
              "97        1879  2021-09-08 13:59:23  2020-12-05 16:29:50  INV-25511903-25805   \n",
              "98          77  2021-03-10 16:49:35  2021-03-10 16:19:27  INV-69780329-20316   \n",
              "99        1870  2021-09-07 11:23:42  2021-03-10 16:19:27  INV-11050756-25785   \n",
              "\n",
              "       user_id                     brand  \\\n",
              "0   6ae66dba4a              Geo Magazine   \n",
              "1   6ae66dba4a          Insight Magazine   \n",
              "2   fecd37e3fa  Kids Creativity Magazine   \n",
              "3   702981082e             Kids Magazine   \n",
              "4   d1fbab7576     Kindergarten Magazine   \n",
              "..         ...                       ...   \n",
              "95  18ad493172             Kids Magazine   \n",
              "96  9b15027be5             Kids Magazine   \n",
              "97  9b15027be5             Kids Magazine   \n",
              "98  7fbdd02dc1  Kids Creativity Magazine   \n",
              "99  7fbdd02dc1  Kids Creativity Magazine   \n",
              "\n",
              "                                         product_name  quantity  sub_total  \\\n",
              "0          Geo Magazine 12 Month Printed Subscription         1     576000   \n",
              "1       Insight Magazine 6 Month Printed Subscription         1     120000   \n",
              "2   Kids Creativity Magazine 6 Month Printed Subsc...         1     145600   \n",
              "3          Kids Magazine 6 Month Printed Subscription         1     291200   \n",
              "4   Kindergarten Magazine 6 Month Printed Subscrip...         1     182000   \n",
              "..                                                ...       ...        ...   \n",
              "95      Kids Magazine 3 Month E-Magazine Subscription         1      91000   \n",
              "96         Kids Magazine 6 Month Printed Subscription         1     291200   \n",
              "97         Kids Magazine 6 Month Printed Subscription         1     364000   \n",
              "98  Kids Creativity Magazine 6 Month Printed Subsc...         1     145600   \n",
              "99  Kids Creativity Magazine 6 Month Printed Subsc...         1     182000   \n",
              "\n",
              "    label  \n",
              "0       2  \n",
              "1       2  \n",
              "2       2  \n",
              "3       2  \n",
              "4       2  \n",
              "..    ...  \n",
              "95      2  \n",
              "96      2  \n",
              "97      2  \n",
              "98      3  \n",
              "99      3  \n",
              "\n",
              "[100 rows x 10 columns]"
            ]
          },
          "execution_count": 41,
          "metadata": {},
          "output_type": "execute_result"
        }
      ],
      "source": [
        "df = df.merge(df_label, how='inner', on='user_id')\n",
        "\n",
        "df.head(100)"
      ]
    },
    {
      "cell_type": "code",
      "execution_count": 42,
      "metadata": {
        "colab": {
          "base_uri": "https://localhost:8080/"
        },
        "id": "cZZG1WQAxv5E",
        "outputId": "7ba248c6-b3f0-482e-a499-b7c7614dc6c5"
      },
      "outputs": [
        {
          "data": {
            "text/plain": [
              "label\n",
              "2    2219\n",
              "0    1739\n",
              "3    1522\n",
              "1     367\n",
              "Name: count, dtype: int64"
            ]
          },
          "execution_count": 42,
          "metadata": {},
          "output_type": "execute_result"
        }
      ],
      "source": [
        "df['label'].value_counts()"
      ]
    }
  ],
  "metadata": {
    "colab": {
      "provenance": []
    },
    "kernelspec": {
      "display_name": "Python 3",
      "name": "python3"
    },
    "language_info": {
      "codemirror_mode": {
        "name": "ipython",
        "version": 3
      },
      "file_extension": ".py",
      "mimetype": "text/x-python",
      "name": "python",
      "nbconvert_exporter": "python",
      "pygments_lexer": "ipython3",
      "version": "3.11.5"
    }
  },
  "nbformat": 4,
  "nbformat_minor": 0
}
